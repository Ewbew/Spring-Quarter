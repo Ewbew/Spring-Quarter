{
 "cells": [
  {
   "cell_type": "markdown",
   "metadata": {},
   "source": [
    "Before you turn this problem in, make sure everything runs as expected. First, **restart the kernel** (in the menubar, select Kernel$\\rightarrow$Restart) and then **run all cells** (in the menubar, select Cell$\\rightarrow$Run All).\n",
    "\n",
    "Make sure you fill in any place that says `YOUR CODE HERE` or \"YOUR ANSWER HERE\", as well as your name and collaborators below:"
   ]
  },
  {
   "cell_type": "code",
   "execution_count": 131,
   "metadata": {},
   "outputs": [],
   "source": [
    "NAME = \"Otto Sejrskild Santesson\"\n",
    "COLLABORATORS = \"\""
   ]
  },
  {
   "cell_type": "markdown",
   "metadata": {},
   "source": [
    "---"
   ]
  },
  {
   "cell_type": "markdown",
   "metadata": {
    "deletable": false,
    "editable": false,
    "nbgrader": {
     "cell_type": "markdown",
     "checksum": "6919bfc70cc9dbc7a5f0c1c23178c722",
     "grade": false,
     "grade_id": "cell-dbb6fdb6b1744b82",
     "locked": true,
     "schema_version": 3,
     "solution": false
    }
   },
   "source": [
    "# Homework 2: Classes\n",
    "## CSE 30 Spring 2023\n",
    "\n",
    "## Luca de Alfaro\n",
    "Copyright Luca de Alfaro.  CC-BY-NC License."
   ]
  },
  {
   "cell_type": "markdown",
   "metadata": {
    "deletable": false,
    "editable": false,
    "nbgrader": {
     "cell_type": "markdown",
     "checksum": "5f82984997d7afef57f42d229ee27855",
     "grade": false,
     "grade_id": "cell-50914773ad0259b5",
     "locked": true,
     "schema_version": 3,
     "solution": false
    }
   },
   "source": [
    "# Instructions\n",
    "\n",
    "## The Format of a Python Notebook\n",
    "\n",
    "*This* is a Python Notebook homework.  It consists of various types of cells: \n",
    "\n",
    "* Text: you can read them :-) \n",
    "* Code: you should run them, as they may set up the problems that you are asked to solve.\n",
    "* **Solution:** These are cells where you should enter a solution.  You will see a marker in these cells that indicates where your work should be inserted.  \n",
    "\n",
    "```\n",
    "    # YOUR CODE HERE\n",
    "```    \n",
    "\n",
    "* Test: These cells contains some tests, and are worth some points.  You should run the cells as a way to debug your code, and to see if you understood the question, and whether the output of your code is produced in the correct format.  The notebook contains both the tests you see, and some secret ones that you cannot see.  This prevents you from using the simple trick of hard-coding the desired output. "
   ]
  },
  {
   "cell_type": "markdown",
   "metadata": {
    "deletable": false,
    "editable": false,
    "nbgrader": {
     "cell_type": "markdown",
     "checksum": "22590e09d4dae50f80534b67999d3f4a",
     "grade": false,
     "grade_id": "cell-1bb70b7d3233d718",
     "locked": true,
     "schema_version": 3,
     "solution": false
    }
   },
   "source": [
    "## Running your notebook\n",
    "\n",
    "**Running a cell.**\n",
    "To run a cell of the notebook, either click on the icon to its top left, or press shift-ENTER (or shift-Return). \n",
    "\n",
    "**Disconnections.**\n",
    "When you open a notebook, Google automatically connects a server to the web page, so that you can type code in your browser, and the code is run on that server.  If you are idle for more than a few minutes, Google keeps all you typed (none of your work is lost), but the server may be disconnected due to inactivity.  When the server is disconnected, it loses all memory of anything you have defined (functions, classes, variables, etc). \n",
    "\n",
    "If you do get disconnected, select Runtime > Run All (or Runtime > Run before) to ensure everything is defined as it should. \n",
    "\n",
    "### DO NOT\n",
    "\n",
    "* **Do not add, delete, reorder, remove cells.**  This breaks the relationship between your work, and the grading system, making it impossible to grade your work.\n",
    "\n",
    "### Debugging\n",
    "To debug, you can add print statements to your code.  They should have no effect on the tests.  Just be careful that if you add too many of them inside loops and similar, you may cause for some of the tests we will do such an enormous amount of output that grading might timeout (and you may not get credit for an answer). \n",
    "\n",
    "### Asking for help\n",
    "The tutors and TAs should have access to the notebook; otherwise, you can always share a link with them.  In this way, they can take a look at your work and help you with debugging and with any questions you might have."
   ]
  },
  {
   "cell_type": "markdown",
   "metadata": {
    "deletable": false,
    "editable": false,
    "nbgrader": {
     "cell_type": "markdown",
     "checksum": "7e36b41b6d71b9e34aa00244fef06db5",
     "grade": false,
     "grade_id": "cell-54625b39c071e1f",
     "locked": true,
     "schema_version": 3,
     "solution": false
    }
   },
   "source": [
    "## Submitting Your Notebook\n",
    "\n",
    "To submit:\n",
    "* **Check your work.** Before submitting, select Runtime > Run All, and check that you don't get any unexpected error. \n",
    "* **Download the notebook.** Click on File > Download .ipynb . **Do not download the .py file.**\n",
    "* **Upload.** Upload the .ipynb file to **[this Google form](https://docs.google.com/forms/d/e/1FAIpQLSd5Z4jCk0BYdz_Z8_eXS2rDl4EivmQVzSfC-AjhL0HcBEqMDw/viewform?usp=sf_link)**. "
   ]
  },
  {
   "cell_type": "markdown",
   "metadata": {
    "deletable": false,
    "editable": false,
    "nbgrader": {
     "cell_type": "markdown",
     "checksum": "2b6dc65bffae4468614cf23464117a5c",
     "grade": false,
     "grade_id": "cell-fb4538dff97cfa23",
     "locked": true,
     "schema_version": 3,
     "solution": false
    }
   },
   "source": [
    "## The Test\n",
    "\n",
    "There are 3 questions, for a total of 60 points. "
   ]
  },
  {
   "cell_type": "markdown",
   "metadata": {
    "deletable": false,
    "editable": false,
    "nbgrader": {
     "cell_type": "markdown",
     "checksum": "d5c2ca75f812185b6fa9e1876367840b",
     "grade": false,
     "grade_id": "cell-1f83890ce099c593",
     "locked": true,
     "schema_version": 3,
     "solution": false
    }
   },
   "source": [
    "## Question 1: Inheritance\n",
    "\n",
    "Here is a class `BagOfWords` that implements the [bag of words](https://en.wikipedia.org/wiki/Bag-of-words_model) model of text, or a simplification of it, in any case.  You create a bag of words by passing to it a text string, like: \n",
    "\n",
    "    bag = BagOfWords(\"Hello I would like to travel to Naples, is Vesuvius erupting?\")\n",
    "    \n",
    "and then you can ask how many times a word occurred in the text string:\n",
    "\n",
    "    bag.occurrences(\"to\")\n",
    "    \n",
    "Note that I am using a [defaultdict](https://docs.python.org/3/library/collections.html#collections.defaultdict), which is a dictionary where keys that are not found are associated with a default value (in this case, 0, as it is initialized as `defaultdict(int)`). "
   ]
  },
  {
   "cell_type": "code",
   "execution_count": 132,
   "metadata": {
    "deletable": false,
    "editable": false,
    "nbgrader": {
     "cell_type": "code",
     "checksum": "68515e7cde88625febd94068660ce4e0",
     "grade": false,
     "grade_id": "cell-f692445ba74f3cc",
     "locked": true,
     "schema_version": 3,
     "solution": false
    }
   },
   "outputs": [],
   "source": [
    "from collections import defaultdict\n",
    "\n",
    "class BagOfWords(object):\n",
    "\n",
    "    def __init__(self, text):\n",
    "        words = self._text_split(text)\n",
    "        self.counts = defaultdict(int)\n",
    "        for w in words:\n",
    "            self.counts[w] += 1\n",
    "\n",
    "    def occurrences(self, word):\n",
    "        return self.counts[word]\n",
    "\n",
    "    def _text_split(self, text):\n",
    "        return text.split()\n"
   ]
  },
  {
   "cell_type": "code",
   "execution_count": 133,
   "metadata": {
    "deletable": false,
    "editable": false,
    "nbgrader": {
     "cell_type": "code",
     "checksum": "03f4a03e30c8e3a30fdd377512114f78",
     "grade": false,
     "grade_id": "cell-69b6bcf9334ac269",
     "locked": true,
     "schema_version": 3,
     "solution": false
    }
   },
   "outputs": [
    {
     "data": {
      "text/plain": [
       "2"
      ]
     },
     "execution_count": 133,
     "metadata": {},
     "output_type": "execute_result"
    }
   ],
   "source": [
    "bag = BagOfWords(\"Hello I would like to travel to Naples, is Vesuvius erupting?\")\n",
    "bag.occurrences(\"to\")\n"
   ]
  },
  {
   "cell_type": "markdown",
   "metadata": {
    "deletable": false,
    "editable": false,
    "nbgrader": {
     "cell_type": "markdown",
     "checksum": "f4ded0f9262bea5fb48366cf3cb0b0f4",
     "grade": false,
     "grade_id": "cell-38405e0579de86fe",
     "locked": true,
     "schema_version": 3,
     "solution": false
    }
   },
   "source": [
    "This works, but it's really a bit rudimentary; for instance: "
   ]
  },
  {
   "cell_type": "code",
   "execution_count": 134,
   "metadata": {
    "deletable": false,
    "editable": false,
    "nbgrader": {
     "cell_type": "code",
     "checksum": "989c98354265db094aa02fead49bb22f",
     "grade": false,
     "grade_id": "cell-e13b67dea0496e9e",
     "locked": true,
     "schema_version": 3,
     "solution": false
    }
   },
   "outputs": [
    {
     "data": {
      "text/plain": [
       "0"
      ]
     },
     "execution_count": 134,
     "metadata": {},
     "output_type": "execute_result"
    }
   ],
   "source": [
    "bag.occurrences(\"Naples\")\n"
   ]
  },
  {
   "cell_type": "markdown",
   "metadata": {
    "deletable": false,
    "editable": false,
    "nbgrader": {
     "cell_type": "markdown",
     "checksum": "e35c68040d7bb6101333dd159b68abef",
     "grade": false,
     "grade_id": "cell-a11709987313d3e3",
     "locked": true,
     "schema_version": 3,
     "solution": false
    }
   },
   "source": [
    "The problem here is that the `.split()` function splits according to whitespace, and so the bag of words does not contain `\"Naples\"`, but `\"Naples,\"`, including the comma.  Here is a function that splits text in a better way, taking care of eliminating punctuation, and also turns words into lowercase.  It uses [regular expressions](https://docs.python.org/3/library/re.html). "
   ]
  },
  {
   "cell_type": "code",
   "execution_count": 135,
   "metadata": {
    "deletable": false,
    "editable": false,
    "nbgrader": {
     "cell_type": "code",
     "checksum": "ea3bf19e1b21c0a4f07a61a582673d87",
     "grade": false,
     "grade_id": "cell-a2b655e2ab5d30c8",
     "locked": true,
     "schema_version": 3,
     "solution": false
    }
   },
   "outputs": [],
   "source": [
    "import re\n",
    "\n",
    "def split_into_words(text):\n",
    "    return [w.lower() for w in re.findall(r\"[\\w']+\", text)]\n"
   ]
  },
  {
   "cell_type": "code",
   "execution_count": 136,
   "metadata": {
    "deletable": false,
    "editable": false,
    "nbgrader": {
     "cell_type": "code",
     "checksum": "128cafdbc071ed7aae7be66bc90bcf4c",
     "grade": false,
     "grade_id": "cell-ab4a710f6882237",
     "locked": true,
     "schema_version": 3,
     "solution": false
    }
   },
   "outputs": [
    {
     "data": {
      "text/plain": [
       "['hello',\n",
       " 'i',\n",
       " 'would',\n",
       " 'like',\n",
       " 'to',\n",
       " 'travel',\n",
       " 'to',\n",
       " 'naples',\n",
       " 'is',\n",
       " 'vesuvius',\n",
       " 'erupting']"
      ]
     },
     "execution_count": 136,
     "metadata": {},
     "output_type": "execute_result"
    }
   ],
   "source": [
    "split_into_words(\"Hello I would like to travel to Naples, is Vesuvius erupting?\")\n"
   ]
  },
  {
   "cell_type": "markdown",
   "metadata": {
    "deletable": false,
    "editable": false,
    "nbgrader": {
     "cell_type": "markdown",
     "checksum": "340dc7ef1538f20946a8c2a1a22edb32",
     "grade": false,
     "grade_id": "cell-5c5da5572966b0c",
     "locked": true,
     "schema_version": 3,
     "solution": false
    }
   },
   "source": [
    "Ok, this works better.  Now here is the challenge: write a subclass `BetterBag` of `BagOfWords` that uses this function, instead of `.split()`, to split text into words. \n",
    "There are two ways of doing this.  One is to do it... brute force.  But the real challenge is: \n",
    "\n",
    "_Can you do it without writing the `__init__` method for `BetterBag`?  Can you do it so that all you need is 2 lines of code?_ \n",
    "\n",
    "Think about it.  You don't lose points by using a more verbose or less elegant solution.  But try to think at how you could do it.  And btw, do use my function `split_into_words` unchanged, otherwise some test might fail."
   ]
  },
  {
   "cell_type": "code",
   "execution_count": 137,
   "metadata": {
    "deletable": false,
    "nbgrader": {
     "cell_type": "code",
     "checksum": "919047acaab78b3ed12aabeb56c00b5a",
     "grade": false,
     "grade_id": "cell-f57ec4a51735a3ff",
     "locked": false,
     "schema_version": 3,
     "solution": true
    }
   },
   "outputs": [],
   "source": [
    "class BetterBag(BagOfWords):\n",
    "    def _text_split(self, text):\n",
    "        return split_into_words(text)\n"
   ]
  },
  {
   "cell_type": "code",
   "execution_count": 138,
   "metadata": {
    "deletable": false,
    "nbgrader": {
     "cell_type": "code",
     "checksum": "d220efe550addc6142939550bccf56f1",
     "grade": false,
     "grade_id": "cell-6ee633bfbb0b7f52",
     "locked": false,
     "schema_version": 3,
     "solution": true
    }
   },
   "outputs": [],
   "source": [
    "# This is a place where you can write additional tests to help you test\n",
    "# your code, or debugging code, if you need.  You can also leave it blank.\n",
    "\n",
    "# YOUR CODE HERE\n"
   ]
  },
  {
   "cell_type": "markdown",
   "metadata": {
    "deletable": false,
    "editable": false,
    "nbgrader": {
     "cell_type": "markdown",
     "checksum": "166e8745998401230d8681e7946b96a4",
     "grade": false,
     "grade_id": "cell-f15e5ef3524b5d9a",
     "locked": true,
     "schema_version": 3,
     "solution": false
    }
   },
   "source": [
    "Let's check that `BetterBag` works as intended."
   ]
  },
  {
   "cell_type": "code",
   "execution_count": 139,
   "metadata": {
    "deletable": false,
    "editable": false,
    "nbgrader": {
     "cell_type": "code",
     "checksum": "0bdad9ca0d76c4ce04a709d1e4718aa8",
     "grade": false,
     "grade_id": "cell-8ba71303b531a0d",
     "locked": true,
     "schema_version": 3,
     "solution": false
    }
   },
   "outputs": [],
   "source": [
    "# Let me define the function I use for testing.  Don't change this cell.\n",
    "\n",
    "def check_equal(x, y, msg=None):\n",
    "    if x == y:\n",
    "        if msg is None:\n",
    "            print(\"Success\")\n",
    "        else:\n",
    "            print(msg, \": Success\")\n",
    "    else:\n",
    "        if msg is None:\n",
    "            print(\"Error:\")\n",
    "        else:\n",
    "            print(\"Error in\", msg, \":\")\n",
    "        print(\"    Your answer was:\", x)\n",
    "        print(\"    Correct answer: \", y)\n",
    "    assert x == y, \"%r and %r are different\" % (x, y)\n"
   ]
  },
  {
   "cell_type": "code",
   "execution_count": 140,
   "metadata": {
    "deletable": false,
    "editable": false,
    "nbgrader": {
     "cell_type": "code",
     "checksum": "b5dd3dd7a579e08d1c22f67707ec06d9",
     "grade": true,
     "grade_id": "cell-ed87e2916c3f6a57",
     "locked": true,
     "points": 10,
     "schema_version": 3,
     "solution": false
    }
   },
   "outputs": [
    {
     "name": "stdout",
     "output_type": "stream",
     "text": [
      "Success\n",
      "Success\n",
      "Success\n"
     ]
    }
   ],
   "source": [
    "bb = BetterBag(\"Hello I would like to travel to Naples, is Vesuvius erupting?\")\n",
    "check_equal(bb.occurrences(\"naples\"), 1)\n",
    "check_equal(bb.occurrences(\"i\"), 1)\n",
    "check_equal(bb.occurrences(\"to\"), 2)\n",
    "\n"
   ]
  },
  {
   "cell_type": "markdown",
   "metadata": {
    "deletable": false,
    "editable": false,
    "nbgrader": {
     "cell_type": "markdown",
     "checksum": "660481add5fa18661d26c59c640da169",
     "grade": false,
     "grade_id": "cell-e26b88c73f03dca7",
     "locked": true,
     "schema_version": 3,
     "solution": false
    }
   },
   "source": [
    "## Question 2: Modulo Arithmetic\n",
    "\n",
    "We will implement a class `ModInt` that implements integers with a specified modulus. \n",
    "We can then create numbers modulo 7 using: \n",
    "\n",
    "    x = ModInt(7, modulus=10)\n",
    "    y = ModInt(5, modulus=10)\n",
    "    \n",
    "and if we do `x + y`, we should obtain a number that is equal to `ModInt(2, modulus=10)`, because: \n",
    "\n",
    "$$\n",
    "(5 + 7) \\mod 10 = 12 \\mod 10 = 2. \n",
    "$$\n",
    "\n",
    "In other words, to compute $x \\oplus y$ for $x, y$ that are `ModInt`, you do like this: \n",
    "\n",
    "* First, you check that both $x$ and $y$ share the same modulus (10 in the example above); if they do not, you raise a `TypeError` exception. \n",
    "* Second, you compute $x \\oplus y$ as if $x$ and $y$ were integers, and then you compute the result $\\mod n$, where $n$ is the _common_ modulus of $x$ and $y$. \n",
    "\n",
    "Some implementation notes:  \n",
    "\n",
    "* To compute $x \\mod n$, you write in Python `x % n`. \n",
    "\n",
    "* To raise a `TypeError`, you can simply do: \n",
    "\n",
    "    raise TypeError(\"Operation between numbers with different modulus\")\n",
    "  \n",
    "* We will have you implement only the `+`, `-`, `*` operators, as well as the integer division `//`, which is implemented via the [`__floordiv__` operator](https://docs.python.org/3/reference/datamodel.html#object.__floordiv__). \n",
    "\n",
    "You might want to refer to the implementation of `Complex` in the class book chapter for an example. "
   ]
  },
  {
   "cell_type": "code",
   "execution_count": 141,
   "metadata": {
    "deletable": false,
    "nbgrader": {
     "cell_type": "code",
     "checksum": "d1b3dd6d367f3b9dad165caf3695b597",
     "grade": false,
     "grade_id": "cell-d66ce04162a29fd0",
     "locked": false,
     "schema_version": 3,
     "solution": true
    }
   },
   "outputs": [],
   "source": [
    "class ModInt(object):\n",
    "    def __init__(self, x, modulus=10):\n",
    "        \"\"\"Creates an integer with a specified modulus.\"\"\"\n",
    "        assert modulus > 0\n",
    "        self.rawx = x\n",
    "        self.x = x % modulus\n",
    "        self.modulus = modulus\n",
    "\n",
    "    def __eq__(self, other):\n",
    "        \"\"\"We define equality, so that we can easily write tests.\"\"\"\n",
    "        return self.x == other.x and self.modulus == other.modulus\n",
    "\n",
    "    def __repr__(self):\n",
    "        \"\"\"To print them in a meaningful way\"\"\"\n",
    "        return \"({} mod {})\".format(self.x, self.modulus)\n",
    "    \n",
    "    def __add__(self, other):\n",
    "        if self.modulus != other.modulus:\n",
    "            raise TypeError(\"Operation between numbers with different modulus\")\n",
    "        return ModInt((self.rawx + other.rawx) % self.modulus, self.modulus)\n",
    "    \n",
    "    def __sub__(self, other):\n",
    "        if self.modulus != other.modulus:\n",
    "            raise TypeError(\"Operation between numbers with different modulus\")\n",
    "        return ModInt((self.rawx - other.rawx) % self.modulus, self.modulus)\n",
    "    \n",
    "    def __mul__(self, other):\n",
    "        if self.modulus != other.modulus:\n",
    "            raise TypeError(\"Operation between numbers with different modulus\")\n",
    "        return ModInt((self.rawx * other.rawx) % self.modulus, self.modulus)\n",
    "    \n",
    "    def __floordiv__(self, other):\n",
    "        if self.modulus != other.modulus:\n",
    "            raise TypeError(\"Operation between numbers with different modulus\")\n",
    "        return ModInt((self.x // other.x) % self.modulus, self.modulus)\n",
    "\n",
    "    # Here you have to add the class methods to make +, -, *, // work.\n",
    "    # YOUR CODE HERE\n"
   ]
  },
  {
   "cell_type": "code",
   "execution_count": 142,
   "metadata": {
    "deletable": false,
    "nbgrader": {
     "cell_type": "code",
     "checksum": "be9d044c106938389666ab307b55ea17",
     "grade": false,
     "grade_id": "cell-c4dab937804a5913",
     "locked": false,
     "schema_version": 3,
     "solution": true
    }
   },
   "outputs": [
    {
     "data": {
      "text/plain": [
       "3"
      ]
     },
     "execution_count": 142,
     "metadata": {},
     "output_type": "execute_result"
    }
   ],
   "source": [
    "# This is a place where you can write additional tests to help you test\n",
    "# your code, or debugging code, if you need.  You can also leave it blank.\n",
    "\n",
    "# YOUR CODE HERE\n",
    "ModInt(70, modulus=43) // ModInt(8, modulus=43)\n",
    "#70//8\n",
    "70%43\n",
    "27//8"
   ]
  },
  {
   "cell_type": "markdown",
   "metadata": {
    "deletable": false,
    "editable": false,
    "nbgrader": {
     "cell_type": "markdown",
     "checksum": "b5fa96b6a5e8be975d35d35367a755ad",
     "grade": false,
     "grade_id": "cell-f274b68efdda1576",
     "locked": true,
     "schema_version": 3,
     "solution": false
    }
   },
   "source": [
    "Here are some tests. "
   ]
  },
  {
   "cell_type": "code",
   "execution_count": 143,
   "metadata": {
    "deletable": false,
    "editable": false,
    "nbgrader": {
     "cell_type": "code",
     "checksum": "324f0173c156d7c8d96e4e81281995a3",
     "grade": true,
     "grade_id": "cell-6000ba3ea4a7bbb2",
     "locked": true,
     "points": 10,
     "schema_version": 3,
     "solution": false
    }
   },
   "outputs": [
    {
     "name": "stdout",
     "output_type": "stream",
     "text": [
      "Success\n",
      "Success\n"
     ]
    }
   ],
   "source": [
    "## 5 points: tests for addition.\n",
    "\n",
    "check_equal(ModInt(6) + ModInt(7), ModInt(13))\n",
    "# Modulus 5 should also work.\n",
    "check_equal(ModInt(2, modulus=5) + ModInt(4, modulus=5), ModInt(1, modulus=5))\n",
    "\n"
   ]
  },
  {
   "cell_type": "code",
   "execution_count": 144,
   "metadata": {
    "deletable": false,
    "editable": false,
    "nbgrader": {
     "cell_type": "code",
     "checksum": "c19eb6f63485988dd98f758e26918858",
     "grade": true,
     "grade_id": "cell-5e7316a367647307",
     "locked": true,
     "points": 10,
     "schema_version": 3,
     "solution": false
    }
   },
   "outputs": [
    {
     "name": "stdout",
     "output_type": "stream",
     "text": [
      "Success\n",
      "Success\n",
      "Success\n",
      "Success\n"
     ]
    }
   ],
   "source": [
    "### 10 points: tests for the other operations\n",
    "\n",
    "check_equal(ModInt(4) * ModInt(8), ModInt(2))\n",
    "check_equal(ModInt(9, modulus=7) - ModInt(3, modulus=7), ModInt(6, modulus=7))\n",
    "check_equal(ModInt(1, modulus=7) - ModInt(3, modulus=7), ModInt(-2, modulus=7))\n",
    "check_equal(ModInt(70, modulus=43) // ModInt(8, modulus=43), ModInt(3, modulus=43))\n",
    "\n"
   ]
  },
  {
   "cell_type": "code",
   "execution_count": 145,
   "metadata": {
    "deletable": false,
    "editable": false,
    "nbgrader": {
     "cell_type": "code",
     "checksum": "69be0a8388b38c1d483d55e85bbcf901",
     "grade": false,
     "grade_id": "cell-6bd729c0e7005c3f",
     "locked": true,
     "schema_version": 3,
     "solution": false
    }
   },
   "outputs": [
    {
     "name": "stdout",
     "output_type": "stream",
     "text": [
      "Success\n",
      "Success\n",
      "Success\n"
     ]
    }
   ],
   "source": [
    "### 10 points: sanity checks.\n",
    "\n",
    "x = ModInt(5)\n",
    "y = ModInt(6)\n",
    "z = x + y\n",
    "check_equal(x, ModInt(5))\n",
    "check_equal(y, ModInt(6))\n",
    "check_equal(z, ModInt(1))\n"
   ]
  },
  {
   "cell_type": "code",
   "execution_count": 146,
   "metadata": {
    "deletable": false,
    "editable": false,
    "nbgrader": {
     "cell_type": "code",
     "checksum": "9359c39e21870c9978d48525eb72a8e0",
     "grade": true,
     "grade_id": "cell-9db1c9099ba620df",
     "locked": true,
     "points": 10,
     "schema_version": 3,
     "solution": false
    }
   },
   "outputs": [
    {
     "name": "stdout",
     "output_type": "stream",
     "text": [
      "Success\n",
      "Success\n"
     ]
    }
   ],
   "source": [
    "### 5 points: raising TypeError\n",
    "\n",
    "raised = False\n",
    "try:\n",
    "    x = ModInt(4, modulus=6) + ModInt(5, modulus=7)\n",
    "except TypeError:\n",
    "    raised = True\n",
    "check_equal(raised, True)\n",
    "\n",
    "raised = False\n",
    "try:\n",
    "    x = ModInt(4, modulus=6) * ModInt(5, modulus=7)\n",
    "except TypeError:\n",
    "    raised = True\n",
    "check_equal(raised, True)\n",
    "\n"
   ]
  },
  {
   "cell_type": "markdown",
   "metadata": {
    "deletable": false,
    "editable": false,
    "nbgrader": {
     "cell_type": "markdown",
     "checksum": "ec74c0283cb6e533c2395c7f168f9621",
     "grade": false,
     "grade_id": "cell-1406913818a8bf62",
     "locked": true,
     "schema_version": 3,
     "solution": false
    }
   },
   "source": [
    "## Question 3: Implementing a History Dictionary\n",
    "\n",
    "In this question, you have to implement a dictionary that keeps the history of values that have been associated with each key.  You initialize the dictionary via: \n",
    "\n",
    "    d = HDict()\n",
    "\n",
    "then you can update it via: \n",
    "\n",
    "    d['cat'] = 4\n",
    "    d['dog'] = 6\n",
    "    d['cat'] = 32 # This updates what was assigned to the key 'cat'\n",
    "    \n",
    "and you can retrieve the histories for each key via: \n",
    "\n",
    "    d.history('cat')\n",
    "    \n",
    "which yields the list of values assigned to key `'cat'` in chronological order: \n",
    "\n",
    "    [4, 32]\n",
    "    \n",
    "and `d.history('dog')`, which yields simply `[6]` as the key `'dog'` was only assigned to value `6`. \n",
    "\n",
    "To implement this, you might want to look at the book chapter on classes, and specifically, at the timestapmed dictionary example. \n",
    "In implementing it, you can assume that one never passes anything to the initializer. \n",
    "My implementation consists of 10 lines of code."
   ]
  },
  {
   "cell_type": "code",
   "execution_count": 147,
   "metadata": {
    "deletable": false,
    "nbgrader": {
     "cell_type": "code",
     "checksum": "ff68c9c76a76b09420ade9bf95884e8a",
     "grade": false,
     "grade_id": "cell-651c40064175d656",
     "locked": false,
     "schema_version": 3,
     "solution": true
    }
   },
   "outputs": [],
   "source": [
    "class HDict(dict):\n",
    "    def __init__(self):\n",
    "        super().__init__()\n",
    "        self.history_dict = {}\n",
    "\n",
    "    def __setitem__(self, key, value): \n",
    "        if key not in self.history_dict:\n",
    "            self.history_dict[key] = []\n",
    "        self.history_dict[key].append(value)\n",
    "        super().__setitem__(key, value)\n",
    "\n",
    "    def history(self, key):\n",
    "        return self.history_dict[key]\n"
   ]
  },
  {
   "cell_type": "code",
   "execution_count": 148,
   "metadata": {
    "deletable": false,
    "nbgrader": {
     "cell_type": "code",
     "checksum": "8947a21e47d0810875505f6590be3a52",
     "grade": false,
     "grade_id": "cell-4788fb0124f9b717",
     "locked": false,
     "schema_version": 3,
     "solution": true
    }
   },
   "outputs": [
    {
     "data": {
      "text/plain": [
       "[1, 2, 3]"
      ]
     },
     "execution_count": 148,
     "metadata": {},
     "output_type": "execute_result"
    }
   ],
   "source": [
    "# This is a place where you can write additional tests to help you test\n",
    "# your code, or debugging code, if you need.  You can also leave it blank.\n",
    "\n",
    "# YOUR CODE HERE\n",
    "\n",
    "skrrt_dict = {\"a\": [1,2,3], \"b\": 2, \"c\": 3}\n",
    "# skrrt_dict.get(\"a\")\n",
    "skrrt_dict[\"a\"]    \n"
   ]
  },
  {
   "cell_type": "markdown",
   "metadata": {
    "deletable": false,
    "editable": false,
    "nbgrader": {
     "cell_type": "markdown",
     "checksum": "8dcd0f12c9f01c764dde1885f63c1939",
     "grade": false,
     "grade_id": "cell-4af6a3e3bcabaad8",
     "locked": true,
     "schema_version": 3,
     "solution": false
    }
   },
   "source": [
    "Here are some tests. "
   ]
  },
  {
   "cell_type": "code",
   "execution_count": 149,
   "metadata": {
    "deletable": false,
    "editable": false,
    "nbgrader": {
     "cell_type": "code",
     "checksum": "81a856c8e6f4661c879f4830e66c81f5",
     "grade": true,
     "grade_id": "cell-980602203566c1d6",
     "locked": true,
     "points": 10,
     "schema_version": 3,
     "solution": false
    }
   },
   "outputs": [
    {
     "name": "stdout",
     "output_type": "stream",
     "text": [
      "Success\n",
      "Success\n",
      "Success\n",
      "Success\n",
      "Success\n"
     ]
    }
   ],
   "source": [
    "### 10 points: remembering the values.\n",
    "\n",
    "d = HDict()\n",
    "d['cat'] = 4\n",
    "check_equal(d['cat'], 4)\n",
    "d['dog'] = 5\n",
    "check_equal(d['dog'], 5)\n",
    "check_equal(d['cat'], 4)\n",
    "d['cat'] = 6\n",
    "check_equal(d['dog'], 5)\n",
    "check_equal(d['cat'], 6)\n",
    "\n"
   ]
  },
  {
   "cell_type": "code",
   "execution_count": 150,
   "metadata": {
    "deletable": false,
    "editable": false,
    "nbgrader": {
     "cell_type": "code",
     "checksum": "c91159db959600951759b29a6f9fd2bd",
     "grade": true,
     "grade_id": "cell-6cf40824e02f4195",
     "locked": true,
     "points": 10,
     "schema_version": 3,
     "solution": false
    }
   },
   "outputs": [
    {
     "name": "stdout",
     "output_type": "stream",
     "text": [
      "Success\n",
      "Success\n"
     ]
    }
   ],
   "source": [
    "## 10 points: remembering history.\n",
    "\n",
    "d = HDict()\n",
    "d['cat'] = 4\n",
    "d['dog'] = 5\n",
    "d['cat'] = 6\n",
    "check_equal(d.history('dog'), [5])\n",
    "check_equal(d.history('cat'), [4, 6])\n",
    "\n"
   ]
  }
 ],
 "metadata": {
  "kernelspec": {
   "display_name": "Python 3 (ipykernel)",
   "language": "python",
   "name": "python3"
  },
  "language_info": {
   "codemirror_mode": {
    "name": "ipython",
    "version": 3
   },
   "file_extension": ".py",
   "mimetype": "text/x-python",
   "name": "python",
   "nbconvert_exporter": "python",
   "pygments_lexer": "ipython3",
   "version": "3.10.0"
  }
 },
 "nbformat": 4,
 "nbformat_minor": 2
}
