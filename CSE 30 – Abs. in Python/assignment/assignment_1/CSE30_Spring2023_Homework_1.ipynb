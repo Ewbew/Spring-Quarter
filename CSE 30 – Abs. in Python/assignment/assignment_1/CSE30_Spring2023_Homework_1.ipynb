{
 "cells": [
  {
   "attachments": {},
   "cell_type": "markdown",
   "metadata": {},
   "source": [
    "Before you turn this problem in, make sure everything runs as expected. First, **restart the kernel** (in the menubar, select Kernel$\\rightarrow$Restart) and then **run all cells** (in the menubar, select Cell$\\rightarrow$Run All).\n",
    "\n",
    "Make sure you fill in any place that says `YOUR CODE HERE` or \"YOUR ANSWER HERE\", as well as your name and collaborators below:"
   ]
  },
  {
   "cell_type": "code",
   "execution_count": 1,
   "metadata": {},
   "outputs": [],
   "source": [
    "NAME = \"Otto Sejrskild Santesson\"\n",
    "COLLABORATORS = \"\""
   ]
  },
  {
   "attachments": {},
   "cell_type": "markdown",
   "metadata": {},
   "source": [
    "---"
   ]
  },
  {
   "attachments": {},
   "cell_type": "markdown",
   "metadata": {
    "deletable": false,
    "editable": false,
    "nbgrader": {
     "cell_type": "markdown",
     "checksum": "1598432691a43cec7dd11a666a7c8946",
     "grade": false,
     "grade_id": "cell-848f6457ce6a1bdc",
     "locked": true,
     "schema_version": 3,
     "solution": false
    }
   },
   "source": [
    "# Homework 1: Python Basics\n",
    "## CSE 20 Fall 2020\n",
    "\n",
    "## Luca de Alfaro\n",
    "Copyright Luca de Alfaro, 2020.  CC-BY-NC License."
   ]
  },
  {
   "attachments": {},
   "cell_type": "markdown",
   "metadata": {
    "deletable": false,
    "editable": false,
    "nbgrader": {
     "cell_type": "markdown",
     "checksum": "7d4e91ed4e8b5518952be480290bcd47",
     "grade": false,
     "grade_id": "cell-b928c6b457baa837",
     "locked": true,
     "schema_version": 3,
     "solution": false
    }
   },
   "source": [
    "# Instructions\n",
    "\n",
    "## The Format of a Python Notebook\n",
    "\n",
    "*This* is a Python Notebook homework.  It consists of various types of cells: \n",
    "\n",
    "* Text: you can read them :-) \n",
    "* Code: you should run them, as they may set up the problems that you are asked to solve.\n",
    "* **Solution:** These are cells where you should enter a solution.  You will see a marker in these cells that indicates where your work should be inserted.  \n",
    "\n",
    "```\n",
    "    # YOUR CODE HERE\n",
    "```    \n",
    "\n",
    "* Test: These cells contains some tests, and are worth some points.  You should run the cells as a way to debug your code, and to see if you understood the question, and whether the output of your code is produced in the correct format.  The notebook contains both the tests you see, and some secret ones that you cannot see.  This prevents you from using the simple trick of hard-coding the desired output. "
   ]
  },
  {
   "attachments": {},
   "cell_type": "markdown",
   "metadata": {
    "deletable": false,
    "editable": false,
    "nbgrader": {
     "cell_type": "markdown",
     "checksum": "894dbdeb484f823bc308e09bfed2fcf1",
     "grade": false,
     "grade_id": "cell-2db61cd428206d68",
     "locked": true,
     "schema_version": 3,
     "solution": false
    }
   },
   "source": [
    "## Working on Your Notebook in Colab\n",
    "\n",
    "Please work on your notebook directly on Colab.  Please don't download it and work directly on your laptop.  Working on Colab has two key features: \n",
    "\n",
    "* The notebook is shared with the TAs, tutors, and with the instructor.  So when you report that you have difficulties, they can open your notebook and help you. \n",
    "* The notebook preserves the revision history, which is useful for many reasons, among which that none of your work can be lost, and we can see how you reached the solution.\n",
    "\n",
    "### Using Colab for the first time (in this class)\n",
    "\n",
    "**Set indent to 4 spaces.**\n",
    "If this is the first time you use Colab, click on the gear icon on the top right, then on Editor.  There, set the indentation width to 4 spaces: this will keep your code correctly indented, which is very important.  You can configure the other options at your pleasure. \n",
    "\n",
    "### Running your notebook\n",
    "\n",
    "**Running a cell.**\n",
    "To run a cell of the notebook, either click on the icon to its top left, or press shift-ENTER (or shift-Return). \n",
    "\n",
    "**Disconnections.**\n",
    "When you open a notebook, Google automatically connects a server to the web page, so that you can type code in your browser, and the code is run on that server.  If you are idle for more than a few minutes, Google keeps all you typed (none of your work is lost), but the server may be disconnected due to inactivity.  When the server is disconnected, it loses all memory of anything you have defined (functions, classes, variables, etc). \n",
    "\n",
    "If you do get disconnected, select Runtime > Run All (or Runtime > Run before) to ensure everything is defined as it should. \n",
    "\n",
    "### DO NOT\n",
    "\n",
    "* **Do not add, delete, reorder, remove cells.**  This breaks the relationship between your work, and the grading system, making it impossible to grade your work.\n",
    "\n",
    "### Debugging\n",
    "To debug, you can add print statements to your code.  They should have no effect on the tests.  Just be careful that if you add too many of them inside loops and similar, you may cause for some of the tests we will do such an enormous amount of output that grading might timeout (and you may not get credit for an answer). \n",
    "\n",
    "### Asking for help\n",
    "The tutors and TAs should have access to the notebook; otherwise, you can always share a link with them.  In this way, they can take a look at your work and help you with debugging and with any questions you might have."
   ]
  },
  {
   "attachments": {},
   "cell_type": "markdown",
   "metadata": {
    "deletable": false,
    "editable": false,
    "nbgrader": {
     "cell_type": "markdown",
     "checksum": "3561f1049348a4b14d96cba3b625996b",
     "grade": false,
     "grade_id": "cell-61ba9fd494b656db",
     "locked": true,
     "schema_version": 3,
     "solution": false
    }
   },
   "source": [
    "## Submitting Your Notebook\n",
    "\n",
    "To submit:\n",
    "* **Check your work.** Before submitting, select Runtime > Run All, and check that you don't get any unexpected error. \n",
    "* **Download the notebook.** Click on File > Download .ipynb . **Do not download the .py file.**\n",
    "* **Upload.** Upload the .ipynb file to [this Google form](https://forms.gle/V55pDXK7CheXycgdA). \n",
    "* **Deadline:** Friday April 21, **11pm (NOT midnight)**.\n"
   ]
  },
  {
   "attachments": {},
   "cell_type": "markdown",
   "metadata": {
    "deletable": false,
    "editable": false,
    "nbgrader": {
     "cell_type": "markdown",
     "checksum": "d7957b18ee4a69f71be96ce2402e23aa",
     "grade": false,
     "grade_id": "cell-b920eea9cf01ac4d",
     "locked": true,
     "schema_version": 3,
     "solution": false
    }
   },
   "source": [
    "## What Happens Next? \n",
    "In 2-3 days, the instructor will autograde all submitted homework.  You will find, in a Google Drive folder shared with you, a version of your notebook annotated with your total grade for the assignment, and the details of the grading for each question. "
   ]
  },
  {
   "attachments": {},
   "cell_type": "markdown",
   "metadata": {
    "deletable": false,
    "editable": false,
    "nbgrader": {
     "cell_type": "markdown",
     "checksum": "c708f2ffce1ed93cbc6fbbe3bf5b92f5",
     "grade": false,
     "grade_id": "cell-6f1549215ed29a55",
     "locked": true,
     "schema_version": 3,
     "solution": false
    }
   },
   "source": [
    "## The Test\n",
    "\n",
    "Here the real homework begins!"
   ]
  },
  {
   "cell_type": "code",
   "execution_count": 2,
   "metadata": {
    "deletable": false,
    "editable": false,
    "nbgrader": {
     "cell_type": "code",
     "checksum": "a4a70fad893614e6dc74619c542b7711",
     "grade": false,
     "grade_id": "cell-80b26f0306b89532",
     "locked": true,
     "schema_version": 3,
     "solution": false
    }
   },
   "outputs": [],
   "source": [
    "# Let me define the function I use for testing.  Don't change this cell.\n",
    "\n",
    "def check_equal(x, y, msg=None):\n",
    "    if x == y:\n",
    "        if msg is None:\n",
    "            print(\"Success\")\n",
    "        else:\n",
    "            print(msg, \": Success\")\n",
    "    else:\n",
    "        if msg is None:\n",
    "            print(\"Error:\")\n",
    "        else:\n",
    "            print(\"Error in\", msg, \":\")\n",
    "        print(\"    Your answer was:\", x)\n",
    "        print(\"    Correct answer: \", y)\n",
    "    assert x == y, \"%r and %r are different\" % (x, y)"
   ]
  },
  {
   "attachments": {},
   "cell_type": "markdown",
   "metadata": {
    "deletable": false,
    "editable": false,
    "nbgrader": {
     "cell_type": "markdown",
     "checksum": "0cd1d24c6a8167a06b2bc0ee48b6ccca",
     "grade": false,
     "grade_id": "cell-d229f437220c046",
     "locked": true,
     "schema_version": 3,
     "solution": false
    }
   },
   "source": [
    "## Problem 1: common word pairs\n",
    "\n",
    "The goal is to find the set of consecutive word pairs in common between two sentences. \n",
    "We will get there in steps, guiding you to the solution. "
   ]
  },
  {
   "cell_type": "code",
   "execution_count": 3,
   "metadata": {
    "deletable": false,
    "editable": false,
    "nbgrader": {
     "cell_type": "code",
     "checksum": "98880b45b1b91444ede1e4cf3356e09c",
     "grade": false,
     "grade_id": "cell-6aad6a0de3f4a171",
     "locked": true,
     "schema_version": 3,
     "solution": false
    }
   },
   "outputs": [
    {
     "name": "stdout",
     "output_type": "stream",
     "text": [
      "['I', 'love', 'eating', 'bananas']\n"
     ]
    }
   ],
   "source": [
    "# First, notice that .split() splits a sentence according to white space, returning a list.\n",
    "\n",
    "print(\"I love eating bananas\".split())"
   ]
  },
  {
   "cell_type": "code",
   "execution_count": 4,
   "metadata": {
    "deletable": false,
    "editable": false,
    "nbgrader": {
     "cell_type": "code",
     "checksum": "05041f957a16db28510897c8f29f7891",
     "grade": false,
     "grade_id": "cell-e755646d380822e2",
     "locked": true,
     "schema_version": 3,
     "solution": false
    }
   },
   "outputs": [
    {
     "name": "stdout",
     "output_type": "stream",
     "text": [
      "['eating', 'bananas']\n"
     ]
    }
   ],
   "source": [
    "# Second, recall that in Python, a[i:k] gives you the sub-list of a consisting\n",
    "# of a[i], a[i+1], ..., a[k-1].\n",
    "a = \"I love eating bananas\".split()\n",
    "print(a[2:4])"
   ]
  },
  {
   "attachments": {},
   "cell_type": "markdown",
   "metadata": {
    "deletable": false,
    "editable": false,
    "nbgrader": {
     "cell_type": "markdown",
     "checksum": "2e16529f8589e967ea306fcf2007f215",
     "grade": false,
     "grade_id": "cell-fd6aefb9e4b70500",
     "locked": true,
     "schema_version": 3,
     "solution": false
    }
   },
   "source": [
    "### Problem 1 part 1: generating the list of consecutive words in a sentence.\n",
    "\n",
    "You are given a sentence, with words separated by white space.  You need to write a function `word_pairs` that outputs the list of consecutive words.  For example, if the input is: \n",
    "\n",
    "    \"I love eating bananas\"\n",
    "    \n",
    "Then the function `word_pairs` should output:\n",
    "\n",
    "    [(\"I\", \"love\"), (\"love\", \"eating\"), (\"eating\", \"bananas\")]\n",
    "    \n",
    "If the input sentence consists of fewer than two words, then `word_pairs` should output the empty list. \n",
    "**Be careful:** the result should be a list of tuples, not a list of lists."
   ]
  },
  {
   "cell_type": "code",
   "execution_count": 5,
   "metadata": {
    "deletable": false,
    "nbgrader": {
     "cell_type": "code",
     "checksum": "6d2dbb1aa6a91f61927fcf6fdc78dc91",
     "grade": false,
     "grade_id": "cell-48d47a36383a3730",
     "locked": false,
     "schema_version": 3,
     "solution": true
    }
   },
   "outputs": [],
   "source": [
    "def word_pairs(sentence):\n",
    "    sentence_split = sentence.split()\n",
    "    if sentence_split == []:\n",
    "        return []\n",
    "    else:\n",
    "        word_pair_list = []\n",
    "        for word in range(int(len(sentence_split)-1)):\n",
    "            word_pair_list.append((sentence_split[word],sentence_split[word+1]))\n",
    "        return word_pair_list"
   ]
  },
  {
   "cell_type": "code",
   "execution_count": 6,
   "metadata": {
    "deletable": false,
    "editable": false,
    "nbgrader": {
     "cell_type": "code",
     "checksum": "152a2f6d9b61c98e6725bc9994e0727a",
     "grade": true,
     "grade_id": "cell-1eb20e7f0525b78",
     "locked": true,
     "points": 10,
     "schema_version": 3,
     "solution": false
    }
   },
   "outputs": [
    {
     "name": "stdout",
     "output_type": "stream",
     "text": [
      "Success\n",
      "Success\n",
      "Success\n"
     ]
    }
   ],
   "source": [
    "# Base cases.  5 points.\n",
    "\n",
    "check_equal(word_pairs(\" \"), [])\n",
    "check_equal(word_pairs(\"woohoo\"), [])\n",
    "check_equal(word_pairs(\"I am\"), [(\"I\", \"am\")])"
   ]
  },
  {
   "cell_type": "code",
   "execution_count": 7,
   "metadata": {
    "deletable": false,
    "editable": false,
    "nbgrader": {
     "cell_type": "code",
     "checksum": "3cbb1dbf83e39c770305a9fde1506240",
     "grade": false,
     "grade_id": "cell-a62001717078c774",
     "locked": true,
     "schema_version": 3,
     "solution": false
    }
   },
   "outputs": [
    {
     "name": "stdout",
     "output_type": "stream",
     "text": [
      "Success\n",
      "Success\n"
     ]
    }
   ],
   "source": [
    "# Longer sentences.  5 points.\n",
    "\n",
    "check_equal(word_pairs(\"I love bananas\"), [(\"I\", \"love\"), (\"love\", \"bananas\")])\n",
    "check_equal(word_pairs(\"a b c d e\"), [(\"a\", \"b\"), (\"b\", \"c\"), (\"c\", \"d\"), (\"d\", \"e\")])"
   ]
  },
  {
   "attachments": {},
   "cell_type": "markdown",
   "metadata": {
    "deletable": false,
    "editable": false,
    "nbgrader": {
     "cell_type": "markdown",
     "checksum": "5ff9c5cab9733bf0a44de28156e83e24",
     "grade": false,
     "grade_id": "cell-d7657e6bc78aa8ec",
     "locked": true,
     "schema_version": 3,
     "solution": false
    }
   },
   "source": [
    "Good.  Now, the idea is to use the `word_pair` function to compute the _set_ of consecutive word pairs common to two sentences.  The idea is to compute the word pairs of each list, turn the list into a set, and take the instersection."
   ]
  },
  {
   "cell_type": "code",
   "execution_count": 8,
   "metadata": {
    "deletable": false,
    "nbgrader": {
     "cell_type": "code",
     "checksum": "3a70ed2bf7dcf53b9fdab55b14c841ca",
     "grade": false,
     "grade_id": "cell-6e8d65d99ec1d1a",
     "locked": false,
     "schema_version": 3,
     "solution": true
    }
   },
   "outputs": [],
   "source": [
    "def common_word_pairs(sentence1, sentence2):\n",
    "    \"\"\"Returns the set of common consecutive word pairs in two sentences.\"\"\"\n",
    "    set1 = set()\n",
    "    for i in word_pairs(sentence1):\n",
    "        set1.add(i)\n",
    "\n",
    "    set2 = set()\n",
    "    for i in word_pairs(sentence2):\n",
    "        set2.add(i)\n",
    "\n",
    "    return set1.intersection(set2)"
   ]
  },
  {
   "cell_type": "code",
   "execution_count": 9,
   "metadata": {
    "deletable": false,
    "editable": false,
    "nbgrader": {
     "cell_type": "code",
     "checksum": "baf9b9cf88cc45a48200af79c9eea40c",
     "grade": true,
     "grade_id": "cell-3ad3e461f72ef9be",
     "locked": true,
     "points": 10,
     "schema_version": 3,
     "solution": false
    }
   },
   "outputs": [
    {
     "name": "stdout",
     "output_type": "stream",
     "text": [
      "Success\n",
      "Success\n",
      "Success\n",
      "Success\n"
     ]
    }
   ],
   "source": [
    "s1 = \"I love bananas\"\n",
    "s2 = \"I love to eat bananas\"\n",
    "s3 = \"Nobody truly dislikes to eat bananas\"\n",
    "s4 = \"I love to eat anything but bananas\"\n",
    "s5 = \"I like mangos more than bananas\"\n",
    "\n",
    "check_equal(common_word_pairs(s1, s2), {(\"I\", \"love\")})\n",
    "check_equal(common_word_pairs(s2, s3), {(\"to\", \"eat\"), (\"eat\", \"bananas\")})\n",
    "check_equal(common_word_pairs(s3, s4), {(\"to\", \"eat\")})\n",
    "check_equal(common_word_pairs(s1, s5), set())"
   ]
  },
  {
   "attachments": {},
   "cell_type": "markdown",
   "metadata": {
    "deletable": false,
    "editable": false,
    "nbgrader": {
     "cell_type": "markdown",
     "checksum": "94b68bfccd7acfbe3ea5b8386671c963",
     "grade": false,
     "grade_id": "cell-3904cbbaa00bf108",
     "locked": true,
     "schema_version": 3,
     "solution": false
    }
   },
   "source": [
    "## Problem 2: Composing dictionaries\n",
    "\n",
    "A dictionary $f$ with a set of keys $K$ can be thought of a mapping from keys to values, that is, as a one-to-many partial function $f: K \\mapsto V$ from $K$ to a set $V$ of values.  The [_domain_](https://en.wikipedia.org/wiki/Domain_of_a_function) ${\\rm Dom}(f) = K$ of $f$ is the set of keys of the dictionary $f$. \n",
    "\n",
    "Given two functions $f$ and $g$, their [composition](https://en.wikipedia.org/wiki/Function_composition) $g \\circ f$ is obtained by applying first $f$, then $g$:\n",
    "\n",
    "$$\n",
    "  (g \\circ f) (x) = g(f(x)) \\; .\n",
    "$$\n",
    "\n",
    "Note that an element $x$ that is in the domain (set of keys) of $f$ is also in the domain of $g \\circ f$ only if $f(x)$ is in the domain of $g$ (otherwise, we cannot apply $g$ to $f(x)$. \n",
    "We can write this in formulas, stating that the domain ${\\rm Dom}(g \\circ f)$ consists of all $x \\in \\mathrm{Dom}(f)$ such that $f(x) \\in \\mathrm{Dom}(g)$, or: \n",
    "\n",
    "$$\n",
    "  \\mathrm{Dom}(g \\circ f) = \\{ x \\in \\mathrm{Dom}(f) \\mid f(x) \\in \\mathrm{Dom}(g) \\} \\; .\n",
    "$$\n",
    "\n",
    "Your task is, given two dictionaries $f$ and $g$, to compute the dictionary of $g \\circ f$.\n",
    "\n"
   ]
  },
  {
   "cell_type": "code",
   "execution_count": 10,
   "metadata": {
    "deletable": false,
    "nbgrader": {
     "cell_type": "code",
     "checksum": "495bfb83b28c734bd9d3114689c7992e",
     "grade": false,
     "grade_id": "cell-4df581632c3e151d",
     "locked": false,
     "schema_version": 3,
     "solution": true
    }
   },
   "outputs": [],
   "source": [
    "def compose(f, g):\n",
    "    \"\"\"Given two dictionaries f and g, returns the dictionary of g \\circ f.\"\"\"\n",
    "    return {key:g[f[key]] for key in f if f[key] in g.keys() }"
   ]
  },
  {
   "cell_type": "code",
   "execution_count": 11,
   "metadata": {
    "deletable": false,
    "editable": false,
    "nbgrader": {
     "cell_type": "code",
     "checksum": "bd6c4c11f2c26cd3dafb4e6d3ac43a9a",
     "grade": true,
     "grade_id": "cell-68b238e0ce600c47",
     "locked": true,
     "points": 10,
     "schema_version": 3,
     "solution": false
    }
   },
   "outputs": [
    {
     "name": "stdout",
     "output_type": "stream",
     "text": [
      "Success\n",
      "Success\n"
     ]
    }
   ],
   "source": [
    "# Tests for composition. 10 points.\n",
    "\n",
    "f = {'cat': 4, 'dog': 4, 'bird': 2, \"centipede\": 100}\n",
    "g = {4: \"quadruped\", 2: \"biped\"}\n",
    "\n",
    "check_equal(compose(f, g), {\"cat\": \"quadruped\", \"dog\": \"quadruped\", \"bird\": \"biped\"})\n",
    "\n",
    "f = {0: 1, 1: 2}\n",
    "g = {10: 11, 11: 12}\n",
    "check_equal(compose(f, g), {})"
   ]
  },
  {
   "attachments": {},
   "cell_type": "markdown",
   "metadata": {
    "deletable": false,
    "editable": false,
    "nbgrader": {
     "cell_type": "markdown",
     "checksum": "9be2b344da6f7d3fd6ebe54996c184ab",
     "grade": false,
     "grade_id": "cell-fd0659ab121bf770",
     "locked": true,
     "schema_version": 3,
     "solution": false
    }
   },
   "source": [
    "## Problem 3: Classes\n",
    "\n",
    "Here is a class that represents a square in the plane.  You create a square by specifying the center, and the edge.  Then, you can ask for the coordinates of the four quarters.  It's given here just as an example."
   ]
  },
  {
   "cell_type": "code",
   "execution_count": 12,
   "metadata": {
    "deletable": false,
    "editable": false,
    "nbgrader": {
     "cell_type": "code",
     "checksum": "886e131b3452242659a0a04469f8a018",
     "grade": false,
     "grade_id": "cell-2480325e07403d77",
     "locked": true,
     "schema_version": 3,
     "solution": false
    }
   },
   "outputs": [],
   "source": [
    "class Square(object):\n",
    "\n",
    "    def __init__(self, center, edge):\n",
    "        assert isinstance(center, tuple)\n",
    "        assert len(center) == 2\n",
    "        self.center = center\n",
    "        self.semiedge = edge / 2\n",
    "\n",
    "    @property\n",
    "    def edge(self):\n",
    "        return 2 * semiedge\n",
    "\n",
    "    @property\n",
    "    def ur(self):\n",
    "        \"\"\"Returns the coordinates of the upper right corner.\"\"\"\n",
    "        (x, y) = self.center\n",
    "        return x + self.semiedge, y + self.semiedge\n",
    "\n",
    "    @property\n",
    "    def lr(self):\n",
    "        \"\"\"Returns the coordinates of the upper right corner.\"\"\"\n",
    "        (x, y) = self.center\n",
    "        return x + self.semiedge, y - self.semiedge\n",
    "\n",
    "    @property\n",
    "    def ul(self):\n",
    "        \"\"\"Returns the coordinates of the upper right corner.\"\"\"\n",
    "        (x, y) = self.center\n",
    "        return x - self.semiedge, y + self.semiedge\n",
    "\n",
    "    @property\n",
    "    def ll(self):\n",
    "        \"\"\"Returns the coordinates of the upper right corner.\"\"\"\n",
    "        (x, y) = self.center\n",
    "        return x - self.semiedge, y - self.semiedge\n",
    "\n",
    "    def contains(self, point):\n",
    "        \"\"\"Returns whether the point is in the square.\"\"\"\n",
    "        x, y = point\n",
    "        cx, cy = self.center\n",
    "        return abs(x - cx) < self.semiedge and abs(y - cy) < self.semiedge"
   ]
  },
  {
   "attachments": {},
   "cell_type": "markdown",
   "metadata": {
    "deletable": false,
    "editable": false,
    "nbgrader": {
     "cell_type": "markdown",
     "checksum": "4d1cb0851e78d1204b52ebd37df36d7e",
     "grade": false,
     "grade_id": "cell-82f11bb37bea9dab",
     "locked": true,
     "schema_version": 3,
     "solution": false
    }
   },
   "source": [
    "### Defining a Circle\n",
    "\n",
    "Now it's your turn.  Define a `Circle` class.  A circle is created similarly to a square, specifying center and radius, as in: \n",
    "\n",
    "    Circle((2, 3), 4)\n",
    "    \n",
    "(a circle of radius 4 with center in (2, 3)). \n",
    "\n",
    "For a circle `c`, you should implement the following methods: \n",
    "\n",
    "* `c.contains_point(p)`: returns True/False according to whether the circle contains a given point `p`, specified as a pair (x, y) of coordinates, as in `p = (2, 3)`.  \n",
    "* `c.contains_square(s)`: returns True/False according to whether the square `s` is completely contained in the circle `c`.\n",
    "* `contains(x)`: returns True/False according to whether the circle contains the argument `x`, which can be either a square a point, or another Circle. \n",
    "\n",
    "_A little geometry reminder:_  \n",
    "\n",
    "* A circle contains a square iff it contains all four corners of the square. \n",
    "* A circle $c_1$ contains a circle $c_2$ iff the distance between the centers of $c_1$ and $c_2$, plus the radius of $c_2$, is smaller than the radius of $c_1$. \n"
   ]
  },
  {
   "cell_type": "code",
   "execution_count": 13,
   "metadata": {
    "deletable": false,
    "editable": false,
    "nbgrader": {
     "cell_type": "code",
     "checksum": "02986c56d83585861c164725077c6708",
     "grade": false,
     "grade_id": "cell-349cb5e9f4ef0b69",
     "locked": true,
     "schema_version": 3,
     "solution": false
    }
   },
   "outputs": [
    {
     "name": "stdout",
     "output_type": "stream",
     "text": [
      "UR corner: (3.5, 3.5)\n",
      "True\n",
      "False\n"
     ]
    }
   ],
   "source": [
    "# Let's try it.\n",
    "\n",
    "s = Square((2, 2), 3)\n",
    "print(\"UR corner:\", s.ur)\n",
    "print(s.contains((1, 1)))\n",
    "print(s.contains((3, 4)))"
   ]
  },
  {
   "attachments": {},
   "cell_type": "markdown",
   "metadata": {
    "deletable": false,
    "editable": false,
    "nbgrader": {
     "cell_type": "markdown",
     "checksum": "7cced1bc7ceb85c00e332bdc4947e659",
     "grade": false,
     "grade_id": "cell-5a92d69b313d43c2",
     "locked": true,
     "schema_version": 3,
     "solution": false
    }
   },
   "source": [
    "Here is a hint for you: to test the type of a variable in Python, you can use the `isinstance` function."
   ]
  },
  {
   "cell_type": "code",
   "execution_count": 14,
   "metadata": {
    "deletable": false,
    "editable": false,
    "nbgrader": {
     "cell_type": "code",
     "checksum": "960f8eaebadb30432cb34c812c6862c2",
     "grade": false,
     "grade_id": "cell-2dde3d4e6324ad51",
     "locked": true,
     "schema_version": 3,
     "solution": false
    }
   },
   "outputs": [
    {
     "name": "stdout",
     "output_type": "stream",
     "text": [
      "True\n",
      "False\n",
      "True\n"
     ]
    }
   ],
   "source": [
    "print(isinstance(s, Square)) # This prints True\n",
    "print(isinstance(s, tuple)) # False\n",
    "print(isinstance((1, 2), tuple)) # True"
   ]
  },
  {
   "cell_type": "code",
   "execution_count": 15,
   "metadata": {
    "deletable": false,
    "nbgrader": {
     "cell_type": "code",
     "checksum": "4c65cd7a1c55d636fa0e1cb0e69659ad",
     "grade": false,
     "grade_id": "cell-9966e93b2774a78",
     "locked": false,
     "schema_version": 3,
     "solution": true
    }
   },
   "outputs": [],
   "source": [
    "import math # In case you need it.\n",
    "\n",
    "class Circle(object):\n",
    "    def __init__(self, center, radius):\n",
    "        assert isinstance(center, tuple)\n",
    "        assert len(center) == 2\n",
    "        self.center = center\n",
    "        self.radius = radius\n",
    "\n",
    "\n",
    "    def _distance_betw_center_and_points(self, point):\n",
    "        assert isinstance(point, tuple)\n",
    "        assert len(point) == 2\n",
    "        return math.sqrt(abs(point[0] - self.center[0])**2 + abs(point[1] - self.center[1])**2)\n",
    "\n",
    "    def contains_point(self, point):\n",
    "        # Using the formula of the distance between two points. If the distance between the center of the class instance and the given point is \n",
    "        # greater than the radius of the instance, then the point must be situated outside of the circle\n",
    "        return self.radius > self._distance_betw_center_and_points(point)\n",
    "    \n",
    "    def contains_square(self, square):\n",
    "        assert isinstance(square,Square)\n",
    "        return self.radius > self._distance_betw_center_and_points(square.ll) and self.radius > self._distance_betw_center_and_points(square.lr) and self.radius > self._distance_betw_center_and_points(square.ul) and self.radius > self._distance_betw_center_and_points(square.ur)\n",
    "    \n",
    "    def contains_circle(self, other):\n",
    "        assert isinstance(other, Circle)\n",
    "        return  self.radius >= self._distance_betw_center_and_points(other.center) + other.radius \n",
    "\n",
    "    def contains(self, x):\n",
    "        if isinstance(x, tuple):\n",
    "            return self.contains_point(x)\n",
    "        elif isinstance(x, Square):\n",
    "            return self.contains_square(x)\n",
    "        elif isinstance(x, Circle):\n",
    "            return self.contains_circle(x)\n"
   ]
  },
  {
   "cell_type": "code",
   "execution_count": 16,
   "metadata": {
    "deletable": false,
    "editable": false,
    "nbgrader": {
     "cell_type": "code",
     "checksum": "0380a37ea0201656112f7d466a14f0e8",
     "grade": true,
     "grade_id": "cell-2e2a9e5031464e69",
     "locked": true,
     "points": 10,
     "schema_version": 3,
     "solution": false
    }
   },
   "outputs": [
    {
     "name": "stdout",
     "output_type": "stream",
     "text": [
      "Success\n",
      "Success\n"
     ]
    }
   ],
   "source": [
    "# Let us test point containment first.  5 points.\n",
    "\n",
    "c = Circle((1, 2), 4)\n",
    "check_equal(c.contains_point((2, 2)), True)\n",
    "check_equal(c.contains_point((10, 20)), False)\n",
    "\n"
   ]
  },
  {
   "cell_type": "code",
   "execution_count": 17,
   "metadata": {
    "deletable": false,
    "editable": false,
    "nbgrader": {
     "cell_type": "code",
     "checksum": "b3c70da2c8d47bb3a52432ad5e231a5e",
     "grade": true,
     "grade_id": "cell-23fe148c1a3b6852",
     "locked": true,
     "points": 10,
     "schema_version": 3,
     "solution": false
    }
   },
   "outputs": [
    {
     "name": "stdout",
     "output_type": "stream",
     "text": [
      "Success\n",
      "Success\n"
     ]
    }
   ],
   "source": [
    "# Then, let us check square containment.  5 points.\n",
    "c = Circle((1, 2), 4)\n",
    "s1 = Square((2, 2), 1)\n",
    "s2 = Square((3, 2), 6)\n",
    "check_equal(c.contains_square(s1), True)\n",
    "check_equal(c.contains_square(s2), False)\n",
    "\n"
   ]
  },
  {
   "cell_type": "code",
   "execution_count": 18,
   "metadata": {
    "deletable": false,
    "editable": false,
    "nbgrader": {
     "cell_type": "code",
     "checksum": "ec1e867f3bdc1a9b8bc1d7022f847c59",
     "grade": true,
     "grade_id": "cell-1d516ad4f8917947",
     "locked": true,
     "points": 10,
     "schema_version": 3,
     "solution": false
    }
   },
   "outputs": [
    {
     "name": "stdout",
     "output_type": "stream",
     "text": [
      "a : Success\n",
      "b : Success\n",
      "c : Success\n",
      "d : Success\n",
      "e : Success\n",
      "f : Success\n",
      "g : Success\n",
      "h : Success\n"
     ]
    }
   ],
   "source": [
    "# Lastly, we check the contain method. 10 points.\n",
    "c1 = Circle((1, 2), 4)\n",
    "c2 = Circle((1, 2), 4)\n",
    "c3 = Circle((2, 2), 3)\n",
    "c4 = Circle((2, 2), 4)\n",
    "s1 = Square((2, 2), 1)\n",
    "s2 = Square((3, 2), 6)\n",
    "p1 = (2, 3)\n",
    "p2 = (3, 4)\n",
    "p3 = (4, 5)\n",
    "\n",
    "check_equal(c1.contains(p1), True, msg=\"a\")\n",
    "check_equal(c1.contains(p2), True, msg=\"b\")\n",
    "check_equal(c1.contains(p3), False, msg=\"c\")\n",
    "check_equal(c1.contains(s1), True, msg=\"d\")\n",
    "check_equal(c1.contains(s2), False, msg=\"e\")\n",
    "check_equal(c1.contains(c2), True, msg=\"f\")\n",
    "check_equal(c1.contains(c3), True, msg=\"g\")\n",
    "check_equal(c1.contains(c4), False, msg=\"h\")\n",
    "\n"
   ]
  }
 ],
 "metadata": {
  "kernelspec": {
   "display_name": "Python 3 (ipykernel)",
   "language": "python",
   "name": "python3"
  },
  "language_info": {
   "codemirror_mode": {
    "name": "ipython",
    "version": 3
   },
   "file_extension": ".py",
   "mimetype": "text/x-python",
   "name": "python",
   "nbconvert_exporter": "python",
   "pygments_lexer": "ipython3",
   "version": "3.10.0"
  }
 },
 "nbformat": 4,
 "nbformat_minor": 2
}
