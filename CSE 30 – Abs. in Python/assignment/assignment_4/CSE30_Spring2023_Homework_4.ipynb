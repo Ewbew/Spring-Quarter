{
  "cells": [
    {
      "attachments": {},
      "cell_type": "markdown",
      "metadata": {
        "id": "hN7aM9KT9YVP"
      },
      "source": [
        "Before you turn this problem in, make sure everything runs as expected. First, **restart the kernel** (in the menubar, select Kernel$\\rightarrow$Restart) and then **run all cells** (in the menubar, select Cell$\\rightarrow$Run All).\n",
        "\n",
        "Make sure you fill in any place that says `YOUR CODE HERE` or \"YOUR ANSWER HERE\", as well as your name and collaborators below:"
      ]
    },
    {
      "cell_type": "code",
      "execution_count": 72,
      "metadata": {
        "id": "E9nSghiP9YVS"
      },
      "outputs": [],
      "source": [
        "NAME = \"Otto Sejrskild Santesson\"\n",
        "COLLABORATORS = \"Programming Pathshala: https://youtu.be/SHsGi38sHSQ, Abrar: https://youtu.be/Ei_a0-GmLS4\""
      ]
    },
    {
      "attachments": {},
      "cell_type": "markdown",
      "metadata": {
        "id": "d1VmHvSm9YVU"
      },
      "source": [
        "---"
      ]
    },
    {
      "attachments": {},
      "cell_type": "markdown",
      "metadata": {
        "deletable": false,
        "editable": false,
        "id": "FdI4GcT49YVV",
        "nbgrader": {
          "cell_type": "markdown",
          "checksum": "cfb452eedb56f11283bf522fb8622e34",
          "grade": false,
          "grade_id": "cell-5cbf4a0dbb28f6c6",
          "locked": true,
          "schema_version": 3,
          "solution": false
        }
      },
      "source": [
        "# Homework 4: Recursion\n",
        "## CSE 30 Spring 2023\n",
        "\n",
        "Copyright CC-BY-NC License."
      ]
    },
    {
      "attachments": {},
      "cell_type": "markdown",
      "metadata": {
        "deletable": false,
        "editable": false,
        "id": "9Og4ShJx9YVW",
        "nbgrader": {
          "cell_type": "markdown",
          "checksum": "deecbbdaba01f4fd5afc1e9b596cdb09",
          "grade": false,
          "grade_id": "cell-bebddf581b445a0d",
          "locked": true,
          "schema_version": 3,
          "solution": false
        }
      },
      "source": [
        "# Instructions\n",
        "\n",
        "## The Format of a Python Notebook\n",
        "\n",
        "*This* is a Python Notebook homework.  It consists of various types of cells: \n",
        "\n",
        "* Text: you can read them :-) \n",
        "* Code: you should run them, as they may set up the problems that you are asked to solve.\n",
        "* **Solution:** These are cells where you should enter a solution.  You will see a marker in these cells that indicates where your work should be inserted.  \n",
        "\n",
        "```\n",
        "    # YOUR CODE HERE\n",
        "```    \n",
        "\n",
        "* Test: These cells contains some tests, and are worth some points.  You should run the cells as a way to debug your code, and to see if you understood the question, and whether the output of your code is produced in the correct format.  The notebook contains both the tests you see, and some secret ones that you cannot see.  This prevents you from using the simple trick of hard-coding the desired output. "
      ]
    },
    {
      "attachments": {},
      "cell_type": "markdown",
      "metadata": {
        "deletable": false,
        "editable": false,
        "id": "jEK1SqUQ9YVX",
        "nbgrader": {
          "cell_type": "markdown",
          "checksum": "e63d665e06425bb17bd4da9aa9e45d55",
          "grade": false,
          "grade_id": "cell-c0b3569395bdf54a",
          "locked": true,
          "schema_version": 3,
          "solution": false
        }
      },
      "source": [
        "## Running your notebook\n",
        "\n",
        "**Running a cell.**\n",
        "To run a cell of the notebook, either click on the icon to its top left, or press shift-ENTER (or shift-Return). \n",
        "\n",
        "**Disconnections.**\n",
        "When you open a notebook, Google automatically connects a server to the web page, so that you can type code in your browser, and the code is run on that server.  If you are idle for more than a few minutes, Google keeps all you typed (none of your work is lost), but the server may be disconnected due to inactivity.  When the server is disconnected, it loses all memory of anything you have defined (functions, classes, variables, etc). \n",
        "\n",
        "If you do get disconnected, select Runtime > Run All (or Runtime > Run before) to ensure everything is defined as it should. \n",
        "\n",
        "### DO NOT\n",
        "\n",
        "* **Do not add, delete, reorder, remove cells.**  This breaks the relationship between your work, and the grading system, making it impossible to grade your work.\n",
        "\n",
        "### Debugging\n",
        "To debug, you can add print statements to your code.  They should have no effect on the tests.  Just be careful that if you add too many of them inside loops and similar, you may cause for some of the tests we will do such an enormous amount of output that grading might timeout (and you may not get credit for an answer). \n",
        "\n",
        "### Asking for help\n",
        "The tutors and TAs should have access to the notebook; otherwise, you can always share a link with them.  In this way, they can take a look at your work and help you with debugging and with any questions you might have."
      ]
    },
    {
      "attachments": {},
      "cell_type": "markdown",
      "metadata": {
        "deletable": false,
        "editable": false,
        "id": "Tz2Cl_oU9YVY",
        "nbgrader": {
          "cell_type": "markdown",
          "checksum": "52b216f9cc6c0f0bfb085007790e9cfe",
          "grade": false,
          "grade_id": "cell-b568478f1e536885",
          "locked": true,
          "schema_version": 3,
          "solution": false
        }
      },
      "source": [
        "## Submitting Your Notebook\n",
        "\n",
        "To submit:\n",
        "* **Check your work.** Before submitting, select Runtime > Restart and Run All, and check that you don't get any unexpected error. \n",
        "* **Download the notebook.** Click on File > Download .ipynb . **Do not download the .py file.**\n",
        "* **Upload.** Upload the .ipynb file to **[this Google form](https://docs.google.com/forms/d/e/1FAIpQLSd11nv9Bbe6q5KoEkqp-vz64KxbEWGAmD2uLB3nprgxJDo2xA/viewform?usp=sf_link)**. \n"
      ]
    },
    {
      "attachments": {},
      "cell_type": "markdown",
      "metadata": {
        "deletable": false,
        "editable": false,
        "id": "6Ud2pfK99YVa",
        "nbgrader": {
          "cell_type": "markdown",
          "checksum": "fd77b61f6186d92830ff95f1ccfabc07",
          "grade": false,
          "grade_id": "cell-0c6c1e88a1c133df",
          "locked": true,
          "schema_version": 3,
          "solution": false
        }
      },
      "source": [
        "## The Test\n",
        "\n",
        "There are three questions in this assignment, for a total of 40 points. "
      ]
    },
    {
      "cell_type": "code",
      "execution_count": 73,
      "metadata": {
        "deletable": false,
        "editable": false,
        "id": "BIv_76eQ9YVb",
        "nbgrader": {
          "cell_type": "code",
          "checksum": "4eed345a52d7ee31f735ececf1a3176e",
          "grade": false,
          "grade_id": "cell-c42fb629a3082c33",
          "locked": true,
          "schema_version": 3,
          "solution": false
        }
      },
      "outputs": [],
      "source": [
        "# Let me define the function I use for testing.  Don't change this cell. \n",
        "\n",
        "def check_equal(x, y, msg=None):\n",
        "    if x == y:\n",
        "        if msg is None:\n",
        "            print(\"Success\")\n",
        "        else:\n",
        "            print(msg, \": Success\")\n",
        "    else:\n",
        "        if msg is None:\n",
        "            print(\"Error:\")\n",
        "        else:\n",
        "            print(\"Error in\", msg, \":\")\n",
        "        print(\"    Your answer was:\", x)\n",
        "        print(\"    Correct answer: \", y)\n",
        "    assert x == y, \"%r and %r are different\" % (x, y)"
      ]
    },
    {
      "attachments": {},
      "cell_type": "markdown",
      "metadata": {
        "deletable": false,
        "editable": false,
        "id": "IvXv0q_U9YVc",
        "nbgrader": {
          "cell_type": "markdown",
          "checksum": "e0d8c5578507fbe5ca5170afbd875298",
          "grade": false,
          "grade_id": "cell-34866174c90d1326",
          "locked": true,
          "schema_version": 3,
          "solution": false
        }
      },
      "source": [
        "## Question 1: Sum of Leaves\n",
        "\n",
        "Consider a binary tree defined as in the book chapter, where a node can be either a number (an integer or floating-point number), or a tuple consisting of a left subtree, and a right subtree.  Examples of trees are: \n",
        "\n",
        "    4.5\n",
        "    (3, 5)\n",
        "    (3, (5, 7))\n",
        "    ((3, 4), ((4, 2), 9))\n",
        "    \n",
        "Write a function `total(t)` that takes the tree `t`, and returns the total of all the leaves in the tree. "
      ]
    },
    {
      "cell_type": "code",
      "execution_count": 74,
      "metadata": {
        "deletable": false,
        "id": "dcshH1IY9YVd",
        "nbgrader": {
          "cell_type": "code",
          "checksum": "56dcbd7d266fbfc83fafbf3ace9c5bd3",
          "grade": false,
          "grade_id": "cell-9936ddb74180cd9f",
          "locked": false,
          "schema_version": 3,
          "solution": true
        }
      },
      "outputs": [],
      "source": [
        "def total(t):\n",
        "    sum_total = 0\n",
        "\n",
        "    if isinstance(t, int) or isinstance(t, float):\n",
        "        sum_total += t\n",
        "\n",
        "    elif isinstance(t,tuple):\n",
        "        for i in t:\n",
        "            if isinstance(i, int) or isinstance(i, float):\n",
        "                sum_total += i\n",
        "            if isinstance(i,tuple):\n",
        "                sum_total += total(i)\n",
        "                \n",
        "    return sum_total\n",
        "    # YOUR CODE HERE"
      ]
    },
    {
      "cell_type": "code",
      "execution_count": 75,
      "metadata": {
        "deletable": false,
        "id": "4QOS6qj19YVe",
        "nbgrader": {
          "cell_type": "code",
          "checksum": "88d2bb1724ab3f3a99385ef7feae934e",
          "grade": false,
          "grade_id": "cell-1d72b98d038ff0c1",
          "locked": false,
          "schema_version": 3,
          "solution": true
        }
      },
      "outputs": [
        {
          "data": {
            "text/plain": [
              "22"
            ]
          },
          "execution_count": 75,
          "metadata": {},
          "output_type": "execute_result"
        }
      ],
      "source": [
        "# This is a place where you can write additional tests to help you test \n",
        "# your code, or debugging code, if you need.  You can also leave it blank. \n",
        "\n",
        "# YOUR CODE HERE\n",
        "\n",
        "skrrt_tuple = ((3,4), ((4,2), 9 ))\n",
        "\n",
        "total(skrrt_tuple)"
      ]
    },
    {
      "attachments": {},
      "cell_type": "markdown",
      "metadata": {
        "deletable": false,
        "editable": false,
        "id": "cpbV_wNR9YVe",
        "nbgrader": {
          "cell_type": "markdown",
          "checksum": "b5a29f04ba54c4a7c507b9d8cf62e950",
          "grade": false,
          "grade_id": "cell-29a6beffa1970cb4",
          "locked": true,
          "schema_version": 3,
          "solution": false
        }
      },
      "source": [
        "Here are some tests for your code. "
      ]
    },
    {
      "cell_type": "code",
      "execution_count": 76,
      "metadata": {
        "deletable": false,
        "editable": false,
        "id": "HnZ6nxnY9YVf",
        "nbgrader": {
          "cell_type": "code",
          "checksum": "e0a57dc9559e1c3df71246daf13ba1a1",
          "grade": true,
          "grade_id": "cell-4b4baab987acf707",
          "locked": true,
          "points": 5,
          "schema_version": 3,
          "solution": false
        }
      },
      "outputs": [
        {
          "name": "stdout",
          "output_type": "stream",
          "text": [
            "Success\n",
            "Success\n"
          ]
        }
      ],
      "source": [
        "### 5 points.  Simple tests. \n",
        "\n",
        "check_equal(total(5.4), 5.4)\n",
        "check_equal(total((4, 6)), 10)\n"
      ]
    },
    {
      "cell_type": "code",
      "execution_count": 77,
      "metadata": {
        "deletable": false,
        "editable": false,
        "id": "bqDxdvvO9YVf",
        "nbgrader": {
          "cell_type": "code",
          "checksum": "a1a8a86c9046312ff40e34414fe116ec",
          "grade": true,
          "grade_id": "cell-7773c3ffa45855d6",
          "locked": true,
          "points": 5,
          "schema_version": 3,
          "solution": false
        }
      },
      "outputs": [
        {
          "name": "stdout",
          "output_type": "stream",
          "text": [
            "Success\n",
            "Success\n"
          ]
        }
      ],
      "source": [
        "### 5 points.  Tests on trees.\n",
        "\n",
        "check_equal(total((3, (4, (5, 6)))), 18)\n",
        "check_equal(total((((3, 4), 5), ((4, 3), (2, 1)))), 22)\n"
      ]
    },
    {
      "attachments": {},
      "cell_type": "markdown",
      "metadata": {
        "deletable": false,
        "editable": false,
        "id": "bKQ4jyLJ9YVg",
        "nbgrader": {
          "cell_type": "markdown",
          "checksum": "44f81878835f0ac01af3c639a6588261",
          "grade": false,
          "grade_id": "cell-4bc9f6fa53bddb70",
          "locked": true,
          "schema_version": 3,
          "solution": false
        }
      },
      "source": [
        "## Question 2: Largest Subtree Total\n",
        "\n",
        "For a tree $t = (t_1, t_2)$, the subtrees of $t$ consist of $t$, and of the subtrees of $t_1$ and $t_2$. \n",
        "That is, in formulas, \n",
        "\n",
        "$$\n",
        "\\mbox{subtrees}(t) = \\{ t \\} \\cup \\mbox{subtrees}(t_1) \\cup \\mbox{subtrees}(t_2) . \n",
        "$$\n",
        "\n",
        "To give a concrete example, the subtrees of $t = (3, (4, 5))$ are: \n",
        "\n",
        "* $(3, (4, 5))$\n",
        "* $3$\n",
        "* $(4, 5)$\n",
        "* $4$\n",
        "* $5$\n",
        "\n",
        "Given a tree `t`, write a function `max_subtree_total(t)` that computes the largest total of any subtree in `t`. \n",
        "\n",
        "Of course, if the numbers in the tree are all non-negative, then the largest total corresponds to the complete tree, but this is not the case if there are leaves with value smaller than 0.  For instance, for the tree \n",
        "\n",
        "    (-2, (3, 4))\n",
        "    \n",
        "the largest total corresponds to the subtree `(3, 4)`, which has total 7. \n",
        "\n",
        "If you wish, you can use the `total` function you developed in the previous question, but you don't have to. "
      ]
    },
    {
      "cell_type": "code",
      "execution_count": 78,
      "metadata": {
        "deletable": false,
        "id": "Jm_0UxtB9YVg",
        "nbgrader": {
          "cell_type": "code",
          "checksum": "fa01d365d56a29eb340d33f295f3ff55",
          "grade": false,
          "grade_id": "cell-a7787ac65286ef61",
          "locked": false,
          "schema_version": 3,
          "solution": true
        }
      },
      "outputs": [],
      "source": [
        "def max_subtree_total(t):\n",
        "    if isinstance(t,tuple):\n",
        "        return max(max_subtree_total(t[0]), max_subtree_total(t[1]), total(t[0]) + total(t[1]))\n",
        "    return t\n",
        "    # YOUR CODE HERE"
      ]
    },
    {
      "cell_type": "code",
      "execution_count": 79,
      "metadata": {
        "deletable": false,
        "id": "JuL3di1y9YVh",
        "nbgrader": {
          "cell_type": "code",
          "checksum": "9012747c11b1ed94e40281241642a563",
          "grade": false,
          "grade_id": "cell-78f7c165b32a6eeb",
          "locked": false,
          "schema_version": 3,
          "solution": true
        }
      },
      "outputs": [],
      "source": [
        "# This is a place where you can write additional tests to help you test \n",
        "# your code, or debugging code, if you need.  You can also leave it blank. \n",
        "\n",
        "# YOUR CODE HERE"
      ]
    },
    {
      "cell_type": "code",
      "execution_count": 80,
      "metadata": {
        "deletable": false,
        "editable": false,
        "id": "12pSJTuU9YVh",
        "nbgrader": {
          "cell_type": "code",
          "checksum": "26ac7abd2e1fce16f57286fa1e56d4e2",
          "grade": true,
          "grade_id": "cell-44abd6f2507238f4",
          "locked": true,
          "points": 5,
          "schema_version": 3,
          "solution": false
        }
      },
      "outputs": [
        {
          "name": "stdout",
          "output_type": "stream",
          "text": [
            "Success\n",
            "Success\n"
          ]
        }
      ],
      "source": [
        "### 5 points.  Some simple cases first. \n",
        "\n",
        "check_equal(max_subtree_total(3), 3)\n",
        "check_equal(max_subtree_total((4, 5)), 9)"
      ]
    },
    {
      "cell_type": "code",
      "execution_count": 81,
      "metadata": {
        "deletable": false,
        "editable": false,
        "id": "ztiaJlyT9YVh",
        "nbgrader": {
          "cell_type": "code",
          "checksum": "8a89bef5fd83b228282140d975c253ab",
          "grade": true,
          "grade_id": "cell-7407fc8af91e5111",
          "locked": true,
          "points": 10,
          "schema_version": 3,
          "solution": false
        }
      },
      "outputs": [
        {
          "name": "stdout",
          "output_type": "stream",
          "text": [
            "Success\n",
            "Success\n",
            "Success\n",
            "Success\n"
          ]
        }
      ],
      "source": [
        "### 10 points.  More complex cases. \n",
        "\n",
        "check_equal(max_subtree_total((-3, 4)), 4)\n",
        "check_equal(max_subtree_total((-3, -4)), -3)\n",
        "check_equal(max_subtree_total(((-3, 5), (2, 1))), 5)\n",
        "check_equal(max_subtree_total((((4, 5), -3), (12, (3, 4)))), 25)\n"
      ]
    },
    {
      "attachments": {},
      "cell_type": "markdown",
      "metadata": {
        "deletable": false,
        "editable": false,
        "id": "BRkA4nNL9YVi",
        "nbgrader": {
          "cell_type": "markdown",
          "checksum": "090fda5d844bf552c0963f9db78634c7",
          "grade": false,
          "grade_id": "cell-33ec0ee929973a5f",
          "locked": true,
          "schema_version": 3,
          "solution": false
        }
      },
      "source": [
        "## Question 3\n",
        "\n",
        "Consider a list, for instance, `[3, 4, 5, 3, 2, 5, 6, 4]`. \n",
        "A _subsequence_ or _sublist_ of a list is a list you obtain by removing zero or more elements from the original list.  For example, subsequences of the above list are: \n",
        "\n",
        "    []\n",
        "    [4, 5, 6]\n",
        "    [3, 4, 5, 5, 6]\n",
        "    [3, 5, 2]\n",
        "    \n",
        "A _nondecreasing_ subsequence is a sequence in which a value is not smaller than any of the previous ones.  In the examples above, the first three subsequences are nondecreasing; the last one is not, as the last `2` is smaller than `3` and `5`. \n",
        "\n",
        "Your task is to write a function `nondecsub(l)` which, given a list `l`, returns a list consisting of _all_ the nondecreasing subsequences of `l`.\n",
        "\n",
        "**Hint:** It is easier to write a function `nondecsub(l, threshold=None)`, and we have set up the problem for you in this way.  The idea is that `threshold` represents a threshold, below which you should not select elements from `l`.  \n",
        "\n",
        "Remember: your goal is to reduce the problem to one that is smaller, for example, one that involves a list that is shorter by one.  Look at how the code for permutations was done.  Reduce your problem to one that is smaller, and use the `threshold` parameter to ensure that the generated subsequences are nondecreasing. "
      ]
    },
    {
      "cell_type": "code",
      "execution_count": 82,
      "metadata": {
        "deletable": false,
        "id": "IWAbcHi_9YVi",
        "nbgrader": {
          "cell_type": "code",
          "checksum": "d153ffdf803b61e53b6b3b5824f1adbb",
          "grade": false,
          "grade_id": "cell-cb9b4c82b2e44628",
          "locked": false,
          "schema_version": 3,
          "solution": true
        }
      },
      "outputs": [],
      "source": [
        "# Commented out, for future reference\n",
        "def nondecsub(l, threshold=None):\n",
        "    # Base case: an empty list results in a single empty subsequence\n",
        "    if len(l) == 0:\n",
        "        return [[]]\n",
        "    \n",
        "    # Extract the first element of the current list\n",
        "    first = l[0]\n",
        "\n",
        "    # Store the rest of the elements in a separate variable\n",
        "    rest = l[1:]\n",
        "\n",
        "    # Variable to store all the different subsequences\n",
        "    subsequences = []\n",
        "\n",
        "    # Recursion: call the function with the rest of the elements, decrementing the list by one element each time\n",
        "    for i in nondecsub(rest, first):\n",
        "        # Append the current iteration element to the subsequences list\n",
        "        subsequences.append(i)\n",
        "\n",
        "        # Check if both threshold and i are not empty lists or None\n",
        "        if threshold and i:\n",
        "            # Append the concatenation of the first element with i if it satisfies the conditions\n",
        "            if first >= threshold and first <= i[0]:\n",
        "                subsequences.append([first] + i)\n",
        "\n",
        "        # Append the concatenation of the first element with i if it satisfies the condition\n",
        "        if i and first <= i[0]:\n",
        "            subsequences.append([first] + i)\n",
        "\n",
        "        # Add the individual element (integer) to the subsequences since it adheres to the rules\n",
        "        subsequences.append([first])\n",
        "\n",
        "    return subsequences\n",
        "\n",
        "# YOUR CODE HERE\n",
        "    \n",
        "# This code helps in testing, as it transforms a list of lists into a set of tuples. \n",
        "\n",
        "def normalize(ll):\n",
        "    s = set()\n",
        "    for l in ll:\n",
        "        s.add(tuple(l))\n",
        "    return s\n",
        "\n",
        "def n(l):\n",
        "    return normalize(nondecsub(l, threshold=None))\n"
      ]
    },
    {
      "cell_type": "code",
      "execution_count": 83,
      "metadata": {
        "deletable": false,
        "id": "3xNRlZEz9YVj",
        "nbgrader": {
          "cell_type": "code",
          "checksum": "c90908af9aedf28d6615a6a9fe94fd03",
          "grade": false,
          "grade_id": "cell-3ba6ea4d3c76311a",
          "locked": false,
          "schema_version": 3,
          "solution": true
        }
      },
      "outputs": [],
      "source": [
        "# This is a place where you can write additional tests to help you test \n",
        "# your code, or debugging code, if you need.  You can also leave it blank. \n",
        "\n",
        "# This is a place where you can write additional tests to help you test \n",
        "# your code, or debugging code, if you need.  You can also leave it blank. \n",
        "\n",
        "\n",
        "def skrrt_function(skrrt):\n",
        "    if len(skrrt) == 0:\n",
        "        return [[]]\n",
        "    \n",
        "    big_skrrt_list = []\n",
        "\n",
        "    first = skrrt[0]\n",
        "    remainding = skrrt[1:]\n",
        "\n",
        "    for i in skrrt_function(remainding):\n",
        "        big_skrrt_list.append(i)\n",
        "        c = [first] + i\n",
        "        big_skrrt_list.append(c)\n",
        "\n",
        "    return big_skrrt_list\n",
        "\n",
        "# skrrt_function(\"æble\")\n",
        "\n",
        "# YOUR CODE HERE"
      ]
    },
    {
      "cell_type": "code",
      "execution_count": 84,
      "metadata": {
        "deletable": false,
        "editable": false,
        "id": "_RdRbivP9YVk",
        "nbgrader": {
          "cell_type": "code",
          "checksum": "29b7fb3d705d2892a223e7c8b83a06a4",
          "grade": true,
          "grade_id": "cell-4a0f257ebeef846a",
          "locked": true,
          "points": 5,
          "schema_version": 3,
          "solution": false
        }
      },
      "outputs": [
        {
          "name": "stdout",
          "output_type": "stream",
          "text": [
            "Success\n",
            "Success\n",
            "Success\n",
            "Success\n"
          ]
        }
      ],
      "source": [
        "### 5 points: simple tests\n",
        "\n",
        "check_equal(n([4]), normalize([[], [4]]))\n",
        "\n",
        "check_equal(n([]), normalize([[]]))\n",
        "\n",
        "check_equal(n([3, 4]), normalize([\n",
        "    [], [3], [4], [3, 4]\n",
        "]))\n",
        "\n",
        "check_equal(n([4, 3]), normalize([\n",
        "    [], [3], [4]\n",
        "]))\n"
      ]
    },
    {
      "cell_type": "code",
      "execution_count": 85,
      "metadata": {
        "deletable": false,
        "editable": false,
        "id": "iLO8LxN59YVl",
        "nbgrader": {
          "cell_type": "code",
          "checksum": "546339ba28577988ec35a6a6c9f39d7c",
          "grade": true,
          "grade_id": "cell-0616b21a624c065d",
          "locked": true,
          "points": 10,
          "schema_version": 3,
          "solution": false
        }
      },
      "outputs": [
        {
          "name": "stdout",
          "output_type": "stream",
          "text": [
            "Success\n"
          ]
        }
      ],
      "source": [
        "### 10 points: more complicated tests\n",
        "\n",
        "check_equal(n([-1, 0, 3, 4, 3, 5]), normalize([\n",
        "    (3, 4, 5), (0, 4, 5), (-1, 0), (-1, 0, 3, 3, 5), (-1, 0, 3, 4), \n",
        "    (-1,), (-1, 5), (0, 3), (3, 3), (-1, 3, 3), (3,), (-1, 3, 4), \n",
        "    (3, 3, 5), (-1, 4, 5), (-1, 0, 3, 4, 5), (-1, 0, 3, 5), \n",
        "    (-1, 3, 3, 5), (-1, 3, 5), (0, 4), (5,), (-1, 0, 3, 3), \n",
        "    (-1, 0, 3), (0, 3, 3), (0, 3, 3, 5), (-1, 0, 4, 5), (4, 5), (-1, 0, 5), \n",
        "    (0, 5), (-1, 0, 4), (3, 5), (0,), (0, 3, 4), (-1, 3), (0, 3, 5), (4,), \n",
        "    (), (0, 3, 4, 5), (-1, 3, 4, 5), (-1, 4), (3, 4)\n",
        "]))\n",
        "\n"
      ]
    }
  ],
  "metadata": {
    "colab": {
      "provenance": []
    },
    "kernelspec": {
      "display_name": "Python 3 (ipykernel)",
      "language": "python",
      "name": "python3"
    },
    "language_info": {
      "codemirror_mode": {
        "name": "ipython",
        "version": 3
      },
      "file_extension": ".py",
      "mimetype": "text/x-python",
      "name": "python",
      "nbconvert_exporter": "python",
      "pygments_lexer": "ipython3",
      "version": "3.11.0"
    }
  },
  "nbformat": 4,
  "nbformat_minor": 0
}
