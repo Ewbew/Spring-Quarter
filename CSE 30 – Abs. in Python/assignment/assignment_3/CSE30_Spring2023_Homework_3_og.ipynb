{
  "cells": [
    {
      "cell_type": "markdown",
      "metadata": {
        "id": "uaXNVxp86rl7"
      },
      "source": [
        "Before you turn this problem in, make sure everything runs as expected. First, **restart the kernel** (in the menubar, select Kernel$\\rightarrow$Restart) and then **run all cells** (in the menubar, select Cell$\\rightarrow$Run All).\n",
        "\n",
        "Make sure you fill in any place that says `YOUR CODE HERE` or \"YOUR ANSWER HERE\", as well as your name and collaborators below:"
      ]
    },
    {
      "cell_type": "code",
      "execution_count": 5,
      "metadata": {
        "id": "oFf77u2q6rl-"
      },
      "outputs": [],
      "source": [
        "NAME = \"\"\n",
        "COLLABORATORS = \"\""
      ]
    },
    {
      "cell_type": "markdown",
      "metadata": {
        "id": "7YmsBbWN6rmA"
      },
      "source": [
        "---"
      ]
    },
    {
      "cell_type": "markdown",
      "metadata": {
        "deletable": false,
        "editable": false,
        "id": "8dfOyzkt6rmC",
        "nbgrader": {
          "cell_type": "markdown",
          "checksum": "3d87f6ed45298e2ca060efe8cf7e3d74",
          "grade": false,
          "grade_id": "cell-1c571bd54f6de3d6",
          "locked": true,
          "schema_version": 3,
          "solution": false
        }
      },
      "source": [
        "# Homework 3: Counting Stacks and Queues\n"
      ]
    },
    {
      "cell_type": "markdown",
      "metadata": {
        "deletable": false,
        "editable": false,
        "id": "tpkE3iar6rmD",
        "nbgrader": {
          "cell_type": "markdown",
          "checksum": "c92412da73e932b4dd9345152bdf60de",
          "grade": false,
          "grade_id": "cell-186bd9b11d869c2e",
          "locked": true,
          "schema_version": 3,
          "solution": false
        }
      },
      "source": [
        "\n",
        "Submission Deadline: Wednesday May 17, 11pm. \n",
        "Submission link: TBD"
      ]
    },
    {
      "cell_type": "markdown",
      "metadata": {
        "deletable": false,
        "editable": false,
        "id": "iQ4K1X3p6rmE",
        "nbgrader": {
          "cell_type": "markdown",
          "checksum": "82f213996cb00f92f65f8090cd67b4b1",
          "grade": false,
          "grade_id": "cell-c9dd54432190283",
          "locked": true,
          "schema_version": 3,
          "solution": false
        }
      },
      "source": [
        "## Stacks, Queues, and Their Counting Versions\n",
        "\n",
        "A stack is a data structure with two operations: push, and pop.  Picture it as a pile of dishes sitting on a counter.  A push operation places a dish on top of the pile.  A pop operation returns the dish on top of the pile, or None if the pile is empty, that is, contains no dishes.  A \"dish\" can be any Python object. \n",
        "\n",
        "A queue is a data structure with two operations: put, and get.  Imagine it as a stack of books horizontally on a shelf.  A put operation adds the book to the left end of the books on the shelf; a get operation gets the book from the right end of the shelf.  \n",
        "\n",
        "Thus, the difference between a stack and a queue is that the stack is FILO (First In, Last Out), whereas the queue is FIFO (First In, First Out).  Elements in a stack are retrieved newest first. \n",
        "Elements in a queue are retrieved in the order they were put in, oldest first.\n",
        "\n",
        "We will implement here these data structures, with a small twist: we will also introduce _counting_ versions of them, which avoid keeping multiple identical copies of objects in a row. \n",
        "\n"
      ]
    },
    {
      "cell_type": "markdown",
      "metadata": {
        "deletable": false,
        "editable": false,
        "id": "Nm0zzeQT6rmF",
        "nbgrader": {
          "cell_type": "markdown",
          "checksum": "adb8630260295cb7d767823d9927bde0",
          "grade": false,
          "grade_id": "cell-73b2eb66b26f98f4",
          "locked": true,
          "schema_version": 3,
          "solution": false
        }
      },
      "source": [
        "Here is the implementation of the Counting Queue we defined in class. "
      ]
    },
    {
      "cell_type": "code",
      "execution_count": 6,
      "metadata": {
        "deletable": false,
        "editable": false,
        "id": "dEwjdmzu6rmG",
        "nbgrader": {
          "cell_type": "code",
          "checksum": "d257e2f3eaebcd7322744fcb756e4528",
          "grade": false,
          "grade_id": "cell-9c4095c459a7d7e5",
          "locked": true,
          "schema_version": 3,
          "solution": false
        }
      },
      "outputs": [],
      "source": [
        "class CountingQueue(object):\n",
        "\n",
        "    def __init__(self):\n",
        "        self.queue = []\n",
        "\n",
        "    def __repr__(self):\n",
        "        return repr(self.queue)\n",
        "\n",
        "    def add(self, x, count=1):\n",
        "        # If the element is the same as the last element, we simply\n",
        "        # increment the count.  This assumes we can test equality of\n",
        "        # elements.\n",
        "        if len(self.queue) > 0:\n",
        "            xx, cc = self.queue[-1]\n",
        "            if xx == x:\n",
        "                self.queue[-1] = (xx, cc + count)\n",
        "            else:\n",
        "                self.queue.append((x, count))\n",
        "        else:\n",
        "            self.queue = [(x, count)]\n",
        "\n",
        "    def get(self):\n",
        "        if len(self.queue) == 0:\n",
        "            return None\n",
        "        x, c = self.queue[0]\n",
        "        if c == 1:\n",
        "            self.queue.pop(0)\n",
        "            return x\n",
        "        else:\n",
        "            self.queue[0] = (x, c - 1)\n",
        "            return x\n",
        "\n",
        "    def isempty(self):\n",
        "        # Since the count of an element is never 0, we can just check\n",
        "        # whether the queue is empty.\n",
        "        return len(self.queue) == 0\n",
        "\n"
      ]
    },
    {
      "cell_type": "markdown",
      "metadata": {
        "deletable": false,
        "editable": false,
        "id": "tgPpfuIx6rmG",
        "nbgrader": {
          "cell_type": "markdown",
          "checksum": "bd99fdc95b0c1b9321254bf44960e992",
          "grade": false,
          "grade_id": "cell-288c3895c996736e",
          "locked": true,
          "schema_version": 3,
          "solution": false
        }
      },
      "source": [
        "Let's put this to the same test as before, printing the queue contents at each step to see what is going on."
      ]
    },
    {
      "cell_type": "code",
      "execution_count": 7,
      "metadata": {
        "deletable": false,
        "editable": false,
        "id": "NmRGHcWz6rmI",
        "nbgrader": {
          "cell_type": "code",
          "checksum": "46fdb4e2657784931833803c1bddb86a",
          "grade": false,
          "grade_id": "cell-ed8ebfeadafad89a",
          "locked": true,
          "schema_version": 3,
          "solution": false
        }
      },
      "outputs": [
        {
          "name": "stdout",
          "output_type": "stream",
          "text": [
            "[('a', 1)]\n",
            "[('a', 1), ('b', 5)]\n",
            "[('a', 1), ('b', 5), ('c', 2)]\n",
            "a\n",
            "[('b', 5), ('c', 2)]\n",
            "b\n",
            "[('b', 4), ('c', 2)]\n",
            "b\n",
            "[('b', 3), ('c', 2)]\n",
            "b\n",
            "[('b', 2), ('c', 2)]\n",
            "b\n",
            "[('b', 1), ('c', 2)]\n",
            "b\n",
            "[('c', 2)]\n",
            "c\n",
            "[('c', 1)]\n",
            "c\n",
            "[]\n"
          ]
        }
      ],
      "source": [
        "q = CountingQueue()\n",
        "q.add('a')\n",
        "print(q)\n",
        "q.add('b', count=5)\n",
        "print(q)\n",
        "q.add('c', count=2)\n",
        "print(q)\n",
        "while not q.isempty():\n",
        "    print(q.get())\n",
        "    print(q)\n"
      ]
    },
    {
      "cell_type": "code",
      "execution_count": 8,
      "metadata": {
        "deletable": false,
        "editable": false,
        "id": "WJ7EAOFN6rmK",
        "nbgrader": {
          "cell_type": "code",
          "checksum": "37f59879bc666158e73dc82fa08411c4",
          "grade": false,
          "grade_id": "cell-117e066bf27b1741",
          "locked": true,
          "schema_version": 3,
          "solution": false
        }
      },
      "outputs": [],
      "source": [
        "#@title Testing helper\n",
        "\n",
        "def check_equal(x, y, msg=None):\n",
        "    if x == y:\n",
        "        if msg is not None:\n",
        "            print(msg, \": Success\")\n",
        "    else:\n",
        "        if msg is None:\n",
        "            print(\"Error:\")\n",
        "        else:\n",
        "            print(\"Error in\", msg, \":\")\n",
        "        print(\"    Your answer was:\", x)\n",
        "        print(\"    Correct answer: \", y)\n",
        "    assert x == y, \"%r and %r are different\" % (x, y)\n"
      ]
    },
    {
      "cell_type": "markdown",
      "metadata": {
        "deletable": false,
        "editable": false,
        "id": "HO1y-ZKB6rmK",
        "nbgrader": {
          "cell_type": "markdown",
          "checksum": "4215757b24c8bf0d79f162ccd9c90b8b",
          "grade": false,
          "grade_id": "cell-a345593a846f2af3",
          "locked": true,
          "schema_version": 3,
          "solution": false
        }
      },
      "source": [
        "## Question 1: Implement the `__len__` Method"
      ]
    },
    {
      "cell_type": "markdown",
      "metadata": {
        "deletable": false,
        "editable": false,
        "id": "rWkBSORx6rmL",
        "nbgrader": {
          "cell_type": "markdown",
          "checksum": "e1a5abc682ddc83336e8166a9d949efe",
          "grade": false,
          "grade_id": "cell-53c45fe07f73dad2",
          "locked": true,
          "schema_version": 3,
          "solution": false
        }
      },
      "source": [
        "If you want to take the length of an object, as in \n",
        "\n",
        "    len(someobject)\n",
        "\n",
        "then `someobject` must have a `__len__` method, which should return the length. \n",
        "Implement the `__len__` method for counting queues, so that it returns the queue length (the number of elements in it, counting repeated elements as distinct). "
      ]
    },
    {
      "cell_type": "code",
      "execution_count": 9,
      "metadata": {
        "deletable": false,
        "id": "iZCwknCi6rmM",
        "nbgrader": {
          "cell_type": "code",
          "checksum": "94c3d4e6c96d0ee5503cbc88f5c025ca",
          "grade": false,
          "grade_id": "cell-c441c9c06ba06163",
          "locked": false,
          "schema_version": 3,
          "solution": true
        }
      },
      "outputs": [],
      "source": [
        "### Exercise: implement `__len__` for a counting queue\n",
        "\n",
        "def countingqueue_len(self):\n",
        "    \"\"\"Returns the number of elements in the queue.\"\"\"\n",
        "    # YOUR CODE HERE\n",
        "\n",
        "# This is a way to add a method to a class once the class\n",
        "# has already been defined.\n",
        "CountingQueue.__len__ = countingqueue_len\n"
      ]
    },
    {
      "cell_type": "code",
      "execution_count": 10,
      "metadata": {
        "deletable": false,
        "editable": false,
        "id": "PpLbpUED6rmM",
        "nbgrader": {
          "cell_type": "code",
          "checksum": "75eea165b27ff749c7a72df56a02d804",
          "grade": true,
          "grade_id": "cell-3cba967a4571f121",
          "locked": true,
          "points": 10,
          "schema_version": 3,
          "solution": false
        }
      },
      "outputs": [
        {
          "ename": "TypeError",
          "evalue": "'NoneType' object cannot be interpreted as an integer",
          "output_type": "error",
          "traceback": [
            "\u001b[0;31m---------------------------------------------------------------------------\u001b[0m",
            "\u001b[0;31mTypeError\u001b[0m                                 Traceback (most recent call last)",
            "\u001b[0;32m/var/folders/tq/0p82818x4jd9plq_7b32kjl00000gn/T/ipykernel_58100/2629145710.py\u001b[0m in \u001b[0;36m<module>\u001b[0;34m\u001b[0m\n\u001b[1;32m      7\u001b[0m \u001b[0;32mfor\u001b[0m \u001b[0mi\u001b[0m \u001b[0;32min\u001b[0m \u001b[0mrange\u001b[0m\u001b[0;34m(\u001b[0m\u001b[0;36m3\u001b[0m\u001b[0;34m)\u001b[0m\u001b[0;34m:\u001b[0m\u001b[0;34m\u001b[0m\u001b[0;34m\u001b[0m\u001b[0m\n\u001b[1;32m      8\u001b[0m     \u001b[0mq\u001b[0m\u001b[0;34m.\u001b[0m\u001b[0madd\u001b[0m\u001b[0;34m(\u001b[0m\u001b[0;34m'c'\u001b[0m\u001b[0;34m,\u001b[0m \u001b[0mcount\u001b[0m\u001b[0;34m=\u001b[0m\u001b[0;36m2\u001b[0m\u001b[0;34m)\u001b[0m\u001b[0;34m\u001b[0m\u001b[0;34m\u001b[0m\u001b[0m\n\u001b[0;32m----> 9\u001b[0;31m \u001b[0mcheck_equal\u001b[0m\u001b[0;34m(\u001b[0m\u001b[0mlen\u001b[0m\u001b[0;34m(\u001b[0m\u001b[0mq\u001b[0m\u001b[0;34m)\u001b[0m\u001b[0;34m,\u001b[0m \u001b[0;36m17\u001b[0m\u001b[0;34m)\u001b[0m\u001b[0;34m\u001b[0m\u001b[0;34m\u001b[0m\u001b[0m\n\u001b[0m\u001b[1;32m     10\u001b[0m \u001b[0mcheck_equal\u001b[0m\u001b[0;34m(\u001b[0m\u001b[0mlen\u001b[0m\u001b[0;34m(\u001b[0m\u001b[0mq\u001b[0m\u001b[0;34m)\u001b[0m\u001b[0;34m,\u001b[0m \u001b[0;36m17\u001b[0m\u001b[0;34m)\u001b[0m\u001b[0;34m\u001b[0m\u001b[0;34m\u001b[0m\u001b[0m\n",
            "\u001b[0;31mTypeError\u001b[0m: 'NoneType' object cannot be interpreted as an integer"
          ]
        }
      ],
      "source": [
        "### Tests for `__len__`\n",
        "\n",
        "q = CountingQueue()\n",
        "for i in range(10):\n",
        "    q.add('a')\n",
        "q.add('b')\n",
        "for i in range(3):\n",
        "    q.add('c', count=2)\n",
        "check_equal(len(q), 17)\n",
        "check_equal(len(q), 17)"
      ]
    },
    {
      "cell_type": "markdown",
      "metadata": {
        "deletable": false,
        "editable": false,
        "id": "dlVpFWzK6rmN",
        "nbgrader": {
          "cell_type": "markdown",
          "checksum": "2ff2ef1599bcaef965f680adf07a899f",
          "grade": false,
          "grade_id": "cell-a0d1125fcac35f8d",
          "locked": true,
          "schema_version": 3,
          "solution": false
        }
      },
      "source": [
        "## Question 2: implement the `__iter__` Method\n",
        "\n",
        "We would like to be able to have a way of iterating over elements in our counting queue.  \n",
        "This can be used, for instance, to print them, or to process the elements in some way. \n",
        "\n",
        "Precisely, we would like to have a way of writing, for a counting queue `q`:\n",
        "\n",
        "    for el in q:\n",
        "        print el\n",
        "\n",
        "and we would like this to print all queue elements, in order. \n",
        "\n",
        "The way to achieve this is to define an `__iter__` method that acts as a generator for the elements. "
      ]
    },
    {
      "cell_type": "code",
      "execution_count": 45,
      "metadata": {
        "deletable": false,
        "id": "PaT5QA4e6rmN",
        "nbgrader": {
          "cell_type": "code",
          "checksum": "f09e363d323940102d4dd81bfe1723e5",
          "grade": false,
          "grade_id": "cell-1d6ded581486b321",
          "locked": false,
          "schema_version": 3,
          "solution": true
        }
      },
      "outputs": [],
      "source": [
        "### Exercise: Write an iterator for CountingQueue\n",
        "\n",
        "# Note: it can be done elegantly in 3 lines of code.\n",
        "\n",
        "def countingqueue_iter_elements(self):\n",
        "    \"\"\"Iterates through all the elements of the queue,\n",
        "    without removing them.\"\"\"\n",
        "    # YOUR CODE HERE\n",
        "\n",
        "CountingQueue.__iter__ = countingqueue_iter_elements\n"
      ]
    },
    {
      "cell_type": "code",
      "execution_count": 44,
      "metadata": {
        "deletable": false,
        "editable": false,
        "id": "4JrTCsoo6rmO",
        "nbgrader": {
          "cell_type": "code",
          "checksum": "43ae1d940aca2250e78f26018f859636",
          "grade": true,
          "grade_id": "cell-9394eb3e713b0c74",
          "locked": true,
          "points": 10,
          "schema_version": 3,
          "solution": false
        }
      },
      "outputs": [
        {
          "name": "stdout",
          "output_type": "stream",
          "text": [
            "[]\n",
            "['a', 'a', 'a', 'a', 'a', 'a', 'a', 'a', 'a', 'a', 'b', 'c', 'c', 'c', 'c', 'c', 'c']\n"
          ]
        }
      ],
      "source": [
        "### Tests for `CountingQueue.__iter__`\n",
        "\n",
        "q = CountingQueue()\n",
        "for i in range(10):\n",
        "    q.add('a')\n",
        "q.add('b')\n",
        "for i in range(3):\n",
        "    q.add('c', count=2)\n",
        "l1 = [x for x in q]\n",
        "l2 = []\n",
        "l3 = [x for x in q]\n",
        "assert len(l3) > 0\n",
        "while not q.isempty():\n",
        "    l2.append(q.get())\n",
        "check_equal(l1, l2)\n",
        "\n"
      ]
    }
  ],
  "metadata": {
    "colab": {
      "provenance": []
    },
    "kernelspec": {
      "display_name": "Python 3 (ipykernel)",
      "language": "python",
      "name": "python3"
    },
    "language_info": {
      "codemirror_mode": {
        "name": "ipython",
        "version": 3
      },
      "file_extension": ".py",
      "mimetype": "text/x-python",
      "name": "python",
      "nbconvert_exporter": "python",
      "pygments_lexer": "ipython3",
      "version": "3.10.0"
    }
  },
  "nbformat": 4,
  "nbformat_minor": 0
}
