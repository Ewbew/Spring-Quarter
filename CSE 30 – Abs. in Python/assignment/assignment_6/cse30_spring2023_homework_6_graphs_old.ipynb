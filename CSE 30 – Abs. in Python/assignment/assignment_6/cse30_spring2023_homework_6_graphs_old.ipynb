{
  "cells": [
    {
      "attachments": {},
      "cell_type": "markdown",
      "metadata": {
        "id": "FsNcj2CRpoPo"
      },
      "source": [
        "Before you turn this problem in, make sure everything runs as expected. First, **restart the kernel** (in the menubar, select Kernel$\\rightarrow$Restart) and then **run all cells** (in the menubar, select Cell$\\rightarrow$Run All).\n",
        "\n",
        "Make sure you fill in any place that says `YOUR CODE HERE` or \"YOUR ANSWER HERE\", as well as your name and collaborators below:"
      ]
    },
    {
      "cell_type": "code",
      "execution_count": null,
      "metadata": {
        "id": "nbpa6WSEpoPs"
      },
      "outputs": [],
      "source": [
        "NAME = \"Otto Sejrskild Santesson\"\n",
        "COLLABORATORS = \"\""
      ]
    },
    {
      "attachments": {},
      "cell_type": "markdown",
      "metadata": {
        "id": "54tPxxLApoPt"
      },
      "source": [
        "---"
      ]
    },
    {
      "attachments": {},
      "cell_type": "markdown",
      "metadata": {
        "deletable": false,
        "editable": false,
        "id": "XD9jbtb6OJvg",
        "nbgrader": {
          "cell_type": "markdown",
          "checksum": "f048c520bd18fe662dfe5e4839c2962f",
          "grade": false,
          "grade_id": "cell-55037a6d41d00674",
          "locked": true,
          "schema_version": 3,
          "solution": false
        }
      },
      "source": [
        "# Homework 6: Graphs\n",
        "\n",
        "Copyright \n",
        "License: [CC-BY-NC-ND](https://creativecommons.org/licenses/by-nc-nd/4.0/)."
      ]
    },
    {
      "attachments": {},
      "cell_type": "markdown",
      "metadata": {
        "deletable": false,
        "editable": false,
        "id": "UIqOUaFtOJvj",
        "nbgrader": {
          "cell_type": "markdown",
          "checksum": "139c8adc8ac9269b963d2d8e0d51e92e",
          "grade": false,
          "grade_id": "cell-03a3cd61036864ba",
          "locked": true,
          "schema_version": 3,
          "solution": false
        }
      },
      "source": [
        "## Submission\n",
        "\n",
        "[Please submit to this Google Form](https://docs.google.com/forms/d/e/1FAIpQLSeZjRDybga2B8iHG8flRb_8A3ESjgBrHZZOJy_sQGmGaRSQiQ/viewform?usp=sf_link).\n",
        "\n",
        "Deadline: Monday June 12, 11pm."
      ]
    },
    {
      "attachments": {},
      "cell_type": "markdown",
      "metadata": {
        "deletable": false,
        "editable": false,
        "id": "cuonJocHOJvk",
        "nbgrader": {
          "cell_type": "markdown",
          "checksum": "29017f66f508e683f16430a1edd9d985",
          "grade": false,
          "grade_id": "cell-21efdc98ecf8208d",
          "locked": true,
          "schema_version": 3,
          "solution": false
        }
      },
      "source": [
        "## Test Format\n",
        "\n",
        "The test contains 2 questions, for a total of 45 points. "
      ]
    },
    {
      "attachments": {},
      "cell_type": "markdown",
      "metadata": {
        "deletable": false,
        "editable": false,
        "id": "MJWO8ZDLOJvl",
        "nbgrader": {
          "cell_type": "markdown",
          "checksum": "e5f3dcd8215e0bfd81212d88c2109735",
          "grade": false,
          "grade_id": "cell-a5fd9d11c30cfb8f",
          "locked": true,
          "schema_version": 3,
          "solution": false
        }
      },
      "source": [
        "A (directed) graph $G = (V, E)$ consists of a set of vertices (or nodes) $V$, and a set of edges $E \\subseteq V \\times V$. "
      ]
    },
    {
      "attachments": {},
      "cell_type": "markdown",
      "metadata": {
        "deletable": false,
        "editable": false,
        "id": "KQ5k0JiMOJvm",
        "nbgrader": {
          "cell_type": "markdown",
          "checksum": "ebec67f9c8a9ad6578255699dd440a38",
          "grade": false,
          "grade_id": "cell-c92d8e4388c8e556",
          "locked": true,
          "schema_version": 3,
          "solution": false
        }
      },
      "source": [
        "![alt text](https://drive.google.com/uc?export=view&id=1ZX-cLXaHsNtLOtX54eo2yrn3n9LsdsHz)\n",
        "\n",
        "An example of a graph with $V = \\{a, b, c, d, e, f, g\\}$ and $E = \\{(a, b), (a, c), (a,d), (b,d), (c,a), (c, e), (d, b), (d, c), (f, g), (g, f)\\}$."
      ]
    },
    {
      "attachments": {},
      "cell_type": "markdown",
      "metadata": {
        "deletable": false,
        "editable": false,
        "id": "BBi0NxqDOJvn",
        "nbgrader": {
          "cell_type": "markdown",
          "checksum": "b8a4f066acebd71af3112174a750e723",
          "grade": false,
          "grade_id": "cell-83c7b434960ac735",
          "locked": true,
          "schema_version": 3,
          "solution": false
        }
      },
      "source": [
        "How should we represent a graph?  A general principle of software development -- really, of life -- is: failing special reasons, always go for the simplest solution. \n",
        "So our first attempt consists in storing a graph exactly according to its definition: as a set of vertices and a set of edges."
      ]
    },
    {
      "cell_type": "code",
      "execution_count": 1,
      "metadata": {
        "deletable": false,
        "editable": false,
        "id": "bHMoI_dUOJvo",
        "nbgrader": {
          "cell_type": "code",
          "checksum": "e9edec5fb9f374277cd3a30cc033a322",
          "grade": false,
          "grade_id": "cell-e1709795b7a14360",
          "locked": true,
          "schema_version": 3,
          "solution": false
        }
      },
      "outputs": [],
      "source": [
        "class Graph(object):\n",
        "\n",
        "    def __init__(self, vertices=None, edges=None):\n",
        "        # We use set below, just in case somebody passes a list to the initializer.\n",
        "        self.vertices = set(vertices or [])\n",
        "        self.edges = set(edges or [])\n"
      ]
    },
    {
      "cell_type": "code",
      "execution_count": 2,
      "metadata": {
        "deletable": false,
        "editable": false,
        "id": "XAnqH0w0OJvq",
        "nbgrader": {
          "cell_type": "code",
          "checksum": "7d48a12f171e930cde8cf1821b6124bb",
          "grade": false,
          "grade_id": "cell-c905322ee71a05b2",
          "locked": true,
          "schema_version": 3,
          "solution": false
        }
      },
      "outputs": [],
      "source": [
        "g = Graph(vertices={'a', 'b', 'c', 'd', 'e', 'f', 'g'},\n",
        "          edges={('a', 'b'), ('a', 'c'), ('a', 'd'), ('b', 'd'),\n",
        "                 ('c', 'a'), ('c', 'e'), ('d', 'b'), ('d', 'c'),\n",
        "                 ('f', 'g'), ('g', 'f')})\n"
      ]
    },
    {
      "attachments": {},
      "cell_type": "markdown",
      "metadata": {
        "deletable": false,
        "editable": false,
        "id": "139NImKnOJvr",
        "nbgrader": {
          "cell_type": "markdown",
          "checksum": "c0ab1b655739173869c07080f5c0298e",
          "grade": false,
          "grade_id": "cell-a185b37552f6cf00",
          "locked": true,
          "schema_version": 3,
          "solution": false
        }
      },
      "source": [
        "Great, but, how do we display graphs?  And what can we do with them?  \n",
        "\n",
        "Let's first of all add a method .show() that will enable us to look at a graph; this uses the library [networkx](https://networkx.github.io/)."
      ]
    },
    {
      "cell_type": "code",
      "execution_count": 2,
      "metadata": {
        "deletable": false,
        "editable": false,
        "id": "AgF85JTHOJvs",
        "nbgrader": {
          "cell_type": "code",
          "checksum": "e8d8ce499487e87c4e4feeba7c1efe8c",
          "grade": false,
          "grade_id": "cell-410f097bef6d278f",
          "locked": true,
          "schema_version": 3,
          "solution": false
        }
      },
      "outputs": [],
      "source": [
        "import networkx as nx # Library for displaying graphs.\n",
        "\n",
        "class Graph(object):\n",
        "\n",
        "    def __init__(self, vertices=None, edges=None):\n",
        "        # We use set below, just in case somebody passes a list to the initializer.\n",
        "        self.vertices = set(vertices or [])\n",
        "        self.edges = set(edges or [])\n",
        "\n",
        "    def show(self):\n",
        "        g = nx.DiGraph()\n",
        "        g.add_nodes_from(self.vertices)\n",
        "        g.add_edges_from(self.edges)\n",
        "        nx.draw(g, with_labels=True)\n"
      ]
    },
    {
      "cell_type": "code",
      "execution_count": 4,
      "metadata": {
        "deletable": false,
        "editable": false,
        "id": "iUsqLMaKOJvt",
        "nbgrader": {
          "cell_type": "code",
          "checksum": "be684080bd05dcff6c070536915a5dcc",
          "grade": false,
          "grade_id": "cell-4dd4ab62ecef873",
          "locked": true,
          "schema_version": 3,
          "solution": false
        }
      },
      "outputs": [
        {
          "data": {
            "image/png": "[encoded data removed]",
            "text/plain": [
              "<Figure size 432x288 with 1 Axes>"
            ]
          },
          "metadata": {},
          "output_type": "display_data"
        }
      ],
      "source": [
        "g = Graph(vertices={'a', 'b', 'c', 'd', 'e', 'f', 'g'},\n",
        "          edges={('a', 'b'), ('a', 'c'), ('a', 'd'), ('b', 'd'),\n",
        "                 ('c', 'a'), ('c', 'e'), ('d', 'b'), ('d', 'c'),\n",
        "                 ('f', 'g'), ('g', 'f')})\n",
        "g.show()\n"
      ]
    },
    {
      "attachments": {},
      "cell_type": "markdown",
      "metadata": {
        "deletable": false,
        "editable": false,
        "id": "rcujPd8aOJvu",
        "nbgrader": {
          "cell_type": "markdown",
          "checksum": "72051c62a5084bd16809ac78ba449c92",
          "grade": false,
          "grade_id": "cell-8b8a54272420a7eb",
          "locked": true,
          "schema_version": 3,
          "solution": false
        }
      },
      "source": [
        "Ok, this is not nearly as pretty as what we generated by hand, but it will have to do. "
      ]
    },
    {
      "attachments": {},
      "cell_type": "markdown",
      "metadata": {
        "deletable": false,
        "editable": false,
        "id": "vLdKxqH4OJvv",
        "nbgrader": {
          "cell_type": "markdown",
          "checksum": "f1e1dec7629d3c28a42a1f62686875e2",
          "grade": false,
          "grade_id": "cell-20d2efe8cdd62bb8",
          "locked": true,
          "schema_version": 3,
          "solution": false
        }
      },
      "source": [
        "## One-Step Reachability and Graph Representations\n",
        "\n",
        "What are conceivable operations on graphs?  There are some basic ones, such as adding a vertex and adding an edge.  These are easily taken care of."
      ]
    },
    {
      "cell_type": "code",
      "execution_count": 5,
      "metadata": {
        "deletable": false,
        "editable": false,
        "id": "4H7UxpfOOJvv",
        "nbgrader": {
          "cell_type": "code",
          "checksum": "69f74bb9555c91d9278b0e2db8568c97",
          "grade": false,
          "grade_id": "cell-3130ac0abb01acf2",
          "locked": true,
          "schema_version": 3,
          "solution": false
        }
      },
      "outputs": [],
      "source": [
        "import networkx as nx # Library for displaying graphs.\n",
        "\n",
        "class Graph(object):\n",
        "\n",
        "    def __init__(self, vertices=None, edges=None):\n",
        "        # We use set below, just in case somebody passes a list to the initializer.\n",
        "        self.vertices = set(vertices or [])\n",
        "        self.edges = set(edges or [])\n",
        "\n",
        "    def show(self):\n",
        "        g = nx.DiGraph()\n",
        "        g.add_nodes_from(self.vertices)\n",
        "        g.add_edges_from(self.edges)\n",
        "        nx.draw(g, with_labels=True)\n",
        "\n",
        "    def add_vertex(self, v):\n",
        "        self.vertices.add(v)\n",
        "\n",
        "    def add_edge(self, e):\n",
        "        self.edges.add(e)\n"
      ]
    },
    {
      "attachments": {},
      "cell_type": "markdown",
      "metadata": {
        "deletable": false,
        "editable": false,
        "id": "m9ISIQ9uOJvw",
        "nbgrader": {
          "cell_type": "markdown",
          "checksum": "a373f00b3bcb69848bceb4c697b10bd1",
          "grade": false,
          "grade_id": "cell-ee51d67848fa10c9",
          "locked": true,
          "schema_version": 3,
          "solution": false
        }
      },
      "source": [
        "Further, a graph represents a set of connections between vertices, so a very elementary question to ask is the following: if we are at vertex $v$, can we get to another vertex $u$ by following one or more edges? \n",
        " \n",
        "As a first step towards the solution, we want to compute the set of vertices reachable from $v$ in one step, by following one edge; we call these vertices the _successors_ of $v$. \n",
        "\n",
        "Writing a function g.successors(u) that returns the set of successors of $u$ is simple enough.  Note that the code directly mimicks the mathematical definition: \n",
        "\n",
        "$$\n",
        "\\mathit{Successors}(u) = \\{v \\in V \\mid (u, v) \\in E\\} \\; .\n",
        "$$"
      ]
    },
    {
      "cell_type": "code",
      "execution_count": 6,
      "metadata": {
        "deletable": false,
        "editable": false,
        "id": "vMguuTrxOJvw",
        "nbgrader": {
          "cell_type": "code",
          "checksum": "cc78779a98eecdf58ab40ef3204b8d65",
          "grade": false,
          "grade_id": "cell-7ae5e21a82ad346",
          "locked": true,
          "schema_version": 3,
          "solution": false
        }
      },
      "outputs": [],
      "source": [
        "import networkx as nx # Library for displaying graphs.\n",
        "\n",
        "class Graph(object):\n",
        "\n",
        "    def __init__(self, vertices=None, edges=None):\n",
        "        # We use set below, just in case somebody passes a list to the initializer.\n",
        "        self.vertices = set(vertices or [])\n",
        "        self.edges = set(edges or [])\n",
        "\n",
        "    def show(self):\n",
        "        g = nx.DiGraph()\n",
        "        g.add_nodes_from(self.vertices)\n",
        "        g.add_edges_from(self.edges)\n",
        "        nx.draw(g, with_labels=True)\n",
        "\n",
        "    def add_vertex(self, v):\n",
        "        self.vertices.add(v)\n",
        "\n",
        "    def add_edge(self, e):\n",
        "        self.edges.add(e)\n",
        "\n",
        "    def successors(self, u):\n",
        "        \"\"\"Returns the set of successors of vertex u\"\"\"\n",
        "        return {v for v in self.vertices if (u, v) in self.edges}\n"
      ]
    },
    {
      "cell_type": "code",
      "execution_count": 7,
      "metadata": {
        "deletable": false,
        "editable": false,
        "id": "LzN-STkDOJvx",
        "nbgrader": {
          "cell_type": "code",
          "checksum": "04ef4671246a2da9215aa8d66699b09b",
          "grade": false,
          "grade_id": "cell-4d9ae09f53763cc3",
          "locked": true,
          "schema_version": 3,
          "solution": false
        }
      },
      "outputs": [
        {
          "data": {
            "text/plain": [
              "{'b', 'c', 'd'}"
            ]
          },
          "execution_count": 7,
          "metadata": {},
          "output_type": "execute_result"
        }
      ],
      "source": [
        "g = Graph(vertices={'a', 'b', 'c', 'd', 'e', 'f', 'g'},\n",
        "          edges={('a', 'b'), ('a', 'c'), ('a', 'd'), ('b', 'd'),\n",
        "                 ('c', 'a'), ('c', 'e'), ('d', 'b'), ('d', 'c'),\n",
        "                 ('f', 'g'), ('g', 'f')})\n",
        "g.successors('a')\n"
      ]
    },
    {
      "attachments": {},
      "cell_type": "markdown",
      "metadata": {
        "deletable": false,
        "editable": false,
        "id": "_0nQV-hSOJvy",
        "nbgrader": {
          "cell_type": "markdown",
          "checksum": "ae9c6fbe854249c288ddedf57c8ace80",
          "grade": false,
          "grade_id": "cell-3c959888f14aab3f",
          "locked": true,
          "schema_version": 3,
          "solution": false
        }
      },
      "source": [
        "But there's a rub.  The method successors, as written, requires us to loop over the whole set of vertices.  Because self.edges is a set, represented as a hash table, once we have a pair (u, v), checking \n",
        "\n",
        "    (v, u) in self.edges\n",
        "    \n",
        "is efficient.  But typically, graphs have a locality structure, so that each node is connected only to a small subset of the total vertices; having to loop over all vertices to find the successors of a vertex is a great waste. \n",
        "It is as if I asked you to what places you can get from San Francisco with a direct flight, and to answer, you started to rattle off all of the world's cities, from Aachen, Aalborg, Aarhus, ..., all the way to Zürich, Zuwarah, Zwolle, and for each city you checked if there's a flight from San Francisco to that city!  Clearly not the best method.\n",
        "\n",
        "Given that our main use for graphs is to answer reachability-type questions, a better idea is to store the edges via a dictionary that associates with each vertex the set of successors of the vertex.  The vertices will simply be the keys of the dictionary.\n"
      ]
    },
    {
      "cell_type": "code",
      "execution_count": 8,
      "metadata": {
        "deletable": false,
        "editable": false,
        "id": "U1nrPErNOJvz",
        "nbgrader": {
          "cell_type": "code",
          "checksum": "c956e8b4fd24406cea6738cf4a7af9b5",
          "grade": false,
          "grade_id": "cell-f6bfce2cf9273863",
          "locked": true,
          "schema_version": 3,
          "solution": false
        }
      },
      "outputs": [],
      "source": [
        "import networkx as nx # Library for displaying graphs.\n",
        "from collections import defaultdict\n",
        "\n",
        "class Graph(object):\n",
        "\n",
        "    def __init__(self, vertices=None, edges=None):\n",
        "        self.s = {u: set() for u in vertices or []}\n",
        "        for u, v in (edges or []):\n",
        "            self.add_edge((u, v))\n",
        "\n",
        "    def show(self):\n",
        "        g = nx.DiGraph()\n",
        "        g.add_nodes_from(self.s.keys())\n",
        "        g.add_edges_from([(u, v) for u in self.s for v in self.s[u]])\n",
        "        nx.draw(g, with_labels=True)\n",
        "\n",
        "    def add_vertex(self, v):\n",
        "        if v not in self.s:\n",
        "            self.s[v] = set()\n",
        "\n",
        "    def add_edge(self, e):\n",
        "        u, v = e\n",
        "        self.add_vertex(u)\n",
        "        self.add_vertex(v)\n",
        "        self.s[u].add(v)\n",
        "\n",
        "    @property\n",
        "    def vertices(self):\n",
        "        return set(self.s.keys())\n",
        "\n",
        "    def successors(self, u):\n",
        "        \"\"\"Returns the set of successors of vertex u\"\"\"\n",
        "        return self.s[u]\n"
      ]
    },
    {
      "cell_type": "code",
      "execution_count": 9,
      "metadata": {
        "deletable": false,
        "editable": false,
        "id": "pQSMU4aAOJv0",
        "nbgrader": {
          "cell_type": "code",
          "checksum": "1a0651479553de51dbea51fa315438dd",
          "grade": false,
          "grade_id": "cell-fbfbf3133e5bec1f",
          "locked": true,
          "schema_version": 3,
          "solution": false
        }
      },
      "outputs": [
        {
          "name": "stdout",
          "output_type": "stream",
          "text": [
            "{'b', 'c', 'd'}\n"
          ]
        },
        {
          "data": {
            "image/png": "[encoded data removed]",
            "text/plain": [
              "<Figure size 432x288 with 1 Axes>"
            ]
          },
          "metadata": {},
          "output_type": "display_data"
        }
      ],
      "source": [
        "g = Graph(vertices={'a', 'b', 'c', 'd', 'e', 'f', 'g'},\n",
        "          edges={('a', 'b'), ('a', 'c'), ('a', 'd'), ('b', 'd'),\n",
        "                 ('c', 'a'), ('c', 'e'), ('d', 'b'), ('d', 'c'),\n",
        "                 ('f', 'g'), ('g', 'f')})\n",
        "g.show()\n",
        "print(g.successors('a'))\n"
      ]
    },
    {
      "attachments": {},
      "cell_type": "markdown",
      "metadata": {
        "deletable": false,
        "editable": false,
        "id": "6xlJz2Z5OJv0",
        "nbgrader": {
          "cell_type": "markdown",
          "checksum": "df727fb7e91fbaa50f2ed76266f1df07",
          "grade": false,
          "grade_id": "cell-e328cd4e08666c96",
          "locked": true,
          "schema_version": 3,
          "solution": false
        }
      },
      "source": [
        "## Graph Reachability"
      ]
    },
    {
      "attachments": {},
      "cell_type": "markdown",
      "metadata": {
        "deletable": false,
        "editable": false,
        "id": "-lN2LOkkOJv1",
        "nbgrader": {
          "cell_type": "markdown",
          "checksum": "1cffb128fd7fa70785646001d5bf364f",
          "grade": false,
          "grade_id": "cell-72f9903dafaa3c7f",
          "locked": true,
          "schema_version": 3,
          "solution": false
        }
      },
      "source": [
        "We now come to one of the fundamental graph algorithms, in fact, perhaps _the_ most fundamental algorithm for graphs: computing the set of vertices reachable from a given starting vertex.  Exploring what is reachable from a graph vertex is a truly basic task, and variations on the algorithm can be used to answer related questions, such as whether a vertex is reachable from a given starting vertex. \n",
        "\n",
        "The algorithm keeps two sets of vertices: \n",
        "\n",
        "* The set of _open_ vertices: these are the vertices that are known to be reachable, and whose successors have not yet been explored. \n",
        "* The set of _closed_ vertices: these are the vertices that are known to be reachable, and whose successors we have already explored. \n",
        "\n",
        "Intially, the set of open vertices contains only the starting vertex, and the set of closed vertices is empty, as we have completed no exploration. \n",
        "Repeatedly, we pick an open vertex, we move it to the closed set, and we put all its successor vertices -- except those that are closed already -- in the open set.   The algorithm continues until there are no more open vertices; at that point, the set of reachable vertices is equal to the closed vertices.  \n",
        "\n",
        "If there is _one_ graph algorithm that you must learn by heart, and that you should be able to write even when you hang upside down from monkeybars, this is it.\n",
        "\n",
        "Let us write the algorithm as a function first. \n"
      ]
    },
    {
      "cell_type": "code",
      "execution_count": 10,
      "metadata": {
        "deletable": false,
        "editable": false,
        "id": "jd-wEFpEOJv2",
        "nbgrader": {
          "cell_type": "code",
          "checksum": "50f7f1c6997999f3bcd7a5ad8e978628",
          "grade": false,
          "grade_id": "cell-ebdfc4497c43f2bc",
          "locked": true,
          "schema_version": 3,
          "solution": false
        }
      },
      "outputs": [],
      "source": [
        "def reachable(g, v):\n",
        "    \"\"\"Given a graph g, and a starting vertex v, returns the set of states\n",
        "    reachable from v in g.\"\"\"\n",
        "    vopen = {v}\n",
        "    vclosed = set()\n",
        "    while len(vopen) > 0:\n",
        "        u = vopen.pop()\n",
        "        vclosed.add(u)\n",
        "        vopen.update(g.successors(u) - vclosed)\n",
        "    return vclosed\n"
      ]
    },
    {
      "cell_type": "code",
      "execution_count": 11,
      "metadata": {
        "deletable": false,
        "editable": false,
        "id": "_9kjF23OOJv3",
        "nbgrader": {
          "cell_type": "code",
          "checksum": "57e38787d7ad0966c8fe90f03e1bb85b",
          "grade": false,
          "grade_id": "cell-40f123a70f8ba1be",
          "locked": true,
          "schema_version": 3,
          "solution": false
        }
      },
      "outputs": [
        {
          "name": "stdout",
          "output_type": "stream",
          "text": [
            "{'b', 'c', 'e', 'a', 'd'}\n",
            "{'g', 'f'}\n"
          ]
        }
      ],
      "source": [
        "print(reachable(g, 'a'))\n",
        "print(reachable(g, 'g'))\n"
      ]
    },
    {
      "attachments": {},
      "cell_type": "markdown",
      "metadata": {
        "deletable": false,
        "editable": false,
        "id": "O9-lQHjkOJv4",
        "nbgrader": {
          "cell_type": "markdown",
          "checksum": "eafd20e6ecafbe207ff20639b9308566",
          "grade": false,
          "grade_id": "cell-9707cf6522600052",
          "locked": true,
          "schema_version": 3,
          "solution": false
        }
      },
      "source": [
        "To visualize the algorithm, let us write a version where at each iteration, open vertices are drawn in red and closed ones in green"
      ]
    },
    {
      "cell_type": "code",
      "execution_count": 12,
      "metadata": {
        "deletable": false,
        "editable": false,
        "id": "_BOxFue8OJv4",
        "nbgrader": {
          "cell_type": "code",
          "checksum": "6e6f78f3819ccc01f15634759ac5e9a0",
          "grade": false,
          "grade_id": "cell-b8e1d6e27079e6e",
          "locked": true,
          "schema_version": 3,
          "solution": false
        }
      },
      "outputs": [],
      "source": [
        "import matplotlib.pyplot as plt\n",
        "def color_draw(g, vopen, vclosed):\n",
        "    gg = nx.DiGraph()\n",
        "    gg.add_nodes_from(g.vertices)\n",
        "    gg.add_edges_from([(u, v) for u in g.vertices for v in g.successors(u)])\n",
        "    \n",
        "    color_map = []\n",
        "    for v in g.vertices:\n",
        "      if v in vopen:\n",
        "        color_map.append(\"red\")\n",
        "      elif v in vclosed:\n",
        "        color_map.append(\"green\")\n",
        "      else:\n",
        "        color_map.append(\"blue\")\n",
        "\n",
        "    #print(\"=> node_colors:\",color_map)\n",
        "    #nx.draw(gg, with_labels=True, node_color=node_colors)\n",
        "    nx.draw(gg, with_labels=True, node_color=color_map)\n",
        "\n",
        "    plt.show()\n",
        "\n",
        "def reachable(g, v):\n",
        "    \"\"\"Given a graph g, and a starting vertex v, returns the set of states\n",
        "    reachable from v in g.\"\"\"\n",
        "    vopen = {v}\n",
        "    vclosed = set()\n",
        "    color_draw(g, vopen, vclosed)\n",
        "    while len(vopen) > 0:\n",
        "        u = vopen.pop()\n",
        "        vclosed.add(u)\n",
        "        vopen.update(g.successors(u) - vclosed)\n",
        "        color_draw(g, vopen, vclosed)\n",
        "    return vclosed\n"
      ]
    },
    {
      "cell_type": "code",
      "execution_count": 13,
      "metadata": {
        "deletable": false,
        "editable": false,
        "id": "7TOlFINFOJv5",
        "nbgrader": {
          "cell_type": "code",
          "checksum": "ea6f714fcd43da94da7f7978140e3624",
          "grade": false,
          "grade_id": "cell-3bc0f00ed06f1d1f",
          "locked": true,
          "schema_version": 3,
          "solution": false
        }
      },
      "outputs": [
        {
          "data": {
            "image/png": "[encoded data removed]",
            "text/plain": [
              "<Figure size 432x288 with 1 Axes>"
            ]
          },
          "metadata": {},
          "output_type": "display_data"
        },
        {
          "data": {
            "image/png": "[encoded data removed]",
            "text/plain": [
              "<Figure size 432x288 with 1 Axes>"
            ]
          },
          "metadata": {},
          "output_type": "display_data"
        },
        {
          "data": {
            "image/png": "[encoded data removed]",
            "text/plain": [
              "<Figure size 432x288 with 1 Axes>"
            ]
          },
          "metadata": {},
          "output_type": "display_data"
        },
        {
          "data": {
            "image/png": "[encoded data removed]",
            "text/plain": [
              "<Figure size 432x288 with 1 Axes>"
            ]
          },
          "metadata": {},
          "output_type": "display_data"
        },
        {
          "data": {
            "image/png": "[encoded data removed]",
            "text/plain": [
              "<Figure size 432x288 with 1 Axes>"
            ]
          },
          "metadata": {},
          "output_type": "display_data"
        },
        {
          "data": {
            "image/png": "[encoded data removed]",
            "text/plain": [
              "<Figure size 432x288 with 1 Axes>"
            ]
          },
          "metadata": {},
          "output_type": "display_data"
        },
        {
          "data": {
            "text/plain": [
              "{'a', 'b', 'c', 'd', 'e'}"
            ]
          },
          "execution_count": 13,
          "metadata": {},
          "output_type": "execute_result"
        }
      ],
      "source": [
        "reachable(g, 'a')\n"
      ]
    },
    {
      "attachments": {},
      "cell_type": "markdown",
      "metadata": {
        "deletable": false,
        "editable": false,
        "id": "JThxeQiNOJv6",
        "nbgrader": {
          "cell_type": "markdown",
          "checksum": "e9fd38df5cae23b38ae4732b0113166b",
          "grade": false,
          "grade_id": "cell-b86b868bac66df1d",
          "locked": true,
          "schema_version": 3,
          "solution": false
        }
      },
      "source": [
        "Great!  Let's now endow our graph with a method that yields the vertices reachable from any given starting vertex."
      ]
    },
    {
      "cell_type": "code",
      "execution_count": 14,
      "metadata": {
        "deletable": false,
        "editable": false,
        "id": "ijqonBV3OJv7",
        "nbgrader": {
          "cell_type": "code",
          "checksum": "fe2f34a24ae4281d81f56c4fac7013b6",
          "grade": false,
          "grade_id": "cell-b3ff972f5ef72b67",
          "locked": true,
          "schema_version": 3,
          "solution": false
        }
      },
      "outputs": [],
      "source": [
        "import networkx as nx # Library for displaying graphs.\n",
        "\n",
        "class Graph(object):\n",
        "\n",
        "    def __init__(self, vertices=None, edges=None):\n",
        "        self.s = {u: set() for u in vertices or []}\n",
        "        for u, v in (edges or []):\n",
        "            self.add_edge((u, v))\n",
        "\n",
        "    def show(self):\n",
        "        g = nx.DiGraph()\n",
        "        g.add_nodes_from(self.s.keys())\n",
        "        g.add_edges_from([(u, v) for u in self.s for v in self.s[u]])\n",
        "        nx.draw(g, with_labels=True)\n",
        "\n",
        "    def add_vertex(self, v):\n",
        "        if v not in self.s:\n",
        "            self.s[v] = set()\n",
        "\n",
        "    def add_edge(self, e):\n",
        "        u, v = e\n",
        "        self.add_vertex(u)\n",
        "        self.add_vertex(v)\n",
        "        self.s[u].add(v)\n",
        "\n",
        "    @property\n",
        "    def vertices(self):\n",
        "        return set(self.s.keys())\n",
        "\n",
        "    def successors(self, u):\n",
        "        \"\"\"Returns true iff one can get from vertex v to vertex u by following\n",
        "        one edge.\"\"\"\n",
        "        return self.s[u]\n",
        "\n",
        "    def __eq__(self, other):\n",
        "        \"\"\"We need to define graph equality.\"\"\"\n",
        "        if self.vertices != other.vertices:\n",
        "            return False\n",
        "        for v, d in self.s.items():\n",
        "            if d != other.s[v]:\n",
        "                return False\n",
        "        return True\n",
        "\n",
        "    def __repr__(self):\n",
        "        r = \"Graph:\"\n",
        "        for v in self.vertices:\n",
        "            r += \"\\n %r : %r\" % (v, self.s.get(v))\n",
        "        return r\n",
        "\n",
        "    def show(self):\n",
        "        g = nx.DiGraph()\n",
        "        g.add_nodes_from(self.vertices)\n",
        "        g.add_edges_from([(u, v) for u in self.vertices for v in self.s[u]])\n",
        "        nx.draw(g, with_labels=True)\n",
        "\n",
        "    def add_vertex(self, v):\n",
        "        self.vertices.add(v)\n",
        "        # We must be careful not to overwrite the successor relation\n",
        "        # in case v might already be present in the graph.\n",
        "        self.s[v] = self.s.get(v, set())\n",
        "\n",
        "    def add_edge(self, e):\n",
        "        \"\"\"Adds an edge e = (u, v) between two vertices u, v.  If the\n",
        "        two vertices are not already in the graph, adds them.\"\"\"\n",
        "        u, v = e\n",
        "        self.vertices.update({u, v})\n",
        "        # Initializes the successor function if needed.\n",
        "        self.s[u] = self.s.get(u, set()) | {v}\n",
        "        self.s[v] = self.s.get(v, set())\n",
        "\n",
        "    def successors(self, u):\n",
        "        \"\"\"Returns the set of successors of a vertex u\"\"\"\n",
        "        return self.s[u]\n",
        "\n",
        "    def reachable(self, v):\n",
        "        \"\"\"Returns the set of vertices reachable from an initial vertex v.\"\"\"\n",
        "        vopen = {v}\n",
        "        vclosed = set()\n",
        "        while len(vopen) > 0:\n",
        "            u = vopen.pop()\n",
        "            vclosed.add(u)\n",
        "            vopen.update(self.s[u] - vclosed)\n",
        "        return vclosed\n"
      ]
    },
    {
      "attachments": {},
      "cell_type": "markdown",
      "metadata": {
        "deletable": false,
        "editable": false,
        "id": "G6xbVsh7OJv7",
        "nbgrader": {
          "cell_type": "markdown",
          "checksum": "5a9f2f6f2fef6a514d2848bcc73bfade",
          "grade": false,
          "grade_id": "cell-569eda2a38cd00fc",
          "locked": true,
          "schema_version": 3,
          "solution": false
        }
      },
      "source": [
        "### Testing the implementation\n",
        "\n",
        "This seems to be a reasonable implementation.  Let us do some tests, to check that everything works as expected.  The nose tools are very handy for testing.\n",
        "We have written a _check function that enables us to test whether the definition of a graph is self consistent.  Writing such consistency checks is very useful.  In development, we may call them often.  In production code, we may choose to call them at key points in the code, to prevent the propagation of errors to distant places in the code. "
      ]
    },
    {
      "cell_type": "code",
      "execution_count": 16,
      "metadata": {
        "deletable": false,
        "editable": false,
        "id": "HKdwsDFJOJv8",
        "nbgrader": {
          "cell_type": "code",
          "checksum": "56b1757720bd24b43b1de0f2d8dcb7a8",
          "grade": false,
          "grade_id": "cell-6c0be9431c7d755b",
          "locked": true,
          "schema_version": 3,
          "solution": false
        }
      },
      "outputs": [],
      "source": [
        "# Let us ensure that nose is installed.\n",
        "try:\n",
        "    from nose.tools import assert_equal, assert_true\n",
        "    from nose.tools import assert_false, assert_almost_equal\n",
        "except:\n",
        "    !pip install nose\n",
        "    from nose.tools import assert_equal, assert_true\n",
        "    from nose.tools import assert_false, assert_almost_equal\n"
      ]
    },
    {
      "cell_type": "code",
      "execution_count": 17,
      "metadata": {
        "deletable": false,
        "editable": false,
        "id": "L-jahF32OJv9",
        "nbgrader": {
          "cell_type": "code",
          "checksum": "9980e1ec3019fd9be6eb4e5979ccc852",
          "grade": false,
          "grade_id": "cell-24132b32bd94d29b",
          "locked": true,
          "schema_version": 3,
          "solution": false
        }
      },
      "outputs": [],
      "source": [
        "import random\n"
      ]
    },
    {
      "attachments": {},
      "cell_type": "markdown",
      "metadata": {
        "deletable": false,
        "editable": false,
        "id": "ZdrGz5DoOJv9",
        "nbgrader": {
          "cell_type": "markdown",
          "checksum": "9913f41aefe4a1e0661619b6abde2c86",
          "grade": false,
          "grade_id": "cell-54db282870becd89",
          "locked": true,
          "schema_version": 3,
          "solution": false
        }
      },
      "source": [
        "Let's build constructors for random graphs."
      ]
    },
    {
      "cell_type": "code",
      "execution_count": 18,
      "metadata": {
        "deletable": false,
        "editable": false,
        "id": "-8-LdPx4OJv-",
        "nbgrader": {
          "cell_type": "code",
          "checksum": "fa835e30a66884281a7111fa22f344b6",
          "grade": false,
          "grade_id": "cell-9711b1c6ada317a9",
          "locked": true,
          "schema_version": 3,
          "solution": false
        }
      },
      "outputs": [],
      "source": [
        "vertices = list('abcdefghilmnopqrstuvz')\n",
        "\n",
        "def random_vertices():\n",
        "    \"\"\"Returns a set of random vertices.\"\"\"\n",
        "    return set(random.choices(vertices, k=12))\n",
        "\n",
        "def random_edges(vs):\n",
        "    \"\"\"Returns a set of random edges, given a set of vertices.\"\"\"\n",
        "    vxv = [(u, v) for u in vs for v in vs]\n",
        "    return set(random.choices(vxv, k=min(len(vxv), 50)))\n",
        "\n",
        "def random_graph():\n",
        "    vs = random_vertices()\n",
        "    e = random_edges(vs)\n",
        "    return Graph(vertices=vs, edges=e)\n"
      ]
    },
    {
      "attachments": {},
      "cell_type": "markdown",
      "metadata": {
        "deletable": false,
        "editable": false,
        "id": "Ybm0my01OJv-",
        "nbgrader": {
          "cell_type": "markdown",
          "checksum": "6868396e4bdc0cb85520b01a95e33d2e",
          "grade": false,
          "grade_id": "cell-c03223a034d6a018",
          "locked": true,
          "schema_version": 3,
          "solution": false
        }
      },
      "source": [
        "We can create random graphs."
      ]
    },
    {
      "cell_type": "code",
      "execution_count": 19,
      "metadata": {
        "deletable": false,
        "editable": false,
        "id": "x-_wg0BrOJv_",
        "nbgrader": {
          "cell_type": "code",
          "checksum": "1d4327926fec29c22eb6ef8a0c0046a2",
          "grade": false,
          "grade_id": "cell-60b2e87b3c501b57",
          "locked": true,
          "schema_version": 3,
          "solution": false
        }
      },
      "outputs": [],
      "source": [
        "for _ in range(100):\n",
        "    g = Graph()\n",
        "    vs = random_vertices()\n",
        "    es = random_edges(vs)\n",
        "    for e in es:\n",
        "        g.add_edge(e)\n"
      ]
    },
    {
      "attachments": {},
      "cell_type": "markdown",
      "metadata": {
        "deletable": false,
        "editable": false,
        "id": "FJ1XAQBXOJv_",
        "nbgrader": {
          "cell_type": "markdown",
          "checksum": "f754f15ff2c6c5b56def07c3144e03eb",
          "grade": false,
          "grade_id": "cell-5e004bc8440b9108",
          "locked": true,
          "schema_version": 3,
          "solution": false
        }
      },
      "source": [
        "Let's check that the graph we obtain does not depend on the order with which we add the vertices and edges."
      ]
    },
    {
      "cell_type": "code",
      "execution_count": 20,
      "metadata": {
        "deletable": false,
        "editable": false,
        "id": "CGHi1td8OJv_",
        "nbgrader": {
          "cell_type": "code",
          "checksum": "7d69a43e6d2ff76e740064cdc965ef0a",
          "grade": false,
          "grade_id": "cell-ca5494cc5bb6757a",
          "locked": true,
          "schema_version": 3,
          "solution": false
        }
      },
      "outputs": [],
      "source": [
        "for _ in range(100):\n",
        "    vs = random_vertices()\n",
        "    es = list(random_edges(vs))\n",
        "    g1 = Graph(vertices=vs, edges=es)\n",
        "    g2 = Graph(vertices=vs)\n",
        "    g3 = Graph(vertices=vs)\n",
        "    esp = es[:] # Creates a copy.\n",
        "    random.shuffle(esp)\n",
        "    for e in es:\n",
        "        g2.add_edge(e)\n",
        "    for e in esp:\n",
        "        g3.add_edge(e)\n",
        "    assert_equal(g1, g2)\n",
        "    assert_equal(g1, g3)\n"
      ]
    },
    {
      "attachments": {},
      "cell_type": "markdown",
      "metadata": {
        "deletable": false,
        "editable": false,
        "id": "i0HsbIYLOJwA",
        "nbgrader": {
          "cell_type": "markdown",
          "checksum": "c9c38b61d54e62ddba2d74b13ef2e827",
          "grade": false,
          "grade_id": "cell-e46055c72d630412",
          "locked": true,
          "schema_version": 3,
          "solution": false
        }
      },
      "source": [
        "## Graph Operations"
      ]
    },
    {
      "attachments": {},
      "cell_type": "markdown",
      "metadata": {
        "deletable": false,
        "editable": false,
        "id": "d9822s9oOJwA",
        "nbgrader": {
          "cell_type": "markdown",
          "checksum": "60c7ad4369b603c42608e652c4f03853",
          "grade": false,
          "grade_id": "cell-9410b43abd656c2d",
          "locked": true,
          "schema_version": 3,
          "solution": false
        }
      },
      "source": [
        "What are useful, general graph operations we may implement?  Here are a few. \n",
        "\n",
        "*   **Union** and **intersection**. \n",
        "*   **Induced:** given a graph $G = (V, E)$ and a set of vertices $U$, we return the graph with set of vertices $V \\cap U$ and set of edges $E \\cap (V\\cap U \\times V \\cap U)$. This is the portion of the original graph that only involves vertices in V. \n",
        "* **Difference:** Remove, from a graph $G$, all vertices in a specified set $U$, along with the edges that have an endpoint in $U$. \n",
        "\n",
        "We will have you implement graph union. "
      ]
    },
    {
      "cell_type": "code",
      "execution_count": 86,
      "metadata": {
        "deletable": false,
        "editable": false,
        "id": "vXUV0UlgOJwA",
        "nbgrader": {
          "cell_type": "code",
          "checksum": "e7537a9d5c0b684cf2836e78d256aeed",
          "grade": false,
          "grade_id": "cell-351521709b8c85b",
          "locked": true,
          "schema_version": 3,
          "solution": false
        }
      },
      "outputs": [],
      "source": [
        "import networkx as nx # Library for displaying graphs.\n",
        "\n",
        "class Graph(object):\n",
        "\n",
        "    def __init__(self, vertices=None, edges=None):\n",
        "        self.s = {u: set() for u in vertices or []}\n",
        "        for u, v in (edges or []):\n",
        "            self.add_edge((u, v))\n",
        "\n",
        "    def show(self):\n",
        "        g = nx.DiGraph()\n",
        "        g.add_nodes_from(self.s.keys())\n",
        "        g.add_edges_from([(u, v) for u in self.s for v in self.s[u]])\n",
        "        nx.draw(g, with_labels=True)\n",
        "\n",
        "    def add_vertex(self, v):\n",
        "        if v not in self.s:\n",
        "            self.s[v] = set()\n",
        "\n",
        "    def add_edge(self, e):\n",
        "        u, v = e\n",
        "        self.add_vertex(u)\n",
        "        self.add_vertex(v)\n",
        "        self.s[u].add(v)\n",
        "\n",
        "    @property\n",
        "    def vertices(self):\n",
        "        return set(self.s.keys())\n",
        "\n",
        "    @property\n",
        "    def edges(self):\n",
        "        return {(u, v) for u, d in self.s.items() for v in d}\n",
        "\n",
        "    def successors(self, u):\n",
        "        \"\"\"Returns the set of successors of vertex u\"\"\"\n",
        "        return self.s[u]\n",
        "\n",
        "    def __eq__(self, other):\n",
        "        \"\"\"We need to define graph equality.\"\"\"\n",
        "        if self.vertices != other.vertices:\n",
        "            return False\n",
        "        for v, d in self.s.items():\n",
        "            if d != other.s[v]:\n",
        "                return False\n",
        "        return True\n",
        "\n",
        "    def __repr__(self):\n",
        "        r = \"Graph:\"\n",
        "        for v in self.vertices:\n",
        "            r += \"\\n %r : %r\" % (v, self.s.get(v))\n",
        "        return r\n",
        "\n",
        "    def show(self):\n",
        "        g = nx.DiGraph()\n",
        "        g.add_nodes_from(self.vertices)\n",
        "        g.add_edges_from([(u, v) for u in self.vertices for v in self.s[u]])\n",
        "        nx.draw(g, with_labels=True)\n",
        "\n",
        "    def add_vertex(self, v):\n",
        "        self.vertices.add(v)\n",
        "        # We must be careful not to overwrite the successor relation\n",
        "        # in case v might already be present in the graph.\n",
        "        self.s[v] = self.s.get(v, set())\n",
        "\n",
        "    def add_edge(self, e):\n",
        "        \"\"\"Adds an edge e = (u, v) between two vertices u, v.  If the\n",
        "        two vertices are not already in the graph, adds them.\"\"\"\n",
        "        u, v = e\n",
        "        self.vertices.update({u, v})\n",
        "        # Initializes the successor function if needed.\n",
        "        self.s[u] = self.s.get(u, set()) | {v}\n",
        "        self.s[v] = self.s.get(v, set())\n",
        "\n",
        "    def successors(self, u):\n",
        "        \"\"\"Returns the set of successors of a vertex u\"\"\"\n",
        "        return self.s[u]\n",
        "\n",
        "    def reachable(self, v):\n",
        "        \"\"\"Returns the set of vertices reachable from an initial vertex v.\"\"\"\n",
        "        vopen = {v}\n",
        "        vclosed = set()\n",
        "        while len(vopen) > 0:\n",
        "            u = vopen.pop()\n",
        "            vclosed.add(u)\n",
        "            vopen.update(self.s[u] - vclosed)\n",
        "        return vclosed\n",
        "\n",
        "    def __and__(self, g):\n",
        "        \"\"\"Returns the intersection of the current graph with a\n",
        "        specified graph g.\"\"\"\n",
        "        return Graph(vertices=self.vertices & g.vertices,\n",
        "                     edges=self.edges & g.edges)\n",
        "\n",
        "    def induced(self, vertex_set):\n",
        "        \"\"\"Returns the subgraph induced by the set of vertices vertex_set.\"\"\"\n",
        "        common_vertices = vertex_set & self.vertices\n",
        "        gg = Graph(vertices = common_vertices)\n",
        "        for v in common_vertices:\n",
        "            gg.s[v] = self.s[v] & common_vertices\n",
        "        gg._check()\n",
        "        return gg\n"
      ]
    },
    {
      "attachments": {},
      "cell_type": "markdown",
      "metadata": {
        "deletable": false,
        "editable": false,
        "id": "Ba1HRJxkOJwB",
        "nbgrader": {
          "cell_type": "markdown",
          "checksum": "409dd73e6b1d1118fa4a6ec914e064a3",
          "grade": false,
          "grade_id": "cell-7378243c68ef01f3",
          "locked": true,
          "schema_version": 3,
          "solution": false
        }
      },
      "source": [
        "## Question 1: Implement graph union.\n",
        "\n",
        "Write a `union` method for a graph so that, for $G_1 = (V_1, E_1)$ and $G_2 = (V_2, E_2)$, with $G_1$ represented by `g1` in code and $G_2$ represented by `g2`, \n",
        "\n",
        "    g1 | g2\n",
        "\n",
        "returns the graph $G_{12} = (V_1 \\cup V_2, E_1 \\cup E_2)$ having as vertices the union of the vertices of $G_1$ and $G_2$, and as edges the union of the edges of $G_1$ and $G_2$.\n"
      ]
    },
    {
      "cell_type": "code",
      "execution_count": 22,
      "metadata": {
        "deletable": false,
        "id": "ZOQObyHvOJwC",
        "nbgrader": {
          "cell_type": "code",
          "checksum": "0f9a8ee52f6c2d14914402327d4702ca",
          "grade": false,
          "grade_id": "cell-29cba2a401cb3e1a",
          "locked": false,
          "schema_version": 3,
          "solution": true
        }
      },
      "outputs": [],
      "source": [
        "### Implement graph union\n",
        "\n",
        "def graph_union(self, g):\n",
        "    \"\"\"Returns the union of the current graph, and of the graph g.\"\"\"\n",
        "    return Graph(vertices=self.vertices | g.vertices, edges=self.edges | g.edges)\n",
        "    # YOUR CODE HERE\n",
        "\n",
        "Graph.__or__ = graph_union\n"
      ]
    },
    {
      "cell_type": "code",
      "execution_count": 23,
      "metadata": {
        "deletable": false,
        "editable": false,
        "id": "1LQKIFiqOJwC",
        "nbgrader": {
          "cell_type": "code",
          "checksum": "6856c20eebf1d1a691e2e359a969fdbe",
          "grade": true,
          "grade_id": "cell-9055626e7bbad7a3",
          "locked": true,
          "points": 5,
          "schema_version": 3,
          "solution": false
        }
      },
      "outputs": [],
      "source": [
        "### Tests for graph union\n",
        "\n",
        "# Disjoint graphs.\n",
        "g1 = Graph(vertices=[1, 3, 2], edges=[(1, 3), (2, 3)])\n",
        "g2 = Graph(vertices=[4, 5], edges=[(4, 5)])\n",
        "g = g1 | g2\n",
        "assert_equal(g.vertices, {1, 2, 3, 4, 5})\n",
        "assert_true((2, 3) in g.edges)\n",
        "assert_true((4, 5) in g.edges)\n",
        "assert_false((1, 4) in g.edges)\n",
        "g3 = g2 | g1\n",
        "assert_equal(g, g3)\n"
      ]
    },
    {
      "cell_type": "code",
      "execution_count": 24,
      "metadata": {
        "deletable": false,
        "editable": false,
        "id": "3MLT890EOJwD",
        "nbgrader": {
          "cell_type": "code",
          "checksum": "bf7980628c146f7009e016b47586eb66",
          "grade": true,
          "grade_id": "cell-fa76041b6bf30c1",
          "locked": true,
          "points": 5,
          "schema_version": 3,
          "solution": false
        }
      },
      "outputs": [],
      "source": [
        "### More tests for graph union\n",
        "\n",
        "# Overlapping graphs.\n",
        "g1 = Graph(vertices=['a', 'b', 'c'], edges=[('a', 'b'), ('b', 'c')])\n",
        "g2 = Graph(vertices=['b', 'c', 'd', 'e'], edges=[('c', 'd'), ('b', 'c')])\n",
        "g = g1 | g2\n",
        "assert_equal(g.vertices, {'a', 'b', 'c', 'd', 'e'})\n",
        "assert_equal(g.edges, {('a', 'b'), ('b', 'c'), ('c', 'd')})\n",
        "g3 = g2 | g1\n",
        "assert_equal(g, g3)\n"
      ]
    },
    {
      "cell_type": "code",
      "execution_count": 25,
      "metadata": {
        "deletable": false,
        "editable": false,
        "id": "5nexoGisOJwE",
        "nbgrader": {
          "cell_type": "code",
          "checksum": "4a364c81714279d2559b5837639d473c",
          "grade": true,
          "grade_id": "cell-cba399fe9a79241a",
          "locked": true,
          "points": 5,
          "schema_version": 3,
          "solution": false
        }
      },
      "outputs": [],
      "source": [
        "### Even more tests for graph union\n",
        "\n",
        "# Empty graph.\n",
        "g1 = Graph(vertices=[1, 3, 2], edges=[(1, 3), (2, 3)])\n",
        "g2 = Graph()\n",
        "g = g1 | g2\n",
        "assert_equal(g, g1)\n"
      ]
    },
    {
      "attachments": {},
      "cell_type": "markdown",
      "metadata": {
        "deletable": false,
        "editable": false,
        "id": "dX9yu3PqOJwF",
        "nbgrader": {
          "cell_type": "markdown",
          "checksum": "f479dc76dc9b35cefa695b62c2489f84",
          "grade": false,
          "grade_id": "cell-3c5cbed383ac39ba",
          "locked": true,
          "schema_version": 3,
          "solution": false
        }
      },
      "source": [
        "## Question 2: Is a graph a tree? \n",
        "\n",
        "A tree is a graph $(V, E)$ with two special properties: \n",
        "\n",
        "* Every vertex has at most one incoming edge.\n",
        "* Either there are no vertices, or there is a vertex with no incoming edges, called the _root_, from which all other vertices are reachable. \n",
        "\n",
        "If the second property does not hold, incidentally, the graph is called a _forest._\n",
        "\n",
        "Write an `is_tree` property that has value True if the graph is a tree, and has value False otherwise."
      ]
    },
    {
      "cell_type": "code",
      "execution_count": 108,
      "metadata": {
        "deletable": false,
        "id": "3jWXC7jLOJwG",
        "nbgrader": {
          "cell_type": "code",
          "checksum": "2ca6f57f621b372f74c723e37d086257",
          "grade": false,
          "grade_id": "cell-e435a45feabea544",
          "locked": false,
          "schema_version": 3,
          "solution": true
        }
      },
      "outputs": [],
      "source": [
        " #@title Implementation of tree test\n",
        "\n",
        "def graph_is_tree(self):\n",
        "    \"\"\"Returns True iff the graph is a tree.\"\"\"\n",
        "\n",
        "    if not self.vertices:\n",
        "        return True\n",
        "\n",
        "    endpoint_edges = []\n",
        "    for i, j in self.edges:\n",
        "        if j not in endpoint_edges:\n",
        "            endpoint_edges.append(j)\n",
        "        elif j in endpoint_edges:\n",
        "            return False\n",
        "    \n",
        "    check_loop = []\n",
        "    for vx in self.vertices:\n",
        "        for suc in self.successors(vx):\n",
        "            if vx in self.reachable(suc):\n",
        "                check_loop.append(False)\n",
        "            else:\n",
        "                check_loop.append(True)\n",
        "\n",
        "\n",
        "    # # # # NotImplemented\n",
        "    # # This needs to check whether there is more than one root\n",
        "    # check = self.reachable(next(iter(g.vertices)))\n",
        "    # for vx in self.vertices:\n",
        "    #     if self.reachable(vx) != check:\n",
        "    #         return False\n",
        "\n",
        "    return all(check_loop) and len(self.vertices) == len(self.edges) + 1\n",
        "\n",
        "\n",
        "    # YOUR CODE HERE\n",
        "\n",
        "Graph.is_tree = property(graph_is_tree)\n"
      ]
    },
    {
      "cell_type": "code",
      "execution_count": 106,
      "metadata": {
        "deletable": false,
        "id": "FUxtB1y_OJwH",
        "nbgrader": {
          "cell_type": "code",
          "checksum": "3471b80e18baff2be6d1fd9effe24994",
          "grade": false,
          "grade_id": "cell-a77de0734c007011",
          "locked": false,
          "schema_version": 3,
          "solution": true
        }
      },
      "outputs": [],
      "source": [
        "# You may want to write tests here. \n",
        "skrrt = Graph()\n",
        "skrrt.vertices\n",
        "\n",
        "\n",
        "if skrrt.vertices:\n",
        "    print(\"skrrt\")\n",
        "\n",
        "# YOUR CODE HERE"
      ]
    },
    {
      "cell_type": "code",
      "execution_count": 109,
      "metadata": {
        "deletable": false,
        "editable": false,
        "id": "Zai5rutUOJwH",
        "nbgrader": {
          "cell_type": "code",
          "checksum": "0150d68ca07a2793633754db0e56e3d7",
          "grade": true,
          "grade_id": "cell-f9cdcf51d2a15d78",
          "locked": true,
          "points": 15,
          "schema_version": 3,
          "solution": false
        }
      },
      "outputs": [],
      "source": [
        " ### 15 points: Tests for tree. \n",
        "\n",
        "g = Graph(vertices=[1, 2, 3], edges=[(1, 2), (1, 3)])\n",
        "assert_true(g.is_tree)\n",
        "\n",
        "g = Graph(vertices=[1, 2, 3], edges=[(1, 2), (2, 3), (1, 3)])\n",
        "assert_false(g.is_tree)\n",
        "\n",
        "g = Graph(vertices=[1, 2, 3], edges=[(1, 3), (2, 3)])\n",
        "assert_false(g.is_tree)\n",
        "\n",
        "g = Graph(vertices=['a', 'b'], edges=[('a', 'b')])\n",
        "assert_true(g.is_tree)\n",
        "\n",
        "g = Graph(vertices=['a', 'b'], edges=[('a', 'b'), ('b', 'a')])\n",
        "# assert_false(g.is_tree)\n",
        "\n"
      ]
    },
    {
      "cell_type": "code",
      "execution_count": 110,
      "metadata": {
        "deletable": false,
        "editable": false,
        "id": "Tyn2GlJTOJwI",
        "nbgrader": {
          "cell_type": "code",
          "checksum": "790ef1d247bb38bbaf154d7704b58410",
          "grade": true,
          "grade_id": "cell-3b14bb1e3e544690",
          "locked": true,
          "points": 15,
          "schema_version": 3,
          "solution": false
        }
      },
      "outputs": [],
      "source": [
        "### 15 points: More tests for `is_tree`\n",
        "\n",
        "g = Graph()\n",
        "assert_true(g.is_tree)\n",
        "\n",
        "g = Graph(vertices=['a', 'b', 'c', 'd'], edges=[('a', 'b'), ('c', 'd')])\n",
        "assert_false(g.is_tree)\n",
        "\n",
        "g = Graph(vertices=['a', 'b', 'c', 'd'], edges=[('a', 'b'), ('b', 'c'), ('c', 'd')])\n",
        "assert_true(g.is_tree)\n",
        "\n"
      ]
    },
    {
      "cell_type": "code",
      "execution_count": null,
      "metadata": {},
      "outputs": [],
      "source": []
    }
  ],
  "metadata": {
    "colab": {
      "provenance": []
    },
    "kernelspec": {
      "display_name": "Python 3",
      "language": "python",
      "name": "python3"
    },
    "language_info": {
      "codemirror_mode": {
        "name": "ipython",
        "version": 3
      },
      "file_extension": ".py",
      "mimetype": "text/x-python",
      "name": "python",
      "nbconvert_exporter": "python",
      "pygments_lexer": "ipython3",
      "version": "3.7.3"
    }
  },
  "nbformat": 4,
  "nbformat_minor": 0
}
