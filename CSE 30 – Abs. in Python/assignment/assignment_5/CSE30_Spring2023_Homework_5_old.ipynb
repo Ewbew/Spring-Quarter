{
  "cells": [
    {
      "attachments": {},
      "cell_type": "markdown",
      "metadata": {
        "id": "SOOZwpdSIhvh"
      },
      "source": [
        "Before you turn this problem in, make sure everything runs as expected. First, **restart the kernel** (in the menubar, select Kernel$\\rightarrow$Restart) and then **run all cells** (in the menubar, select Cell$\\rightarrow$Run All).\n",
        "\n",
        "Make sure you fill in any place that says `YOUR CODE HERE` or \"YOUR ANSWER HERE\", as well as your name and collaborators below:"
      ]
    },
    {
      "cell_type": "code",
      "execution_count": 103,
      "metadata": {
        "id": "kgpdxTyCIhvl"
      },
      "outputs": [],
      "source": [
        "NAME = \"Otto Sejrskild Santesson\"\n",
        "COLLABORATORS = \"Inpiration drawn from the following: https://stackoverflow.com/questions/5811151/why-do-we-check-up-to-the-square-root-of-a-number-to-determine-if-the-number-is\""
      ]
    },
    {
      "attachments": {},
      "cell_type": "markdown",
      "metadata": {
        "id": "uYA_kTeXIhvm"
      },
      "source": [
        "---"
      ]
    },
    {
      "attachments": {},
      "cell_type": "markdown",
      "metadata": {
        "deletable": false,
        "editable": false,
        "id": "NPAsw5d5Ihvn",
        "nbgrader": {
          "cell_type": "markdown",
          "checksum": "3f999ceb537bc0365ce99cec539548c1",
          "grade": false,
          "grade_id": "cell-ec720f4d7713a990",
          "locked": true,
          "schema_version": 3,
          "solution": false
        }
      },
      "source": [
        "# Homework 5: Generators\n",
        "## CSE 30 Spring 2023\n",
        "\n",
        "## \n",
        "Copyright CC-BY-NC License."
      ]
    },
    {
      "attachments": {},
      "cell_type": "markdown",
      "metadata": {
        "deletable": false,
        "editable": false,
        "id": "kTkPRq7SIhvn",
        "nbgrader": {
          "cell_type": "markdown",
          "checksum": "73d02217e79d38f873615e20fe76c483",
          "grade": false,
          "grade_id": "cell-e12128a701c106f5",
          "locked": true,
          "schema_version": 3,
          "solution": false
        }
      },
      "source": [
        "# Instructions\n",
        "\n",
        "## The Format of a Python Notebook\n",
        "\n",
        "*This* is a Python Notebook homework.  It consists of various types of cells: \n",
        "\n",
        "* Text: you can read them :-) \n",
        "* Code: you should run them, as they may set up the problems that you are asked to solve.\n",
        "* **Solution:** These are cells where you should enter a solution.  You will see a marker in these cells that indicates where your work should be inserted.  \n",
        "\n",
        "```\n",
        "    # YOUR CODE HERE\n",
        "```    \n",
        "\n",
        "* Test: These cells contains some tests, and are worth some points.  You should run the cells as a way to debug your code, and to see if you understood the question, and whether the output of your code is produced in the correct format.  The notebook contains both the tests you see, and some secret ones that you cannot see.  This prevents you from using the simple trick of hard-coding the desired output. "
      ]
    },
    {
      "attachments": {},
      "cell_type": "markdown",
      "metadata": {
        "deletable": false,
        "editable": false,
        "id": "l94lrmG1Ihvo",
        "nbgrader": {
          "cell_type": "markdown",
          "checksum": "ab12fee9413e3248545a1efc3cc5c7ed",
          "grade": false,
          "grade_id": "cell-76fb73a688446a88",
          "locked": true,
          "schema_version": 3,
          "solution": false
        }
      },
      "source": [
        "## Running your notebook\n",
        "\n",
        "**Running a cell.**\n",
        "To run a cell of the notebook, either click on the icon to its top left, or press shift-ENTER (or shift-Return). \n",
        "\n",
        "**Disconnections.**\n",
        "When you open a notebook, Google automatically connects a server to the web page, so that you can type code in your browser, and the code is run on that server.  If you are idle for more than a few minutes, Google keeps all you typed (none of your work is lost), but the server may be disconnected due to inactivity.  When the server is disconnected, it loses all memory of anything you have defined (functions, classes, variables, etc). \n",
        "\n",
        "If you do get disconnected, select Runtime > Run All (or Runtime > Run before) to ensure everything is defined as it should. \n",
        "\n",
        "### DO NOT\n",
        "\n",
        "* **Do not add, delete, reorder, remove cells.**  This breaks the relationship between your work, and the grading system, making it impossible to grade your work.\n",
        "\n",
        "### Debugging\n",
        "To debug, you can add print statements to your code.  They should have no effect on the tests.  Just be careful that if you add too many of them inside loops and similar, you may cause for some of the tests we will do such an enormous amount of output that grading might timeout (and you may not get credit for an answer). \n",
        "\n",
        "### Asking for help\n",
        "The tutors and TAs should have access to the notebook; otherwise, you can always share a link with them.  In this way, they can take a look at your work and help you with debugging and with any questions you might have."
      ]
    },
    {
      "attachments": {},
      "cell_type": "markdown",
      "metadata": {
        "deletable": false,
        "editable": false,
        "id": "dRvPHyTwIhvp",
        "nbgrader": {
          "cell_type": "markdown",
          "checksum": "5c58536b5c5e51ae3f3c0835e7d9390c",
          "grade": false,
          "grade_id": "cell-99682c91d768aa5f",
          "locked": true,
          "schema_version": 3,
          "solution": false
        }
      },
      "source": [
        "## Submitting Your Notebook\n",
        "\n",
        "To submit:\n",
        "* **Check your work.** Before submitting, select Runtime > Restart and Run All, and check that you don't get any unexpected error. \n",
        "* **Download the notebook.** Click on File > Download .ipynb . **Do not download the .py file.**\n",
        "* **Upload.** Upload the .ipynb file to **[this Google form](https://docs.google.com/forms/d/e/1FAIpQLSfaQb2Q8BM0-wQVrN54ONgwuAFmejrguaSc2CqP8eJ5rLNDkQ/viewform?usp=sf_link\n",
        ")**. \n"
      ]
    },
    {
      "attachments": {},
      "cell_type": "markdown",
      "metadata": {
        "deletable": false,
        "editable": false,
        "id": "fJJdI4-bIhvp",
        "nbgrader": {
          "cell_type": "markdown",
          "checksum": "708e18b298c28eadffdb3cc728a8179f",
          "grade": false,
          "grade_id": "cell-1907f68a602e078a",
          "locked": true,
          "schema_version": 3,
          "solution": false
        }
      },
      "source": [
        "## Tools\n",
        "\n",
        "Here are some tools to help testing the homework."
      ]
    },
    {
      "cell_type": "code",
      "execution_count": 104,
      "metadata": {
        "deletable": false,
        "editable": false,
        "id": "4IDeY0TxIhvq",
        "nbgrader": {
          "cell_type": "code",
          "checksum": "41d78b71eefc939313eb0f8dfe9ea07c",
          "grade": false,
          "grade_id": "cell-a6316959e5fc22b6",
          "locked": true,
          "schema_version": 3,
          "solution": false
        }
      },
      "outputs": [],
      "source": [
        "# Let me define the function I use for testing.  Don't change this cell.\n",
        "\n",
        "def check_equal(x, y, msg=None):\n",
        "    if x == y:\n",
        "        if msg is None:\n",
        "            print(\"Success\")\n",
        "        else:\n",
        "            print(msg, \": Success\")\n",
        "    else:\n",
        "        if msg is None:\n",
        "            print(\"Error:\")\n",
        "        else:\n",
        "            print(\"Error in\", msg, \":\")\n",
        "        print(\"    Your answer was:\", x)\n",
        "        print(\"    Correct answer: \", y)\n",
        "    assert x == y, \"%r and %r are different\" % (x, y)\n"
      ]
    },
    {
      "cell_type": "code",
      "execution_count": 105,
      "metadata": {
        "deletable": false,
        "editable": false,
        "id": "7qaKIUXtIhvq",
        "nbgrader": {
          "cell_type": "code",
          "checksum": "b7444750e68ebef1a8073dd314178be1",
          "grade": false,
          "grade_id": "cell-4b33b8f594e64ff3",
          "locked": true,
          "schema_version": 3,
          "solution": false
        }
      },
      "outputs": [],
      "source": [
        "def subsets_set(subs_iterator):\n",
        "    \"\"\"Given an iterator subs_iterator that iterates over subsets, returns the\n",
        "    set of the frozensets yielded by the iterator.  We use frozensets as\n",
        "    frozensets can be put in a set.\"\"\"\n",
        "    subsets = set()\n",
        "    for s in subs_iterator:\n",
        "        subsets.add(frozenset(s))\n",
        "    return subsets\n"
      ]
    },
    {
      "cell_type": "code",
      "execution_count": 106,
      "metadata": {
        "deletable": false,
        "editable": false,
        "id": "OD4o1b90Ihvq",
        "nbgrader": {
          "cell_type": "code",
          "checksum": "dce910b1093830f989a31985131e6ea3",
          "grade": false,
          "grade_id": "cell-e9dd433a98451c38",
          "locked": true,
          "schema_version": 3,
          "solution": false
        }
      },
      "outputs": [
        {
          "data": {
            "text/plain": [
              "{frozenset({3}), frozenset({4, 6}), frozenset({4, 5})}"
            ]
          },
          "execution_count": 106,
          "metadata": {},
          "output_type": "execute_result"
        }
      ],
      "source": [
        "# Here is an example of how the above is used.\n",
        "\n",
        "def subsets():\n",
        "    yield {3}\n",
        "    yield {4, 5}\n",
        "    yield {4, 6}\n",
        "\n",
        "subsets_set(subsets())\n"
      ]
    },
    {
      "attachments": {},
      "cell_type": "markdown",
      "metadata": {
        "deletable": false,
        "editable": false,
        "id": "T_7zDRLRIhvr",
        "nbgrader": {
          "cell_type": "markdown",
          "checksum": "9b220efc8ddadaad2f83d1af8e4f0fc4",
          "grade": false,
          "grade_id": "cell-3639ad3f8c99195b",
          "locked": true,
          "schema_version": 3,
          "solution": false
        }
      },
      "source": [
        "## Question 1: An iterator that yields all prime numbers"
      ]
    },
    {
      "attachments": {},
      "cell_type": "markdown",
      "metadata": {
        "deletable": false,
        "editable": false,
        "id": "Ajc6QmA6Ihvr",
        "nbgrader": {
          "cell_type": "markdown",
          "checksum": "38caf681ed0624ded3e776138f4cb575",
          "grade": false,
          "grade_id": "cell-f836b83ec5f908e9",
          "locked": true,
          "schema_version": 3,
          "solution": false
        }
      },
      "source": [
        "Here's an iterator that produces all numbers that are not divisible by 2, 3, or 5: "
      ]
    },
    {
      "cell_type": "code",
      "execution_count": 107,
      "metadata": {
        "deletable": false,
        "editable": false,
        "id": "hUEMAvuAIhvr",
        "nbgrader": {
          "cell_type": "code",
          "checksum": "520b3731b9660c9653885429a035f4da",
          "grade": false,
          "grade_id": "cell-26659accbfd40c71",
          "locked": true,
          "schema_version": 3,
          "solution": false
        }
      },
      "outputs": [
        {
          "name": "stdout",
          "output_type": "stream",
          "text": [
            "1\n",
            "7\n",
            "11\n",
            "13\n",
            "17\n",
            "19\n",
            "23\n"
          ]
        }
      ],
      "source": [
        "def not_div_235():\n",
        "    i = 0\n",
        "    while True:\n",
        "        if (i % 2) * (i % 3) * (i % 5) > 0:\n",
        "            yield i\n",
        "        i += 1\n",
        "\n",
        "for n in not_div_235():\n",
        "    print(n)\n",
        "    if n > 20:\n",
        "        break\n"
      ]
    },
    {
      "attachments": {},
      "cell_type": "markdown",
      "metadata": {
        "deletable": false,
        "editable": false,
        "id": "Up4KkDkrIhvr",
        "nbgrader": {
          "cell_type": "markdown",
          "checksum": "b9fb5448fb609f520e1ddfa8c2e12eb8",
          "grade": false,
          "grade_id": "cell-c70ccd84810fff4b",
          "locked": true,
          "schema_version": 3,
          "solution": false
        }
      },
      "source": [
        "For Question 1, build an iterator that returns all the prime numbers.  The idea is to loop over all positive integers, test each one to see if it is prime, and if it is, `yield` it. "
      ]
    },
    {
      "cell_type": "code",
      "execution_count": 108,
      "metadata": {
        "deletable": false,
        "id": "AU2XLhKiIhvr",
        "nbgrader": {
          "cell_type": "code",
          "checksum": "866eb2110d75fc2c156d9bf73cc3de6a",
          "grade": false,
          "grade_id": "cell-cba1ae6e03419a32",
          "locked": false,
          "schema_version": 3,
          "solution": true
        }
      },
      "outputs": [],
      "source": [
        "### Question 1: implement a prime number generator\n",
        "\n",
        "# My solution is simple and not particularly optimized,\n",
        "# and it is 12 lines long.\n",
        "\n",
        "\n",
        "def prime_number_generator():\n",
        "    \"\"\"This generator returns all prime numbers.\"\"\"\n",
        "\n",
        "    # Define function for checking for potential factors of n (that are not 1 or n itself). \n",
        "    def check_prime(n):\n",
        "        # We do not need to check whether every integer from 2 and up to n-1 is a factor of n,\n",
        "        # but simply make the range to be from 2 to the square root of n. \n",
        "        # This is due to fact that, if there is a factor of n, that is greater than its square root,\n",
        "        # then there must also be a factor, that is lower than the square root – should both factors be \n",
        "        # greater than the square root, then the product of the two would exceed n, which is not viable.\n",
        "        for i in range(2, int(n ** 0.5)+1):\n",
        "            if n % i == 0:\n",
        "                # If any number in the range is a factor of n, then False is returned – the number is not a prime\n",
        "                return False\n",
        "            # If none of the numbers checked are factors of n, then True is return – the number is a prime.\n",
        "        return True\n",
        "        \n",
        "    j = 2 # First prime number\n",
        "    while True:\n",
        "        if check_prime(j):\n",
        "            yield j \n",
        "        j += 1\n",
        "\n",
        "    # YOUR CODE HERE\n"
      ]
    },
    {
      "cell_type": "code",
      "execution_count": 109,
      "metadata": {
        "deletable": false,
        "editable": false,
        "id": "VCB-SydkIhvs",
        "nbgrader": {
          "cell_type": "code",
          "checksum": "1cac0797183a079671e4b06ef99d70a1",
          "grade": false,
          "grade_id": "cell-cd087b674d43e0d8",
          "locked": true,
          "schema_version": 3,
          "solution": false
        }
      },
      "outputs": [
        {
          "name": "stdout",
          "output_type": "stream",
          "text": [
            "2\n",
            "3\n",
            "5\n",
            "7\n",
            "11\n",
            "13\n",
            "17\n",
            "19\n",
            "23\n",
            "29\n"
          ]
        }
      ],
      "source": [
        "i = 0\n",
        "for n in prime_number_generator():\n",
        "    print(n)\n",
        "    i += 1\n",
        "    if i == 10:\n",
        "        break\n"
      ]
    },
    {
      "cell_type": "code",
      "execution_count": 110,
      "metadata": {
        "deletable": false,
        "id": "kSQMwS4-Ihvs",
        "nbgrader": {
          "cell_type": "code",
          "checksum": "05b79645b7c116ddd542c9d1ddab5032",
          "grade": false,
          "grade_id": "cell-a2e28e8dc32d3aa1",
          "locked": false,
          "schema_version": 3,
          "solution": true
        }
      },
      "outputs": [],
      "source": [
        "# This is a place where you can write additional tests to help you test\n",
        "# your code, or debugging code, if you need.  You can also leave it blank.\n",
        "\n",
        "# YOUR CODE HERE\n"
      ]
    },
    {
      "cell_type": "code",
      "execution_count": 111,
      "metadata": {
        "deletable": false,
        "editable": false,
        "id": "I0bKe5UzIhvs",
        "nbgrader": {
          "cell_type": "code",
          "checksum": "ebff62e79627eceb0b3eddd3886f0e7b",
          "grade": true,
          "grade_id": "cell-356198d660306a64",
          "locked": true,
          "points": 10,
          "schema_version": 3,
          "solution": false
        }
      },
      "outputs": [],
      "source": [
        "### 10 points: Tests for `prime_number_generator`\n",
        "\n",
        "for n in prime_number_generator():\n",
        "    if n == 33:\n",
        "        raise Exception()\n",
        "    elif n == 37:\n",
        "        break"
      ]
    },
    {
      "attachments": {},
      "cell_type": "markdown",
      "metadata": {
        "deletable": false,
        "editable": false,
        "id": "DQZl9ZsoIhvs",
        "nbgrader": {
          "cell_type": "markdown",
          "checksum": "95426abb4ca336472fe756e48557980b",
          "grade": false,
          "grade_id": "cell-dc2d86420f216515",
          "locked": true,
          "schema_version": 3,
          "solution": false
        }
      },
      "source": [
        "## Question 2: Iterating over all subsets with a given sum\n",
        "\n",
        "Here is an iterator that yields all the subsets of a given set:"
      ]
    },
    {
      "cell_type": "code",
      "execution_count": 112,
      "metadata": {
        "deletable": false,
        "editable": false,
        "id": "Rzc6EQWxIhvs",
        "nbgrader": {
          "cell_type": "code",
          "checksum": "f5cabebbb6a384b08af0e30edefedaf5",
          "grade": false,
          "grade_id": "cell-61f7f2c6bb152e1e",
          "locked": true,
          "schema_version": 3,
          "solution": false
        }
      },
      "outputs": [],
      "source": [
        "def subsets(s):\n",
        "    \"\"\"Given a set s, yield all the subsets of s,\n",
        "    including s itself and the empty set.\"\"\"\n",
        "    if len(s) == 0:\n",
        "        yield set()\n",
        "    else:\n",
        "        ss = set(s)\n",
        "        x = ss.pop()\n",
        "        for t in subsets(ss):\n",
        "            yield t\n",
        "            yield t | {x}\n"
      ]
    },
    {
      "attachments": {},
      "cell_type": "markdown",
      "metadata": {
        "deletable": false,
        "editable": false,
        "id": "icXXItF5Ihvt",
        "nbgrader": {
          "cell_type": "markdown",
          "checksum": "fb2d64b9e82e957471b4f022da2868df",
          "grade": false,
          "grade_id": "cell-7fb15c52b3399b42",
          "locked": true,
          "schema_version": 3,
          "solution": false
        }
      },
      "source": [
        "Your goal is to write an iterator that iterates over all the subsets with a given sum. \n",
        "In detail, you should write a function `constant_sum_subsets(values, total)`, that takes as input: \n",
        "\n",
        "* a set `values` of non-negative numbers; \n",
        "* a non-negative number `total`, \n",
        "\n",
        "and returns an iterator that yields all subsets of `values` that sum to `total`. \n",
        "\n",
        "For instance, if `values` is $\\{1, 2, 3\\}$ and `total` is 3, then `constant_sum_subsets(values, total)` yields $\\{1, 2\\}$, and $\\{3\\}$, because those are the subsets of $\\{1, 2, 3\\}$ whose elements sum to 3. \n",
        "\n",
        "**Note:** A quick and dirty way of doing this is to use either [itertools](https://docs.python.org/3/library/itertools.html#itertools.combinations) or the `subset` function above to get an iterator over all subsets of `values`, and then filter only those which sum to `total`.  Don't do this.  Your code will be incredibly inefficient if only few subsets sum to `total`, and will in particualr fail a test case.  Rather, try to encode the requirement of what subsets need to sum to into the recursion. "
      ]
    },
    {
      "cell_type": "code",
      "execution_count": 113,
      "metadata": {
        "deletable": false,
        "id": "LyUidKqbIhvt",
        "nbgrader": {
          "cell_type": "code",
          "checksum": "d93737c576f34208924d3d9410988bb8",
          "grade": false,
          "grade_id": "cell-9e11af8dd2e13e36",
          "locked": false,
          "schema_version": 3,
          "solution": true
        }
      },
      "outputs": [],
      "source": [
        "def constant_sum_subsets(values, total):\n",
        "    \n",
        "    i = 0\n",
        "\n",
        "    def backtrack(remainder, total, current_subset_sum, start):\n",
        "        if remainder == 0: yield current_subset_sum\n",
        "        if remainder > 0: return\n",
        "        if remainder < 0:\n",
        "            for i in range(start, len(values)):\n",
        "                yield from backtrack(total - current_subset_sum, total, values[:], start)\n",
        "\n",
        "    obj = list(values)\n",
        "\n",
        "    yield from backtrack"
      ]
    },
    {
      "cell_type": "code",
      "execution_count": 116,
      "metadata": {
        "deletable": false,
        "id": "dn3fh5zNIhvt",
        "nbgrader": {
          "cell_type": "code",
          "checksum": "2b9f2b95add74099ca7de09479685a5f",
          "grade": false,
          "grade_id": "cell-eb02fba0514a6487",
          "locked": false,
          "schema_version": 3,
          "solution": true
        }
      },
      "outputs": [],
      "source": [
        "# This is a place where you can write additional tests to help you test\n",
        "# your code, or debugging code, if you need.  You can also leave it blank.\n",
        "\n",
        "# YOUR CODE HERE\n",
        "def constant_sum_subsets(values, total):\n",
        "    values = sorted(values)\n",
        "    subset = []\n",
        "    yield from generate_subsets(values, total, subset, 0)\n",
        "\n",
        "def generate_subsets(values, total, subset, start_index):\n",
        "    if total == 0:\n",
        "        yield subset\n",
        "    elif total < 0:\n",
        "        return\n",
        "\n",
        "    for i in range(start_index, len(values)):\n",
        "        if i > start_index and values[i] == values[i-1]:\n",
        "            continue \n",
        "\n",
        "        subset.append(values[i])\n",
        "        yield from generate_subsets(values, total - values[i], subset, i + 1)\n",
        "        subset.pop()\n"
      ]
    },
    {
      "cell_type": "code",
      "execution_count": 117,
      "metadata": {
        "deletable": false,
        "editable": false,
        "id": "ZKdAlI-UIhvt",
        "nbgrader": {
          "cell_type": "code",
          "checksum": "f280d72072ef7d93280c40d58d757dfb",
          "grade": false,
          "grade_id": "cell-b7614fe9062100a7",
          "locked": true,
          "schema_version": 3,
          "solution": false
        }
      },
      "outputs": [
        {
          "name": "stdout",
          "output_type": "stream",
          "text": [
            "[1, 2]\n",
            "[3]\n"
          ]
        }
      ],
      "source": [
        "for seq in constant_sum_subsets({1, 2, 3}, 3):\n",
        "    print(seq)\n"
      ]
    },
    {
      "cell_type": "code",
      "execution_count": 98,
      "metadata": {
        "deletable": false,
        "editable": false,
        "id": "gFcoAzJUIhvt",
        "nbgrader": {
          "cell_type": "code",
          "checksum": "9bf59241e831f0f4c21df286045da781",
          "grade": false,
          "grade_id": "cell-a23e21fe3a508951",
          "locked": true,
          "schema_version": 3,
          "solution": false
        }
      },
      "outputs": [
        {
          "name": "stdout",
          "output_type": "stream",
          "text": [
            "[1, 2, 5]\n",
            "[1, 3, 4]\n",
            "[1, 7]\n",
            "[2, 6]\n",
            "[3, 5]\n",
            "[8]\n"
          ]
        }
      ],
      "source": [
        "for seq in constant_sum_subsets({1, 2, 3, 4, 5, 6, 7, 8}, 8):\n",
        "    print(seq)\n"
      ]
    },
    {
      "cell_type": "code",
      "execution_count": 99,
      "metadata": {
        "deletable": false,
        "editable": false,
        "id": "_I_W8xvEIhvt",
        "nbgrader": {
          "cell_type": "code",
          "checksum": "6d5f7cc3fbcd7ed194dee382f07ff0e3",
          "grade": true,
          "grade_id": "cell-7a592005144fe742",
          "locked": true,
          "points": 10,
          "schema_version": 3,
          "solution": false
        }
      },
      "outputs": [],
      "source": [
        "### Simple tests. 10 points.\n",
        "\n",
        "subs1 = constant_sum_subsets({1, 2, 3}, 3)\n",
        "subs2 = {(1, 2), (3,)} # To represent {{1, 2}, {3}}\n",
        "assert subsets_set(subs1) == subsets_set(subs2)\n",
        "\n",
        "subs1 = constant_sum_subsets({1, 2, 3, 4}, 4)\n",
        "subs2 = {(1, 3), (4,)} # To represent {{1, 3}, {4}}\n",
        "assert subsets_set(subs1) == subsets_set(subs2)\n",
        "\n",
        "subs1 = constant_sum_subsets({1, 2, 3, 4, 5}, 6)\n",
        "subs2 = {(1, 2, 3), (1, 5), (2, 4)} # To represent {{1, 2, 3}, {1, 5}, {2, 4}}\n",
        "assert subsets_set(subs1) == subsets_set(subs2)\n",
        "\n"
      ]
    },
    {
      "cell_type": "code",
      "execution_count": 100,
      "metadata": {
        "deletable": false,
        "editable": false,
        "id": "lLNsCWv9Ihvt",
        "nbgrader": {
          "cell_type": "code",
          "checksum": "9bbd14c4c9f1cf68f565431dd9810e17",
          "grade": true,
          "grade_id": "cell-b3d1b6f71fb5ba6",
          "locked": true,
          "points": 10,
          "schema_version": 3,
          "solution": false
        }
      },
      "outputs": [],
      "source": [
        "### Advanced test. 10 points.\n",
        "\n",
        "# This test fails if you are not smart about using the fact that values are all non-negatives.\n",
        "values = set(range(10000, 10100))\n",
        "num = 0\n",
        "for _ in constant_sum_subsets(values, 2000):\n",
        "    num += 1\n",
        "assert num == 0\n",
        "\n",
        "values = set(range(10000, 10100))\n",
        "num = 0\n",
        "for _ in constant_sum_subsets(values, 20020):\n",
        "    num += 1\n",
        "assert num == 10\n",
        "\n"
      ]
    },
    {
      "cell_type": "code",
      "execution_count": null,
      "metadata": {
        "deletable": false,
        "editable": false,
        "id": "gf1F1_3FIhvu",
        "nbgrader": {
          "cell_type": "code",
          "checksum": "618c1c0a3b8d6844ead543737a52c1c2",
          "grade": true,
          "grade_id": "cell-528d92c17b7172a9",
          "locked": true,
          "points": 10,
          "schema_version": 3,
          "solution": false
        }
      },
      "outputs": [],
      "source": [
        "### Final tests, hidden. 10 points.\n",
        "# This compares your solution with a known good solution.\n",
        "\n",
        "pass\n",
        "\n"
      ]
    }
  ],
  "metadata": {
    "colab": {
      "provenance": []
    },
    "kernelspec": {
      "display_name": "Python 3 (ipykernel)",
      "language": "python",
      "name": "python3"
    },
    "language_info": {
      "codemirror_mode": {
        "name": "ipython",
        "version": 3
      },
      "file_extension": ".py",
      "mimetype": "text/x-python",
      "name": "python",
      "nbconvert_exporter": "python",
      "pygments_lexer": "ipython3",
      "version": "3.11.0"
    }
  },
  "nbformat": 4,
  "nbformat_minor": 0
}
