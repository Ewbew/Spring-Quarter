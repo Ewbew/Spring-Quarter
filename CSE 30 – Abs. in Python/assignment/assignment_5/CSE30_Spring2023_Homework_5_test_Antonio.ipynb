{
  "cells": [
    {
      "attachments": {},
      "cell_type": "markdown",
      "metadata": {
        "id": "qO9vo4C40ZkK"
      },
      "source": [
        "Before you turn this problem in, make sure everything runs as expected. First, **restart the kernel** (in the menubar, select Kernel$\\rightarrow$Restart) and then **run all cells** (in the menubar, select Cell$\\rightarrow$Run All).\n",
        "\n",
        "Make sure you fill in any place that says `YOUR CODE HERE` or \"YOUR ANSWER HERE\", as well as your name and collaborators below:"
      ]
    },
    {
      "cell_type": "code",
      "execution_count": 1,
      "metadata": {
        "id": "hdB44xKB0ZkM"
      },
      "outputs": [],
      "source": [
        "NAME = \"Antonio Lopez Mas\"\n",
        "COLLABORATORS = \"Wikihow, https://www.wikihow.com/Check-if-a-Number-Is-Prime\""
      ]
    },
    {
      "attachments": {},
      "cell_type": "markdown",
      "metadata": {
        "id": "uANWoP-a0ZkN"
      },
      "source": [
        "---"
      ]
    },
    {
      "attachments": {},
      "cell_type": "markdown",
      "metadata": {
        "deletable": false,
        "editable": false,
        "id": "4_dBacts0ZkP",
        "nbgrader": {
          "cell_type": "markdown",
          "checksum": "3f999ceb537bc0365ce99cec539548c1",
          "grade": false,
          "grade_id": "cell-ec720f4d7713a990",
          "locked": true,
          "schema_version": 3,
          "solution": false
        }
      },
      "source": [
        "# Homework 5: Generators\n",
        "## CSE 30 Spring 2023\n",
        "\n",
        "## \n",
        "Copyright CC-BY-NC License."
      ]
    },
    {
      "attachments": {},
      "cell_type": "markdown",
      "metadata": {
        "deletable": false,
        "editable": false,
        "id": "wiBwjjLe0ZkQ",
        "nbgrader": {
          "cell_type": "markdown",
          "checksum": "73d02217e79d38f873615e20fe76c483",
          "grade": false,
          "grade_id": "cell-e12128a701c106f5",
          "locked": true,
          "schema_version": 3,
          "solution": false
        }
      },
      "source": [
        "# Instructions\n",
        "\n",
        "## The Format of a Python Notebook\n",
        "\n",
        "*This* is a Python Notebook homework.  It consists of various types of cells: \n",
        "\n",
        "* Text: you can read them :-) \n",
        "* Code: you should run them, as they may set up the problems that you are asked to solve.\n",
        "* **Solution:** These are cells where you should enter a solution.  You will see a marker in these cells that indicates where your work should be inserted.  \n",
        "\n",
        "```\n",
        "    # YOUR CODE HERE\n",
        "```    \n",
        "\n",
        "* Test: These cells contains some tests, and are worth some points.  You should run the cells as a way to debug your code, and to see if you understood the question, and whether the output of your code is produced in the correct format.  The notebook contains both the tests you see, and some secret ones that you cannot see.  This prevents you from using the simple trick of hard-coding the desired output. "
      ]
    },
    {
      "attachments": {},
      "cell_type": "markdown",
      "metadata": {
        "deletable": false,
        "editable": false,
        "id": "laHtNNeJ0ZkR",
        "nbgrader": {
          "cell_type": "markdown",
          "checksum": "ab12fee9413e3248545a1efc3cc5c7ed",
          "grade": false,
          "grade_id": "cell-76fb73a688446a88",
          "locked": true,
          "schema_version": 3,
          "solution": false
        }
      },
      "source": [
        "## Running your notebook\n",
        "\n",
        "**Running a cell.**\n",
        "To run a cell of the notebook, either click on the icon to its top left, or press shift-ENTER (or shift-Return). \n",
        "\n",
        "**Disconnections.**\n",
        "When you open a notebook, Google automatically connects a server to the web page, so that you can type code in your browser, and the code is run on that server.  If you are idle for more than a few minutes, Google keeps all you typed (none of your work is lost), but the server may be disconnected due to inactivity.  When the server is disconnected, it loses all memory of anything you have defined (functions, classes, variables, etc). \n",
        "\n",
        "If you do get disconnected, select Runtime > Run All (or Runtime > Run before) to ensure everything is defined as it should. \n",
        "\n",
        "### DO NOT\n",
        "\n",
        "* **Do not add, delete, reorder, remove cells.**  This breaks the relationship between your work, and the grading system, making it impossible to grade your work.\n",
        "\n",
        "### Debugging\n",
        "To debug, you can add print statements to your code.  They should have no effect on the tests.  Just be careful that if you add too many of them inside loops and similar, you may cause for some of the tests we will do such an enormous amount of output that grading might timeout (and you may not get credit for an answer). \n",
        "\n",
        "### Asking for help\n",
        "The tutors and TAs should have access to the notebook; otherwise, you can always share a link with them.  In this way, they can take a look at your work and help you with debugging and with any questions you might have."
      ]
    },
    {
      "attachments": {},
      "cell_type": "markdown",
      "metadata": {
        "deletable": false,
        "editable": false,
        "id": "WPmVaE900ZkS",
        "nbgrader": {
          "cell_type": "markdown",
          "checksum": "5c58536b5c5e51ae3f3c0835e7d9390c",
          "grade": false,
          "grade_id": "cell-99682c91d768aa5f",
          "locked": true,
          "schema_version": 3,
          "solution": false
        }
      },
      "source": [
        "## Submitting Your Notebook\n",
        "\n",
        "To submit:\n",
        "* **Check your work.** Before submitting, select Runtime > Restart and Run All, and check that you don't get any unexpected error. \n",
        "* **Download the notebook.** Click on File > Download .ipynb . **Do not download the .py file.**\n",
        "* **Upload.** Upload the .ipynb file to **[this Google form](https://docs.google.com/forms/d/e/1FAIpQLSfaQb2Q8BM0-wQVrN54ONgwuAFmejrguaSc2CqP8eJ5rLNDkQ/viewform?usp=sf_link\n",
        ")**. \n"
      ]
    },
    {
      "attachments": {},
      "cell_type": "markdown",
      "metadata": {
        "deletable": false,
        "editable": false,
        "id": "rWbs8Px90ZkT",
        "nbgrader": {
          "cell_type": "markdown",
          "checksum": "708e18b298c28eadffdb3cc728a8179f",
          "grade": false,
          "grade_id": "cell-1907f68a602e078a",
          "locked": true,
          "schema_version": 3,
          "solution": false
        }
      },
      "source": [
        "## Tools\n",
        "\n",
        "Here are some tools to help testing the homework."
      ]
    },
    {
      "cell_type": "code",
      "execution_count": 2,
      "metadata": {
        "deletable": false,
        "editable": false,
        "id": "NOT1dCR10ZkU",
        "nbgrader": {
          "cell_type": "code",
          "checksum": "41d78b71eefc939313eb0f8dfe9ea07c",
          "grade": false,
          "grade_id": "cell-a6316959e5fc22b6",
          "locked": true,
          "schema_version": 3,
          "solution": false
        }
      },
      "outputs": [],
      "source": [
        "# Let me define the function I use for testing.  Don't change this cell.\n",
        "\n",
        "def check_equal(x, y, msg=None):\n",
        "    if x == y:\n",
        "        if msg is None:\n",
        "            print(\"Success\")\n",
        "        else:\n",
        "            print(msg, \": Success\")\n",
        "    else:\n",
        "        if msg is None:\n",
        "            print(\"Error:\")\n",
        "        else:\n",
        "            print(\"Error in\", msg, \":\")\n",
        "        print(\"    Your answer was:\", x)\n",
        "        print(\"    Correct answer: \", y)\n",
        "    assert x == y, \"%r and %r are different\" % (x, y)\n"
      ]
    },
    {
      "cell_type": "code",
      "execution_count": 3,
      "metadata": {
        "deletable": false,
        "editable": false,
        "id": "msfhqtiB0ZkW",
        "nbgrader": {
          "cell_type": "code",
          "checksum": "b7444750e68ebef1a8073dd314178be1",
          "grade": false,
          "grade_id": "cell-4b33b8f594e64ff3",
          "locked": true,
          "schema_version": 3,
          "solution": false
        }
      },
      "outputs": [],
      "source": [
        "def subsets_set(subs_iterator):\n",
        "    \"\"\"Given an iterator subs_iterator that iterates over subsets, returns the\n",
        "    set of the frozensets yielded by the iterator.  We use frozensets as\n",
        "    frozensets can be put in a set.\"\"\"\n",
        "    subsets = set()\n",
        "    for s in subs_iterator:\n",
        "        subsets.add(frozenset(s))\n",
        "    return subsets\n"
      ]
    },
    {
      "cell_type": "code",
      "execution_count": 4,
      "metadata": {
        "colab": {
          "base_uri": "https://localhost:8080/"
        },
        "deletable": false,
        "editable": false,
        "id": "7PV00W9o0ZkX",
        "nbgrader": {
          "cell_type": "code",
          "checksum": "dce910b1093830f989a31985131e6ea3",
          "grade": false,
          "grade_id": "cell-e9dd433a98451c38",
          "locked": true,
          "schema_version": 3,
          "solution": false
        },
        "outputId": "dbe4e42b-cc04-4a4e-fb83-a7f133802183"
      },
      "outputs": [
        {
          "data": {
            "text/plain": [
              "{frozenset({3}), frozenset({4, 6}), frozenset({4, 5})}"
            ]
          },
          "execution_count": 4,
          "metadata": {},
          "output_type": "execute_result"
        }
      ],
      "source": [
        "# Here is an example of how the above is used.\n",
        "\n",
        "def subsets():\n",
        "    yield {3}\n",
        "    yield {4, 5}\n",
        "    yield {4, 6}\n",
        "\n",
        "subsets_set(subsets())\n"
      ]
    },
    {
      "attachments": {},
      "cell_type": "markdown",
      "metadata": {
        "deletable": false,
        "editable": false,
        "id": "KJyibp2M0ZkX",
        "nbgrader": {
          "cell_type": "markdown",
          "checksum": "9b220efc8ddadaad2f83d1af8e4f0fc4",
          "grade": false,
          "grade_id": "cell-3639ad3f8c99195b",
          "locked": true,
          "schema_version": 3,
          "solution": false
        }
      },
      "source": [
        "## Question 1: An iterator that yields all prime numbers"
      ]
    },
    {
      "attachments": {},
      "cell_type": "markdown",
      "metadata": {
        "deletable": false,
        "editable": false,
        "id": "hHCcMmg30ZkX",
        "nbgrader": {
          "cell_type": "markdown",
          "checksum": "38caf681ed0624ded3e776138f4cb575",
          "grade": false,
          "grade_id": "cell-f836b83ec5f908e9",
          "locked": true,
          "schema_version": 3,
          "solution": false
        }
      },
      "source": [
        "Here's an iterator that produces all numbers that are not divisible by 2, 3, or 5: "
      ]
    },
    {
      "cell_type": "code",
      "execution_count": 5,
      "metadata": {
        "colab": {
          "base_uri": "https://localhost:8080/"
        },
        "deletable": false,
        "editable": false,
        "id": "uhTLZCWC0ZkZ",
        "nbgrader": {
          "cell_type": "code",
          "checksum": "520b3731b9660c9653885429a035f4da",
          "grade": false,
          "grade_id": "cell-26659accbfd40c71",
          "locked": true,
          "schema_version": 3,
          "solution": false
        },
        "outputId": "ccb43002-437a-4d56-c6c5-31ec72f5a221"
      },
      "outputs": [
        {
          "name": "stdout",
          "output_type": "stream",
          "text": [
            "1\n",
            "7\n",
            "11\n",
            "13\n",
            "17\n",
            "19\n",
            "23\n"
          ]
        }
      ],
      "source": [
        "def not_div_235():\n",
        "    i = 0\n",
        "    while True:\n",
        "        if (i % 2) * (i % 3) * (i % 5) > 0:\n",
        "            yield i\n",
        "        i += 1\n",
        "\n",
        "for n in not_div_235():\n",
        "    print(n)\n",
        "    if n > 20:\n",
        "        break\n"
      ]
    },
    {
      "attachments": {},
      "cell_type": "markdown",
      "metadata": {
        "deletable": false,
        "editable": false,
        "id": "sjtHyrMQ0ZkZ",
        "nbgrader": {
          "cell_type": "markdown",
          "checksum": "b9fb5448fb609f520e1ddfa8c2e12eb8",
          "grade": false,
          "grade_id": "cell-c70ccd84810fff4b",
          "locked": true,
          "schema_version": 3,
          "solution": false
        }
      },
      "source": [
        "For Question 1, build an iterator that returns all the prime numbers.  The idea is to loop over all positive integers, test each one to see if it is prime, and if it is, `yield` it. "
      ]
    },
    {
      "cell_type": "code",
      "execution_count": 6,
      "metadata": {
        "deletable": false,
        "id": "7dV3ybkl0ZkZ",
        "nbgrader": {
          "cell_type": "code",
          "checksum": "866eb2110d75fc2c156d9bf73cc3de6a",
          "grade": false,
          "grade_id": "cell-cba1ae6e03419a32",
          "locked": false,
          "schema_version": 3,
          "solution": true
        }
      },
      "outputs": [],
      "source": [
        "### Question 1: implement a prime number generator\n",
        "\n",
        "# My solution is simple and not particularly optimized,\n",
        "# and it is 12 lines long.\n",
        "\n",
        "def prime_number_generator():\n",
        "    \"\"\"This generator returns all prime numbers.\"\"\"\n",
        "    # YOUR CODE HERE\n",
        "\n",
        "    #For this question I am using the trial division test\n",
        "    #For this on each iteration we divide our number by all the other previous primes that are smaller than sqrt(number)\n",
        "    #https://www.wikihow.com/Check-if-a-Number-Is-Prime\n",
        "\n",
        "    i = 0\n",
        "\n",
        "    previous_primes = []\n",
        "\n",
        "    \n",
        "    while True:\n",
        "\n",
        "        isit = True\n",
        "\n",
        "        if i == 0 or i == 1:\n",
        "\n",
        "            i+=1\n",
        "\n",
        "        elif i==2:\n",
        "\n",
        "            yield 2\n",
        "\n",
        "            i+=1\n",
        "\n",
        "            previous_primes.append(2)\n",
        "\n",
        "        else:\n",
        "\n",
        "            for prime in previous_primes:\n",
        "\n",
        "                if prime <= (i)**0.5 and i%prime == 0:\n",
        "                    \n",
        "                    isit = False                    \n",
        "\n",
        "                    \n",
        "            if isit:\n",
        "                yield i\n",
        "                previous_primes.append(i)\n",
        "\n",
        "            i+=1\n"
      ]
    },
    {
      "cell_type": "code",
      "execution_count": 7,
      "metadata": {
        "colab": {
          "base_uri": "https://localhost:8080/"
        },
        "deletable": false,
        "editable": false,
        "id": "f5lFfMnO0ZkZ",
        "nbgrader": {
          "cell_type": "code",
          "checksum": "1cac0797183a079671e4b06ef99d70a1",
          "grade": false,
          "grade_id": "cell-cd087b674d43e0d8",
          "locked": true,
          "schema_version": 3,
          "solution": false
        },
        "outputId": "35dd5bad-6611-4f6e-c7b3-240131784f49"
      },
      "outputs": [
        {
          "name": "stdout",
          "output_type": "stream",
          "text": [
            "2\n",
            "3\n",
            "5\n",
            "7\n",
            "11\n",
            "13\n",
            "17\n",
            "19\n",
            "23\n",
            "29\n"
          ]
        }
      ],
      "source": [
        "i = 0\n",
        "for n in prime_number_generator():\n",
        "    print(n)\n",
        "    i += 1\n",
        "    if i == 10:\n",
        "        break\n"
      ]
    },
    {
      "cell_type": "code",
      "execution_count": 8,
      "metadata": {
        "deletable": false,
        "id": "8fEKJR3V0Zkb",
        "nbgrader": {
          "cell_type": "code",
          "checksum": "05b79645b7c116ddd542c9d1ddab5032",
          "grade": false,
          "grade_id": "cell-a2e28e8dc32d3aa1",
          "locked": false,
          "schema_version": 3,
          "solution": true
        }
      },
      "outputs": [],
      "source": [
        "# This is a place where you can write additional tests to help you test\n",
        "# your code, or debugging code, if you need.  You can also leave it blank.\n",
        "\n",
        "# YOUR CODE HERE\n"
      ]
    },
    {
      "cell_type": "code",
      "execution_count": 9,
      "metadata": {
        "deletable": false,
        "editable": false,
        "id": "UhOXrlQT0Zkb",
        "nbgrader": {
          "cell_type": "code",
          "checksum": "ebff62e79627eceb0b3eddd3886f0e7b",
          "grade": true,
          "grade_id": "cell-356198d660306a64",
          "locked": true,
          "points": 10,
          "schema_version": 3,
          "solution": false
        }
      },
      "outputs": [],
      "source": [
        "### 10 points: Tests for `prime_number_generator`\n",
        "\n",
        "for n in prime_number_generator():\n",
        "    if n == 33:\n",
        "        raise Exception()\n",
        "    elif n == 37:\n",
        "        break\n",
        "\n"
      ]
    },
    {
      "attachments": {},
      "cell_type": "markdown",
      "metadata": {
        "deletable": false,
        "editable": false,
        "id": "alTUrCbo0Zkb",
        "nbgrader": {
          "cell_type": "markdown",
          "checksum": "95426abb4ca336472fe756e48557980b",
          "grade": false,
          "grade_id": "cell-dc2d86420f216515",
          "locked": true,
          "schema_version": 3,
          "solution": false
        }
      },
      "source": [
        "## Question 2: Iterating over all subsets with a given sum\n",
        "\n",
        "Here is an iterator that yields all the subsets of a given set:"
      ]
    },
    {
      "cell_type": "code",
      "execution_count": 10,
      "metadata": {
        "deletable": false,
        "editable": false,
        "id": "kasl3I_w0Zkc",
        "nbgrader": {
          "cell_type": "code",
          "checksum": "f5cabebbb6a384b08af0e30edefedaf5",
          "grade": false,
          "grade_id": "cell-61f7f2c6bb152e1e",
          "locked": true,
          "schema_version": 3,
          "solution": false
        }
      },
      "outputs": [],
      "source": [
        "def subsets(s):\n",
        "    \"\"\"Given a set s, yield all the subsets of s,\n",
        "    including s itself and the empty set.\"\"\"\n",
        "    if len(s) == 0:\n",
        "        yield set()\n",
        "    else:\n",
        "        ss = set(s)\n",
        "        x = ss.pop()\n",
        "        for t in subsets(ss):\n",
        "            yield t\n",
        "            yield t | {x}\n"
      ]
    },
    {
      "attachments": {},
      "cell_type": "markdown",
      "metadata": {
        "deletable": false,
        "editable": false,
        "id": "FWm59fI00Zkc",
        "nbgrader": {
          "cell_type": "markdown",
          "checksum": "fb2d64b9e82e957471b4f022da2868df",
          "grade": false,
          "grade_id": "cell-7fb15c52b3399b42",
          "locked": true,
          "schema_version": 3,
          "solution": false
        }
      },
      "source": [
        "Your goal is to write an iterator that iterates over all the subsets with a given sum. \n",
        "In detail, you should write a function `constant_sum_subsets(values, total)`, that takes as input: \n",
        "\n",
        "* a set `values` of non-negative numbers; \n",
        "* a non-negative number `total`, \n",
        "\n",
        "and returns an iterator that yields all subsets of `values` that sum to `total`. \n",
        "\n",
        "For instance, if `values` is $\\{1, 2, 3\\}$ and `total` is 3, then `constant_sum_subsets(values, total)` yields $\\{1, 2\\}$, and $\\{3\\}$, because those are the subsets of $\\{1, 2, 3\\}$ whose elements sum to 3. \n",
        "\n",
        "**Note:** A quick and dirty way of doing this is to use either [itertools](https://docs.python.org/3/library/itertools.html#itertools.combinations) or the `subset` function above to get an iterator over all subsets of `values`, and then filter only those which sum to `total`.  Don't do this.  Your code will be incredibly inefficient if only few subsets sum to `total`, and will in particualr fail a test case.  Rather, try to encode the requirement of what subsets need to sum to into the recursion. "
      ]
    },
    {
      "cell_type": "code",
      "execution_count": 18,
      "metadata": {
        "deletable": false,
        "id": "wCoVKlWc0Zkc",
        "nbgrader": {
          "cell_type": "code",
          "checksum": "d93737c576f34208924d3d9410988bb8",
          "grade": false,
          "grade_id": "cell-9e11af8dd2e13e36",
          "locked": false,
          "schema_version": 3,
          "solution": true
        }
      },
      "outputs": [],
      "source": [
        "def constant_sum_subsets(values, total):\n",
        "    # YOUR CODE HERE\n",
        "    #This code was inspired by the subset function given above \n",
        "\n",
        "    if len(values) != 0:\n",
        "\n",
        "        rest = set(values)\n",
        "        first = rest.pop()\n",
        "\n",
        "        if first == total:\n",
        "\n",
        "            yield {first}\n",
        "        \n",
        "        if first < total:\n",
        "\n",
        "            for subset in constant_sum_subsets(rest, total - first):\n",
        "\n",
        "                yield {first} | subset\n",
        "    \n",
        "        for subset in constant_sum_subsets(rest, total):\n",
        "\n",
        "            yield subset\n"
      ]
    },
    {
      "cell_type": "code",
      "execution_count": 19,
      "metadata": {
        "colab": {
          "base_uri": "https://localhost:8080/"
        },
        "deletable": false,
        "id": "2ANLEvRx0Zkd",
        "nbgrader": {
          "cell_type": "code",
          "checksum": "2b9f2b95add74099ca7de09479685a5f",
          "grade": false,
          "grade_id": "cell-eb02fba0514a6487",
          "locked": false,
          "schema_version": 3,
          "solution": true
        },
        "outputId": "d79863d5-3c5a-4fcd-d753-9655806be072"
      },
      "outputs": [
        {
          "name": "stdout",
          "output_type": "stream",
          "text": [
            "{1, 2}\n",
            "{3}\n"
          ]
        }
      ],
      "source": [
        "# This is a place where you can write additional tests to help you test\n",
        "# your code, or debugging code, if you need.  You can also leave it blank.\n",
        "\n",
        "# YOUR CODE HERE\n",
        "'''\n",
        "def constant_sum_subsets(values, total):\n",
        "    # YOUR CODE HERE\n",
        "\n",
        "    if len(values) == 0:\n",
        "\n",
        "        yield set()\n",
        "\n",
        "    rest = set(values)\n",
        "    first = rest.pop()\n",
        "\n",
        "    if first == total:\n",
        "\n",
        "        yield {first}\n",
        "\n",
        "    if first < total:\n",
        "\n",
        "        yield first | constant_sum_subsets(rest, total-first)\n",
        "\n",
        "    yield constant_sum_subsets(rest, total)\n",
        "            \n",
        "'''\n",
        "'''\n",
        "def constant_sum_subsets(values, total):\n",
        "    if len(values) == 0:\n",
        "        a=1\n",
        "\n",
        "    else:\n",
        "        rest = set(values)\n",
        "        first = rest.pop()\n",
        "\n",
        "        if first == total:\n",
        "            yield {first}\n",
        "\n",
        "        if first < total:\n",
        "            for subset in constant_sum_subsets(rest, total - first):\n",
        "                yield {first} | subset\n",
        "\n",
        "        for subset in constant_sum_subsets(rest, total):\n",
        "            yield subset\n",
        "\n",
        "'''\n",
        "\n",
        "\n",
        "\n",
        "for seq in constant_sum_subsets([1,2,3], 3):\n",
        "    print(seq)"
      ]
    },
    {
      "cell_type": "code",
      "execution_count": 20,
      "metadata": {
        "colab": {
          "base_uri": "https://localhost:8080/"
        },
        "deletable": false,
        "editable": false,
        "id": "wwAXNG-m0Zkd",
        "nbgrader": {
          "cell_type": "code",
          "checksum": "f280d72072ef7d93280c40d58d757dfb",
          "grade": false,
          "grade_id": "cell-b7614fe9062100a7",
          "locked": true,
          "schema_version": 3,
          "solution": false
        },
        "outputId": "dc928cb9-359e-44c3-ee06-138ed5d08ef6"
      },
      "outputs": [
        {
          "name": "stdout",
          "output_type": "stream",
          "text": [
            "{1, 2}\n",
            "{3}\n"
          ]
        }
      ],
      "source": [
        "for seq in constant_sum_subsets({1, 2, 3}, 3):\n",
        "    print(seq)\n"
      ]
    },
    {
      "cell_type": "code",
      "execution_count": 21,
      "metadata": {
        "colab": {
          "base_uri": "https://localhost:8080/"
        },
        "deletable": false,
        "editable": false,
        "id": "mNX48ErC0Zke",
        "nbgrader": {
          "cell_type": "code",
          "checksum": "9bf59241e831f0f4c21df286045da781",
          "grade": false,
          "grade_id": "cell-a23e21fe3a508951",
          "locked": true,
          "schema_version": 3,
          "solution": false
        },
        "outputId": "81ed927b-5250-491f-8e18-691fe7390bc0"
      },
      "outputs": [
        {
          "name": "stdout",
          "output_type": "stream",
          "text": [
            "{1, 2, 5}\n",
            "{1, 3, 4}\n",
            "{1, 7}\n",
            "{2, 6}\n",
            "{3, 5}\n",
            "{8}\n"
          ]
        }
      ],
      "source": [
        "for seq in constant_sum_subsets({1, 2, 3, 4, 5, 6, 7, 8}, 8):\n",
        "    print(seq)\n"
      ]
    },
    {
      "cell_type": "code",
      "execution_count": 22,
      "metadata": {
        "deletable": false,
        "editable": false,
        "id": "s5pESYNT0Zke",
        "nbgrader": {
          "cell_type": "code",
          "checksum": "6d5f7cc3fbcd7ed194dee382f07ff0e3",
          "grade": true,
          "grade_id": "cell-7a592005144fe742",
          "locked": true,
          "points": 10,
          "schema_version": 3,
          "solution": false
        }
      },
      "outputs": [],
      "source": [
        "### Simple tests. 10 points.\n",
        "\n",
        "subs1 = constant_sum_subsets({1, 2, 3}, 3)\n",
        "subs2 = {(1, 2), (3,)} # To represent {{1, 2}, {3}}\n",
        "assert subsets_set(subs1) == subsets_set(subs2)\n",
        "\n",
        "subs1 = constant_sum_subsets({1, 2, 3, 4}, 4)\n",
        "subs2 = {(1, 3), (4,)} # To represent {{1, 3}, {4}}\n",
        "assert subsets_set(subs1) == subsets_set(subs2)\n",
        "\n",
        "subs1 = constant_sum_subsets({1, 2, 3, 4, 5}, 6)\n",
        "subs2 = {(1, 2, 3), (1, 5), (2, 4)} # To represent {{1, 2, 3}, {1, 5}, {2, 4}}\n",
        "assert subsets_set(subs1) == subsets_set(subs2)\n",
        "\n"
      ]
    },
    {
      "cell_type": "code",
      "execution_count": 23,
      "metadata": {
        "deletable": false,
        "editable": false,
        "id": "4cHFGC5A0Zke",
        "nbgrader": {
          "cell_type": "code",
          "checksum": "9bbd14c4c9f1cf68f565431dd9810e17",
          "grade": true,
          "grade_id": "cell-b3d1b6f71fb5ba6",
          "locked": true,
          "points": 10,
          "schema_version": 3,
          "solution": false
        }
      },
      "outputs": [],
      "source": [
        "### Advanced test. 10 points.\n",
        "\n",
        "# This test fails if you are not smart about using the fact that values are all non-negatives.\n",
        "values = set(range(10000, 10100))\n",
        "num = 0\n",
        "for _ in constant_sum_subsets(values, 2000):\n",
        "    num += 1\n",
        "assert num == 0\n",
        "\n",
        "values = set(range(10000, 10100))\n",
        "num = 0\n",
        "for _ in constant_sum_subsets(values, 20020):\n",
        "    num += 1\n",
        "assert num == 10\n",
        "\n"
      ]
    },
    {
      "cell_type": "code",
      "execution_count": 24,
      "metadata": {
        "deletable": false,
        "editable": false,
        "id": "QlMWBRuF0Zkf",
        "nbgrader": {
          "cell_type": "code",
          "checksum": "618c1c0a3b8d6844ead543737a52c1c2",
          "grade": true,
          "grade_id": "cell-528d92c17b7172a9",
          "locked": true,
          "points": 10,
          "schema_version": 3,
          "solution": false
        }
      },
      "outputs": [],
      "source": [
        "### Final tests, hidden. 10 points.\n",
        "# This compares your solution with a known good solution.\n",
        "\n",
        "pass\n",
        "\n"
      ]
    }
  ],
  "metadata": {
    "colab": {
      "provenance": []
    },
    "kernelspec": {
      "display_name": "Python 3 (ipykernel)",
      "language": "python",
      "name": "python3"
    },
    "language_info": {
      "codemirror_mode": {
        "name": "ipython",
        "version": 3
      },
      "file_extension": ".py",
      "mimetype": "text/x-python",
      "name": "python",
      "nbconvert_exporter": "python",
      "pygments_lexer": "ipython3",
      "version": "3.11.0"
    }
  },
  "nbformat": 4,
  "nbformat_minor": 0
}
